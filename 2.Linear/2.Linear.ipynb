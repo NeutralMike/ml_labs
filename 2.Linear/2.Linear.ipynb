{
 "cells": [
  {
   "cell_type": "code",
   "execution_count": 80,
   "metadata": {},
   "outputs": [],
   "source": [
    "import numpy as np\n",
    "import matplotlib.pyplot as plt\n",
    "from deap import creator, base, tools, algorithms\n"
   ]
  },
  {
   "cell_type": "code",
   "execution_count": 81,
   "metadata": {
    "pycharm": {
     "name": "#%%\n"
    }
   },
   "outputs": [],
   "source": [
    "class LinearRegression:\n",
    "\n",
    "    def fit(self, X, y):\n",
    "        X = np.array(X)\n",
    "        y = np.array(y)\n",
    "        self.X_train = X / (np.amax(y))\n",
    "        self.y_train = y / (np.amax(y))\n",
    "        self.N_train = X.shape[0]\n",
    "        self.M = X.shape[1]\n",
    "\n",
    "\n",
    "    def to_int_tpl_map(self, line):\n",
    "        return tuple(map(int, line.strip().split()))\n",
    "\n",
    "\n",
    "    def fit_from_file(self, file_name=None, file=None):\n",
    "        if file_name:\n",
    "            file = open(file_name)\n",
    "        raw_data = tuple(map(self.to_int_tpl_map, file.readlines()))\n",
    "        self.M = int(raw_data[0][0])\n",
    "        self.N_train = int(raw_data[1][0])\n",
    "        train_data = np.array(raw_data[2:self.N_train+2])\n",
    "        self.y_train = train_data[:, -1] / np.amax(train_data[:, -1])\n",
    "        self.X_train = train_data[:,:-1] / np.amax(train_data[:, -1])\n",
    "        self.N_test = int(raw_data[self.N_train+2][0])\n",
    "        test_data = np.array(raw_data[self.N_train+3:])\n",
    "        self.y_test = test_data[:,-1]\n",
    "        self.X_test = test_data[:,:-1]\n",
    "\n",
    "\n",
    "    def rmse_loss(self, y_pred):\n",
    "        return np.sqrt((((y_pred - self.y_train)**2).sum())/self.N_train)\n",
    "\n",
    "    def SVD(self):\n",
    "        self.w = np.linalg.pinv(self.X_train) @ self.y_train\n",
    "\n",
    "\n",
    "    def gradient(self, lr=0.01, batch_size=75, n_epochs=100000):\n",
    "\n",
    "        def loss_derivative(y, y_pred):\n",
    "            return -2 * (y - y_pred)\n",
    "        self.w = np.random.sample(self.M)\n",
    "        for it in range(n_epochs):\n",
    "            if it % batch_size == 0:\n",
    "                y_pred = self.X_train @ self.w\n",
    "                loss_der = loss_derivative(self.y_train, y_pred)\n",
    "                grad = (np.array([self.X_train[n]*loss_der[n] for n in range(self.N_train)])).sum(axis=0)/self.N_train\n",
    "                # print('grad:', ' '.join(map(str, grad)))\n",
    "            self.w = self.w - lr * grad\n",
    "\n",
    "\n",
    "    def genetic(self, n_epochs=40):\n",
    "        creator.create(\"FitnessMax\", base.Fitness, weights=(-1.0,))\n",
    "        creator.create(\"Individual\", np.ndarray, fitness=creator.FitnessMax)\n",
    "\n",
    "        toolbox = base.Toolbox()\n",
    "\n",
    "        toolbox.register(\"attr_float\", np.random.random)\n",
    "        toolbox.register(\"individual\", tools.initRepeat, creator.Individual, toolbox.attr_float, n=self.M)\n",
    "        toolbox.register(\"population\", tools.initRepeat, list, toolbox.individual)\n",
    "\n",
    "        def eval_def(individual):\n",
    "            return self.rmse_loss(self.X_train @ individual),\n",
    "\n",
    "        toolbox.register(\"evaluate\", eval_def)\n",
    "        toolbox.register(\"mate\", tools.cxTwoPoint)\n",
    "        toolbox.register(\"mutate\", tools.mutFlipBit, indpb=0.05)\n",
    "        toolbox.register(\"select\", tools.selTournament, tournsize=3)\n",
    "\n",
    "        population = toolbox.population(n=300)\n",
    "\n",
    "        for gen in range(n_epochs):\n",
    "            offspring = algorithms.varAnd(population, toolbox, cxpb=0.5, mutpb=0.1)\n",
    "            fits = toolbox.map(toolbox.evaluate, offspring)\n",
    "            for fit, ind in zip(fits, offspring):\n",
    "                ind.fitness.values = fit\n",
    "            population = toolbox.select(offspring, k=len(population))\n",
    "        self.w = tools.selBest(population, k=1)[0]\n",
    "\n",
    "\n",
    "    def nrmse_score(self, X_test=None, y_test=None):\n",
    "        if X_test:\n",
    "            self.X_test = X_test\n",
    "        if X_test:\n",
    "            self.y_test = y_test\n",
    "        y_pred = self.X_test @ self.w\n",
    "        return np.sqrt(((y_pred - self.y_test)**2).sum()/self.y_test.shape[0])/(np.amax(self.y_test) - np.amin(self.y_test))\n",
    "\n",
    "\n",
    "    def smape_score(self, X_test=None, y_test=None):\n",
    "        if X_test and y_test:\n",
    "            self.X_test = np.array(X_test)\n",
    "            self.y_test = np.array(y_test)\n",
    "            self.N_test = self.y_test.shape[0]\n",
    "        y_pred = self.X_test  @ self.w\n",
    "        return (100/self.N_test) * (np.absolute(self.y_test - y_pred)/(np.absolute(self.y_test) + np.absolute(y_pred))).sum()\n"
   ]
  },
  {
   "cell_type": "code",
   "execution_count": 82,
   "metadata": {
    "pycharm": {
     "name": "#%%\n"
    }
   },
   "outputs": [],
   "source": [
    "reg = LinearRegression()\n",
    "reg.fit_from_file(\"6.txt\")"
   ]
  },
  {
   "cell_type": "code",
   "execution_count": 83,
   "metadata": {
    "pycharm": {
     "name": "#%%\n"
    }
   },
   "outputs": [
    {
     "name": "stdout",
     "output_type": "stream",
     "text": [
      "0.392584289961708\n"
     ]
    }
   ],
   "source": [
    "reg.SVD()\n",
    "print(reg.smape_score())"
   ]
  },
  {
   "cell_type": "code",
   "execution_count": 91,
   "metadata": {
    "pycharm": {
     "name": "#%%\n"
    }
   },
   "outputs": [
    {
     "ename": "KeyboardInterrupt",
     "evalue": "",
     "output_type": "error",
     "traceback": [
      "\u001B[0;31m---------------------------------------------------------------------------\u001B[0m",
      "\u001B[0;31mKeyboardInterrupt\u001B[0m                         Traceback (most recent call last)",
      "\u001B[0;32m<ipython-input-91-18512e5da419>\u001B[0m in \u001B[0;36m<module>\u001B[0;34m\u001B[0m\n\u001B[1;32m      3\u001B[0m     \u001B[0;32mfor\u001B[0m \u001B[0mbatch_size\u001B[0m \u001B[0;32min\u001B[0m \u001B[0;34m[\u001B[0m\u001B[0;36m100\u001B[0m\u001B[0;34m,\u001B[0m \u001B[0;36m75\u001B[0m\u001B[0;34m,\u001B[0m \u001B[0;36m50\u001B[0m\u001B[0;34m,\u001B[0m \u001B[0;36m20\u001B[0m\u001B[0;34m,\u001B[0m \u001B[0;36m10\u001B[0m\u001B[0;34m,\u001B[0m \u001B[0;36m5\u001B[0m \u001B[0;34m,\u001B[0m\u001B[0;36m1\u001B[0m\u001B[0;34m]\u001B[0m\u001B[0;34m:\u001B[0m\u001B[0;34m\u001B[0m\u001B[0;34m\u001B[0m\u001B[0m\n\u001B[1;32m      4\u001B[0m         \u001B[0;32mfor\u001B[0m \u001B[0mlr\u001B[0m \u001B[0;32min\u001B[0m \u001B[0;36m10.\u001B[0m\u001B[0;34m**\u001B[0m\u001B[0mnp\u001B[0m\u001B[0;34m.\u001B[0m\u001B[0marange\u001B[0m\u001B[0;34m(\u001B[0m\u001B[0;34m-\u001B[0m\u001B[0;36m4\u001B[0m\u001B[0;34m,\u001B[0m \u001B[0;34m-\u001B[0m\u001B[0;36m1\u001B[0m\u001B[0;34m)\u001B[0m\u001B[0;34m:\u001B[0m\u001B[0;34m\u001B[0m\u001B[0;34m\u001B[0m\u001B[0m\n\u001B[0;32m----> 5\u001B[0;31m             \u001B[0mreg\u001B[0m\u001B[0;34m.\u001B[0m\u001B[0mgradient\u001B[0m\u001B[0;34m(\u001B[0m\u001B[0mlr\u001B[0m\u001B[0;34m=\u001B[0m\u001B[0mlr\u001B[0m\u001B[0;34m,\u001B[0m \u001B[0mbatch_size\u001B[0m\u001B[0;34m=\u001B[0m\u001B[0mbatch_size\u001B[0m\u001B[0;34m,\u001B[0m \u001B[0mn_epochs\u001B[0m\u001B[0;34m=\u001B[0m\u001B[0mn_epochs\u001B[0m\u001B[0;34m)\u001B[0m\u001B[0;34m\u001B[0m\u001B[0;34m\u001B[0m\u001B[0m\n\u001B[0m\u001B[1;32m      6\u001B[0m             \u001B[0msmape\u001B[0m \u001B[0;34m=\u001B[0m \u001B[0mreg\u001B[0m\u001B[0;34m.\u001B[0m\u001B[0msmape_score\u001B[0m\u001B[0;34m(\u001B[0m\u001B[0;34m)\u001B[0m\u001B[0;34m\u001B[0m\u001B[0;34m\u001B[0m\u001B[0m\n\u001B[1;32m      7\u001B[0m             \u001B[0mnrmse\u001B[0m \u001B[0;34m=\u001B[0m \u001B[0mreg\u001B[0m\u001B[0;34m.\u001B[0m\u001B[0mnrmse_score\u001B[0m\u001B[0;34m(\u001B[0m\u001B[0;34m)\u001B[0m\u001B[0;34m\u001B[0m\u001B[0;34m\u001B[0m\u001B[0m\n",
      "\u001B[0;32m<ipython-input-81-b385f3333cf3>\u001B[0m in \u001B[0;36mgradient\u001B[0;34m(self, lr, batch_size, n_epochs)\u001B[0m\n\u001B[1;32m     43\u001B[0m         \u001B[0;32mfor\u001B[0m \u001B[0mit\u001B[0m \u001B[0;32min\u001B[0m \u001B[0mrange\u001B[0m\u001B[0;34m(\u001B[0m\u001B[0mn_epochs\u001B[0m\u001B[0;34m)\u001B[0m\u001B[0;34m:\u001B[0m\u001B[0;34m\u001B[0m\u001B[0;34m\u001B[0m\u001B[0m\n\u001B[1;32m     44\u001B[0m             \u001B[0;32mif\u001B[0m \u001B[0mit\u001B[0m \u001B[0;34m%\u001B[0m \u001B[0mbatch_size\u001B[0m \u001B[0;34m==\u001B[0m \u001B[0;36m0\u001B[0m\u001B[0;34m:\u001B[0m\u001B[0;34m\u001B[0m\u001B[0;34m\u001B[0m\u001B[0m\n\u001B[0;32m---> 45\u001B[0;31m                 \u001B[0my_pred\u001B[0m \u001B[0;34m=\u001B[0m \u001B[0mself\u001B[0m\u001B[0;34m.\u001B[0m\u001B[0mX_train\u001B[0m \u001B[0;34m@\u001B[0m \u001B[0mself\u001B[0m\u001B[0;34m.\u001B[0m\u001B[0mw\u001B[0m\u001B[0;34m\u001B[0m\u001B[0;34m\u001B[0m\u001B[0m\n\u001B[0m\u001B[1;32m     46\u001B[0m                 \u001B[0mloss_der\u001B[0m \u001B[0;34m=\u001B[0m \u001B[0mloss_derivative\u001B[0m\u001B[0;34m(\u001B[0m\u001B[0mself\u001B[0m\u001B[0;34m.\u001B[0m\u001B[0my_train\u001B[0m\u001B[0;34m,\u001B[0m \u001B[0my_pred\u001B[0m\u001B[0;34m)\u001B[0m\u001B[0;34m\u001B[0m\u001B[0;34m\u001B[0m\u001B[0m\n\u001B[1;32m     47\u001B[0m                 \u001B[0mgrad\u001B[0m \u001B[0;34m=\u001B[0m \u001B[0;34m(\u001B[0m\u001B[0mnp\u001B[0m\u001B[0;34m.\u001B[0m\u001B[0marray\u001B[0m\u001B[0;34m(\u001B[0m\u001B[0;34m[\u001B[0m\u001B[0mself\u001B[0m\u001B[0;34m.\u001B[0m\u001B[0mX_train\u001B[0m\u001B[0;34m[\u001B[0m\u001B[0mn\u001B[0m\u001B[0;34m]\u001B[0m\u001B[0;34m*\u001B[0m\u001B[0mloss_der\u001B[0m\u001B[0;34m[\u001B[0m\u001B[0mn\u001B[0m\u001B[0;34m]\u001B[0m \u001B[0;32mfor\u001B[0m \u001B[0mn\u001B[0m \u001B[0;32min\u001B[0m \u001B[0mrange\u001B[0m\u001B[0;34m(\u001B[0m\u001B[0mself\u001B[0m\u001B[0;34m.\u001B[0m\u001B[0mN_train\u001B[0m\u001B[0;34m)\u001B[0m\u001B[0;34m]\u001B[0m\u001B[0;34m)\u001B[0m\u001B[0;34m)\u001B[0m\u001B[0;34m.\u001B[0m\u001B[0msum\u001B[0m\u001B[0;34m(\u001B[0m\u001B[0maxis\u001B[0m\u001B[0;34m=\u001B[0m\u001B[0;36m0\u001B[0m\u001B[0;34m)\u001B[0m\u001B[0;34m/\u001B[0m\u001B[0mself\u001B[0m\u001B[0;34m.\u001B[0m\u001B[0mN_train\u001B[0m\u001B[0;34m\u001B[0m\u001B[0;34m\u001B[0m\u001B[0m\n",
      "\u001B[0;31mKeyboardInterrupt\u001B[0m: "
     ]
    }
   ],
   "source": [
    "grad_res = []\n",
    "for n_epochs in [100, 500, 1000, 10000, 100000]:\n",
    "    for batch_size in [100, 75, 50, 20, 10, 5 ,1]:\n",
    "        for lr in 10.**np.arange(-4, -1):\n",
    "            reg.gradient(lr=lr, batch_size=batch_size, n_epochs=n_epochs)\n",
    "            smape = reg.smape_score()\n",
    "            nrmse = reg.nrmse_score()\n",
    "            grad_res.append([lr, batch_size, n_epochs, smape, nrmse])\n",
    "            # print('gradient: lr_%f, batch_size_%d, n_epochs_%d',smape)\n",
    "\n",
    "sorted_res = sorted(grad_res, key=lambda x: x[4])[:10]\n",
    "print('grad_top10: lr    batch size  n epochs    smape   nrmse\\n', '\\n'.join([' '.join(map(str, line)) for line in sorted_res]))"
   ]
  },
  {
   "cell_type": "code",
   "execution_count": 88,
   "metadata": {
    "pycharm": {
     "name": "#%%\n"
    }
   },
   "outputs": [],
   "source": [
    "grad_top5 = sorted_res"
   ]
  },
  {
   "cell_type": "code",
   "execution_count": 90,
   "metadata": {
    "pycharm": {
     "name": "#%%\n"
    }
   },
   "outputs": [
    {
     "name": "stdout",
     "output_type": "stream",
     "text": [
      "grad_top5: lr    batch size  n epochs    smape   nrmse\n",
      " 0.01 75 100000 26.213445944444892 0.017366417192188552\n",
      "0.01 1 100000 25.98474621525909 0.018002143879088627\n",
      "0.01 5 100000 27.112670186866055 0.018171998859694727\n",
      "0.01 10 100000 27.59684713741623 0.018187273863677935\n",
      "0.01 20 100000 27.38601990655287 0.018368273190655936\n",
      "0.01 100 100000 28.8743298396281 0.01912579351657491\n",
      "0.01 50 100000 28.342576122650325 0.019461942225753776\n",
      "0.01 1 10000 52.52896243580159 0.04615388597918634\n",
      "0.001 1 100000 50.53575758471458 0.04657324150306936\n",
      "0.01 100 10000 51.896502844179516 0.04754864603545642\n"
     ]
    }
   ],
   "source": [
    "print('grad_top5: lr    batch size  n epochs    smape   nrmse\\n', '\\n'.join([' '.join(map(str, line)) for line in grad_top5]))"
   ]
  },
  {
   "cell_type": "code",
   "execution_count": 49,
   "metadata": {
    "pycharm": {
     "name": "#%%\n"
    }
   },
   "outputs": [
    {
     "name": "stdout",
     "output_type": "stream",
     "text": [
      "100... 200... 300... 400... 500... 600... 700... 800... 900... 1000... 2000... 3000... 4000... 5000... 6000... 7000... 8000... 9000... "
     ]
    }
   ],
   "source": [
    "grad_x_plot = list(range(100, 1000, 100))\n",
    "grad_x_plot.extend(list(range(1000, 10000, 1000)))\n",
    "# grad_x_plot.extend(list(range(10000, 100001, 10000)))\n",
    "grad_y_plot = []\n",
    "for n_epochs in grad_x_plot:\n",
    "    print(n_epochs, end='... ')\n",
    "    # grad_top1 = lr=grad_top5[0]\n",
    "    # reg.gradient(lr=grad_top1[0], batch_size=grad_top1[1], n_epochs=n_epochs)\n",
    "    reg.gradient(n_epochs=n_epochs)\n",
    "    grad_y_plot.append(reg.smape_score())\n"
   ]
  },
  {
   "cell_type": "code",
   "execution_count": 133,
   "metadata": {
    "pycharm": {
     "name": "#%%\n"
    }
   },
   "outputs": [],
   "source": [
    "grad_x_plot_copy = grad_x_plot.copy()\n",
    "grad_y_plot_copy = grad_y_plot.copy()"
   ]
  },
  {
   "cell_type": "code",
   "execution_count": 56,
   "metadata": {
    "pycharm": {
     "name": "#%%\n"
    }
   },
   "outputs": [
    {
     "data": {
      "image/png": "[encoded data removed]",
      "text/plain": [
       "<Figure size 432x288 with 1 Axes>"
      ]
     },
     "metadata": {
      "needs_background": "light"
     },
     "output_type": "display_data"
    }
   ],
   "source": [
    "%matplotlib inline\n",
    "plt.plot([ s/100 for s in grad_x_plot], grad_y_plot)\n",
    "plt.title(\"Gradient\")\n",
    "plt.ylabel('SMAPE', fontsize=16)\n",
    "plt.xlabel('10^3 n epochs', fontsize=16)\n",
    "plt.xticks(list(range(0,100,10)))\n",
    "plt.yticks(list(range(int(min(grad_y_plot)//5)*5, int(max(grad_y_plot)//5 +2)*5,5)))\n",
    "plt.show()"
   ]
  },
  {
   "cell_type": "code",
   "execution_count": 84,
   "metadata": {
    "pycharm": {
     "name": "#%%\n"
    }
   },
   "outputs": [
    {
     "name": "stdout",
     "output_type": "stream",
     "text": [
      "0.0005052177893395452\n",
      "0.28380629240613653\n"
     ]
    }
   ],
   "source": [
    "reg.genetic()\n",
    "print(reg.nrmse_score())\n",
    "print(reg.smape_score())"
   ]
  },
  {
   "cell_type": "code",
   "execution_count": 85,
   "metadata": {
    "pycharm": {
     "name": "#%%\n"
    }
   },
   "outputs": [
    {
     "name": "stdout",
     "output_type": "stream",
     "text": [
      "0... 23.862566946528446\n",
      "1... 23.862566946528446 3.4676332684280697\n",
      "2... 23.862566946528446 3.4676332684280697 4.342922013598297\n",
      "3... 23.862566946528446 3.4676332684280697 4.342922013598297 1.7923630838235158\n",
      "4... 23.862566946528446 3.4676332684280697 4.342922013598297 1.7923630838235158 3.9311317071424696\n",
      "5... 23.862566946528446 3.4676332684280697 4.342922013598297 1.7923630838235158 3.9311317071424696 1.7010612334911246\n",
      "6... 23.862566946528446 3.4676332684280697 4.342922013598297 1.7923630838235158 3.9311317071424696 1.7010612334911246 3.2025028026569613\n",
      "7... 23.862566946528446 3.4676332684280697 4.342922013598297 1.7923630838235158 3.9311317071424696 1.7010612334911246 3.2025028026569613 2.115287870567201\n",
      "8... 23.862566946528446 3.4676332684280697 4.342922013598297 1.7923630838235158 3.9311317071424696 1.7010612334911246 3.2025028026569613 2.115287870567201 1.7771375553143405\n",
      "9... 23.862566946528446 3.4676332684280697 4.342922013598297 1.7923630838235158 3.9311317071424696 1.7010612334911246 3.2025028026569613 2.115287870567201 1.7771375553143405 3.192868090915782\n",
      "10... 23.862566946528446 3.4676332684280697 4.342922013598297 1.7923630838235158 3.9311317071424696 1.7010612334911246 3.2025028026569613 2.115287870567201 1.7771375553143405 3.192868090915782 2.0975977877718606\n",
      "11... 23.862566946528446 3.4676332684280697 4.342922013598297 1.7923630838235158 3.9311317071424696 1.7010612334911246 3.2025028026569613 2.115287870567201 1.7771375553143405 3.192868090915782 2.0975977877718606 2.460643898107567\n",
      "12... 23.862566946528446 3.4676332684280697 4.342922013598297 1.7923630838235158 3.9311317071424696 1.7010612334911246 3.2025028026569613 2.115287870567201 1.7771375553143405 3.192868090915782 2.0975977877718606 2.460643898107567 0.24435538672404172\n",
      "13... 23.862566946528446 3.4676332684280697 4.342922013598297 1.7923630838235158 3.9311317071424696 1.7010612334911246 3.2025028026569613 2.115287870567201 1.7771375553143405 3.192868090915782 2.0975977877718606 2.460643898107567 0.24435538672404172 2.097842489767604\n",
      "14... 23.862566946528446 3.4676332684280697 4.342922013598297 1.7923630838235158 3.9311317071424696 1.7010612334911246 3.2025028026569613 2.115287870567201 1.7771375553143405 3.192868090915782 2.0975977877718606 2.460643898107567 0.24435538672404172 2.097842489767604 1.4226393062816824\n",
      "15... 23.862566946528446 3.4676332684280697 4.342922013598297 1.7923630838235158 3.9311317071424696 1.7010612334911246 3.2025028026569613 2.115287870567201 1.7771375553143405 3.192868090915782 2.0975977877718606 2.460643898107567 0.24435538672404172 2.097842489767604 1.4226393062816824 2.2297733653877208\n",
      "16... 23.862566946528446 3.4676332684280697 4.342922013598297 1.7923630838235158 3.9311317071424696 1.7010612334911246 3.2025028026569613 2.115287870567201 1.7771375553143405 3.192868090915782 2.0975977877718606 2.460643898107567 0.24435538672404172 2.097842489767604 1.4226393062816824 2.2297733653877208 2.3294281609979497\n",
      "17... 23.862566946528446 3.4676332684280697 4.342922013598297 1.7923630838235158 3.9311317071424696 1.7010612334911246 3.2025028026569613 2.115287870567201 1.7771375553143405 3.192868090915782 2.0975977877718606 2.460643898107567 0.24435538672404172 2.097842489767604 1.4226393062816824 2.2297733653877208 2.3294281609979497 1.9364051056824843\n",
      "18... 23.862566946528446 3.4676332684280697 4.342922013598297 1.7923630838235158 3.9311317071424696 1.7010612334911246 3.2025028026569613 2.115287870567201 1.7771375553143405 3.192868090915782 2.0975977877718606 2.460643898107567 0.24435538672404172 2.097842489767604 1.4226393062816824 2.2297733653877208 2.3294281609979497 1.9364051056824843 0.5345449457870305\n",
      "19... 23.862566946528446 3.4676332684280697 4.342922013598297 1.7923630838235158 3.9311317071424696 1.7010612334911246 3.2025028026569613 2.115287870567201 1.7771375553143405 3.192868090915782 2.0975977877718606 2.460643898107567 0.24435538672404172 2.097842489767604 1.4226393062816824 2.2297733653877208 2.3294281609979497 1.9364051056824843 0.5345449457870305 1.0182381979542694\n",
      "20... 23.862566946528446 3.4676332684280697 4.342922013598297 1.7923630838235158 3.9311317071424696 1.7010612334911246 3.2025028026569613 2.115287870567201 1.7771375553143405 3.192868090915782 2.0975977877718606 2.460643898107567 0.24435538672404172 2.097842489767604 1.4226393062816824 2.2297733653877208 2.3294281609979497 1.9364051056824843 0.5345449457870305 1.0182381979542694 0.39640684569612866\n",
      "21... 23.862566946528446 3.4676332684280697 4.342922013598297 1.7923630838235158 3.9311317071424696 1.7010612334911246 3.2025028026569613 2.115287870567201 1.7771375553143405 3.192868090915782 2.0975977877718606 2.460643898107567 0.24435538672404172 2.097842489767604 1.4226393062816824 2.2297733653877208 2.3294281609979497 1.9364051056824843 0.5345449457870305 1.0182381979542694 0.39640684569612866 1.0958166198214672\n",
      "22... 23.862566946528446 3.4676332684280697 4.342922013598297 1.7923630838235158 3.9311317071424696 1.7010612334911246 3.2025028026569613 2.115287870567201 1.7771375553143405 3.192868090915782 2.0975977877718606 2.460643898107567 0.24435538672404172 2.097842489767604 1.4226393062816824 2.2297733653877208 2.3294281609979497 1.9364051056824843 0.5345449457870305 1.0182381979542694 0.39640684569612866 1.0958166198214672 0.9559537359658747\n",
      "23... 23.862566946528446 3.4676332684280697 4.342922013598297 1.7923630838235158 3.9311317071424696 1.7010612334911246 3.2025028026569613 2.115287870567201 1.7771375553143405 3.192868090915782 2.0975977877718606 2.460643898107567 0.24435538672404172 2.097842489767604 1.4226393062816824 2.2297733653877208 2.3294281609979497 1.9364051056824843 0.5345449457870305 1.0182381979542694 0.39640684569612866 1.0958166198214672 0.9559537359658747 0.6249066325258499\n",
      "24... 23.862566946528446 3.4676332684280697 4.342922013598297 1.7923630838235158 3.9311317071424696 1.7010612334911246 3.2025028026569613 2.115287870567201 1.7771375553143405 3.192868090915782 2.0975977877718606 2.460643898107567 0.24435538672404172 2.097842489767604 1.4226393062816824 2.2297733653877208 2.3294281609979497 1.9364051056824843 0.5345449457870305 1.0182381979542694 0.39640684569612866 1.0958166198214672 0.9559537359658747 0.6249066325258499 1.89185603756344\n",
      "25... 23.862566946528446 3.4676332684280697 4.342922013598297 1.7923630838235158 3.9311317071424696 1.7010612334911246 3.2025028026569613 2.115287870567201 1.7771375553143405 3.192868090915782 2.0975977877718606 2.460643898107567 0.24435538672404172 2.097842489767604 1.4226393062816824 2.2297733653877208 2.3294281609979497 1.9364051056824843 0.5345449457870305 1.0182381979542694 0.39640684569612866 1.0958166198214672 0.9559537359658747 0.6249066325258499 1.89185603756344 0.6623684132418081\n",
      "26... 23.862566946528446 3.4676332684280697 4.342922013598297 1.7923630838235158 3.9311317071424696 1.7010612334911246 3.2025028026569613 2.115287870567201 1.7771375553143405 3.192868090915782 2.0975977877718606 2.460643898107567 0.24435538672404172 2.097842489767604 1.4226393062816824 2.2297733653877208 2.3294281609979497 1.9364051056824843 0.5345449457870305 1.0182381979542694 0.39640684569612866 1.0958166198214672 0.9559537359658747 0.6249066325258499 1.89185603756344 0.6623684132418081 0.8229708712867317\n",
      "27... 23.862566946528446 3.4676332684280697 4.342922013598297 1.7923630838235158 3.9311317071424696 1.7010612334911246 3.2025028026569613 2.115287870567201 1.7771375553143405 3.192868090915782 2.0975977877718606 2.460643898107567 0.24435538672404172 2.097842489767604 1.4226393062816824 2.2297733653877208 2.3294281609979497 1.9364051056824843 0.5345449457870305 1.0182381979542694 0.39640684569612866 1.0958166198214672 0.9559537359658747 0.6249066325258499 1.89185603756344 0.6623684132418081 0.8229708712867317 0.41877493314088565\n",
      "28... 23.862566946528446 3.4676332684280697 4.342922013598297 1.7923630838235158 3.9311317071424696 1.7010612334911246 3.2025028026569613 2.115287870567201 1.7771375553143405 3.192868090915782 2.0975977877718606 2.460643898107567 0.24435538672404172 2.097842489767604 1.4226393062816824 2.2297733653877208 2.3294281609979497 1.9364051056824843 0.5345449457870305 1.0182381979542694 0.39640684569612866 1.0958166198214672 0.9559537359658747 0.6249066325258499 1.89185603756344 0.6623684132418081 0.8229708712867317 0.41877493314088565 1.4144248872137877\n"
     ]
    },
    {
     "name": "stdout",
     "output_type": "stream",
     "text": [
      "29... 23.862566946528446 3.4676332684280697 4.342922013598297 1.7923630838235158 3.9311317071424696 1.7010612334911246 3.2025028026569613 2.115287870567201 1.7771375553143405 3.192868090915782 2.0975977877718606 2.460643898107567 0.24435538672404172 2.097842489767604 1.4226393062816824 2.2297733653877208 2.3294281609979497 1.9364051056824843 0.5345449457870305 1.0182381979542694 0.39640684569612866 1.0958166198214672 0.9559537359658747 0.6249066325258499 1.89185603756344 0.6623684132418081 0.8229708712867317 0.41877493314088565 1.4144248872137877 1.0979880182608863\n",
      "30... 23.862566946528446 3.4676332684280697 4.342922013598297 1.7923630838235158 3.9311317071424696 1.7010612334911246 3.2025028026569613 2.115287870567201 1.7771375553143405 3.192868090915782 2.0975977877718606 2.460643898107567 0.24435538672404172 2.097842489767604 1.4226393062816824 2.2297733653877208 2.3294281609979497 1.9364051056824843 0.5345449457870305 1.0182381979542694 0.39640684569612866 1.0958166198214672 0.9559537359658747 0.6249066325258499 1.89185603756344 0.6623684132418081 0.8229708712867317 0.41877493314088565 1.4144248872137877 1.0979880182608863 2.927242255445275\n",
      "31... 23.862566946528446 3.4676332684280697 4.342922013598297 1.7923630838235158 3.9311317071424696 1.7010612334911246 3.2025028026569613 2.115287870567201 1.7771375553143405 3.192868090915782 2.0975977877718606 2.460643898107567 0.24435538672404172 2.097842489767604 1.4226393062816824 2.2297733653877208 2.3294281609979497 1.9364051056824843 0.5345449457870305 1.0182381979542694 0.39640684569612866 1.0958166198214672 0.9559537359658747 0.6249066325258499 1.89185603756344 0.6623684132418081 0.8229708712867317 0.41877493314088565 1.4144248872137877 1.0979880182608863 2.927242255445275 1.3714023555263597\n",
      "32... 23.862566946528446 3.4676332684280697 4.342922013598297 1.7923630838235158 3.9311317071424696 1.7010612334911246 3.2025028026569613 2.115287870567201 1.7771375553143405 3.192868090915782 2.0975977877718606 2.460643898107567 0.24435538672404172 2.097842489767604 1.4226393062816824 2.2297733653877208 2.3294281609979497 1.9364051056824843 0.5345449457870305 1.0182381979542694 0.39640684569612866 1.0958166198214672 0.9559537359658747 0.6249066325258499 1.89185603756344 0.6623684132418081 0.8229708712867317 0.41877493314088565 1.4144248872137877 1.0979880182608863 2.927242255445275 1.3714023555263597 0.7194118600460405\n",
      "33... 23.862566946528446 3.4676332684280697 4.342922013598297 1.7923630838235158 3.9311317071424696 1.7010612334911246 3.2025028026569613 2.115287870567201 1.7771375553143405 3.192868090915782 2.0975977877718606 2.460643898107567 0.24435538672404172 2.097842489767604 1.4226393062816824 2.2297733653877208 2.3294281609979497 1.9364051056824843 0.5345449457870305 1.0182381979542694 0.39640684569612866 1.0958166198214672 0.9559537359658747 0.6249066325258499 1.89185603756344 0.6623684132418081 0.8229708712867317 0.41877493314088565 1.4144248872137877 1.0979880182608863 2.927242255445275 1.3714023555263597 0.7194118600460405 0.11133282860044354\n",
      "34... 23.862566946528446 3.4676332684280697 4.342922013598297 1.7923630838235158 3.9311317071424696 1.7010612334911246 3.2025028026569613 2.115287870567201 1.7771375553143405 3.192868090915782 2.0975977877718606 2.460643898107567 0.24435538672404172 2.097842489767604 1.4226393062816824 2.2297733653877208 2.3294281609979497 1.9364051056824843 0.5345449457870305 1.0182381979542694 0.39640684569612866 1.0958166198214672 0.9559537359658747 0.6249066325258499 1.89185603756344 0.6623684132418081 0.8229708712867317 0.41877493314088565 1.4144248872137877 1.0979880182608863 2.927242255445275 1.3714023555263597 0.7194118600460405 0.11133282860044354 0.9519263756506647\n",
      "35... 23.862566946528446 3.4676332684280697 4.342922013598297 1.7923630838235158 3.9311317071424696 1.7010612334911246 3.2025028026569613 2.115287870567201 1.7771375553143405 3.192868090915782 2.0975977877718606 2.460643898107567 0.24435538672404172 2.097842489767604 1.4226393062816824 2.2297733653877208 2.3294281609979497 1.9364051056824843 0.5345449457870305 1.0182381979542694 0.39640684569612866 1.0958166198214672 0.9559537359658747 0.6249066325258499 1.89185603756344 0.6623684132418081 0.8229708712867317 0.41877493314088565 1.4144248872137877 1.0979880182608863 2.927242255445275 1.3714023555263597 0.7194118600460405 0.11133282860044354 0.9519263756506647 1.1201810175708404\n",
      "36... 23.862566946528446 3.4676332684280697 4.342922013598297 1.7923630838235158 3.9311317071424696 1.7010612334911246 3.2025028026569613 2.115287870567201 1.7771375553143405 3.192868090915782 2.0975977877718606 2.460643898107567 0.24435538672404172 2.097842489767604 1.4226393062816824 2.2297733653877208 2.3294281609979497 1.9364051056824843 0.5345449457870305 1.0182381979542694 0.39640684569612866 1.0958166198214672 0.9559537359658747 0.6249066325258499 1.89185603756344 0.6623684132418081 0.8229708712867317 0.41877493314088565 1.4144248872137877 1.0979880182608863 2.927242255445275 1.3714023555263597 0.7194118600460405 0.11133282860044354 0.9519263756506647 1.1201810175708404 0.7961436074268264\n",
      "37... 23.862566946528446 3.4676332684280697 4.342922013598297 1.7923630838235158 3.9311317071424696 1.7010612334911246 3.2025028026569613 2.115287870567201 1.7771375553143405 3.192868090915782 2.0975977877718606 2.460643898107567 0.24435538672404172 2.097842489767604 1.4226393062816824 2.2297733653877208 2.3294281609979497 1.9364051056824843 0.5345449457870305 1.0182381979542694 0.39640684569612866 1.0958166198214672 0.9559537359658747 0.6249066325258499 1.89185603756344 0.6623684132418081 0.8229708712867317 0.41877493314088565 1.4144248872137877 1.0979880182608863 2.927242255445275 1.3714023555263597 0.7194118600460405 0.11133282860044354 0.9519263756506647 1.1201810175708404 0.7961436074268264 2.92334759885558\n",
      "38... 23.862566946528446 3.4676332684280697 4.342922013598297 1.7923630838235158 3.9311317071424696 1.7010612334911246 3.2025028026569613 2.115287870567201 1.7771375553143405 3.192868090915782 2.0975977877718606 2.460643898107567 0.24435538672404172 2.097842489767604 1.4226393062816824 2.2297733653877208 2.3294281609979497 1.9364051056824843 0.5345449457870305 1.0182381979542694 0.39640684569612866 1.0958166198214672 0.9559537359658747 0.6249066325258499 1.89185603756344 0.6623684132418081 0.8229708712867317 0.41877493314088565 1.4144248872137877 1.0979880182608863 2.927242255445275 1.3714023555263597 0.7194118600460405 0.11133282860044354 0.9519263756506647 1.1201810175708404 0.7961436074268264 2.92334759885558 0.563595290353442\n",
      "39... 23.862566946528446 3.4676332684280697 4.342922013598297 1.7923630838235158 3.9311317071424696 1.7010612334911246 3.2025028026569613 2.115287870567201 1.7771375553143405 3.192868090915782 2.0975977877718606 2.460643898107567 0.24435538672404172 2.097842489767604 1.4226393062816824 2.2297733653877208 2.3294281609979497 1.9364051056824843 0.5345449457870305 1.0182381979542694 0.39640684569612866 1.0958166198214672 0.9559537359658747 0.6249066325258499 1.89185603756344 0.6623684132418081 0.8229708712867317 0.41877493314088565 1.4144248872137877 1.0979880182608863 2.927242255445275 1.3714023555263597 0.7194118600460405 0.11133282860044354 0.9519263756506647 1.1201810175708404 0.7961436074268264 2.92334759885558 0.563595290353442 0.3836594114496016\n"
     ]
    }
   ],
   "source": [
    "genetic_x_plot = list(range(40))\n",
    "genetic_y_plot = []\n",
    "for n_epochs in genetic_x_plot:\n",
    "    print(n_epochs, end='... ')\n",
    "    reg.genetic(n_epochs=n_epochs)\n",
    "    genetic_y_plot.append(reg.smape_score())\n",
    "    print(' '.join(map(str, genetic_y_plot)))\n"
   ]
  },
  {
   "cell_type": "code",
   "execution_count": null,
   "metadata": {
    "pycharm": {
     "name": "#%%\n"
    }
   },
   "outputs": [],
   "source": [
    "genetic_x_plot_copy = genetic_x_plot.copy()\n",
    "genetic_y_plot_copy = genetic_y_plot.copy()"
   ]
  },
  {
   "cell_type": "code",
   "execution_count": 90,
   "metadata": {
    "pycharm": {
     "name": "#%%\n"
    }
   },
   "outputs": [
    {
     "ename": "TypeError",
     "evalue": "list expected at most 1 argument, got 2",
     "output_type": "error",
     "traceback": [
      "\u001B[0;31m---------------------------------------------------------------------------\u001B[0m",
      "\u001B[0;31mTypeError\u001B[0m                                 Traceback (most recent call last)",
      "\u001B[0;32m<ipython-input-90-f6263d197d00>\u001B[0m in \u001B[0;36m<module>\u001B[0;34m\u001B[0m\n\u001B[1;32m      5\u001B[0m \u001B[0mplt\u001B[0m\u001B[0;34m.\u001B[0m\u001B[0mxlabel\u001B[0m\u001B[0;34m(\u001B[0m\u001B[0;34m'n epochs'\u001B[0m\u001B[0;34m,\u001B[0m \u001B[0mfontsize\u001B[0m\u001B[0;34m=\u001B[0m\u001B[0;36m16\u001B[0m\u001B[0;34m)\u001B[0m\u001B[0;34m\u001B[0m\u001B[0;34m\u001B[0m\u001B[0m\n\u001B[1;32m      6\u001B[0m \u001B[0mplt\u001B[0m\u001B[0;34m.\u001B[0m\u001B[0mxticks\u001B[0m\u001B[0;34m(\u001B[0m\u001B[0mlist\u001B[0m\u001B[0;34m(\u001B[0m\u001B[0mrange\u001B[0m\u001B[0;34m(\u001B[0m\u001B[0;36m0\u001B[0m\u001B[0;34m,\u001B[0m\u001B[0;36m40\u001B[0m\u001B[0;34m,\u001B[0m\u001B[0;36m5\u001B[0m\u001B[0;34m)\u001B[0m\u001B[0;34m)\u001B[0m\u001B[0;34m)\u001B[0m\u001B[0;34m\u001B[0m\u001B[0;34m\u001B[0m\u001B[0m\n\u001B[0;32m----> 7\u001B[0;31m \u001B[0mplt\u001B[0m\u001B[0;34m.\u001B[0m\u001B[0myticks\u001B[0m\u001B[0;34m(\u001B[0m\u001B[0mlist\u001B[0m\u001B[0;34m(\u001B[0m\u001B[0mrange\u001B[0m\u001B[0;34m(\u001B[0m\u001B[0mint\u001B[0m\u001B[0;34m(\u001B[0m\u001B[0mmin\u001B[0m\u001B[0;34m(\u001B[0m\u001B[0mgenetic_y_plot\u001B[0m\u001B[0;34m)\u001B[0m\u001B[0;34m//\u001B[0m\u001B[0;36m5\u001B[0m\u001B[0;34m)\u001B[0m\u001B[0;34m*\u001B[0m\u001B[0;36m5\u001B[0m\u001B[0;34m,\u001B[0m \u001B[0mint\u001B[0m\u001B[0;34m(\u001B[0m\u001B[0mmax\u001B[0m\u001B[0;34m(\u001B[0m\u001B[0mgenetic_y_plot\u001B[0m\u001B[0;34m)\u001B[0m\u001B[0;34m//\u001B[0m\u001B[0;36m5\u001B[0m\u001B[0;34m+\u001B[0m\u001B[0;36m2\u001B[0m\u001B[0;34m)\u001B[0m\u001B[0;34m*\u001B[0m\u001B[0;36m5\u001B[0m\u001B[0;34m)\u001B[0m\u001B[0;34m,\u001B[0m \u001B[0;36m5\u001B[0m\u001B[0;34m)\u001B[0m\u001B[0;34m)\u001B[0m\u001B[0;34m\u001B[0m\u001B[0;34m\u001B[0m\u001B[0m\n\u001B[0m\u001B[1;32m      8\u001B[0m \u001B[0mplt\u001B[0m\u001B[0;34m.\u001B[0m\u001B[0mshow\u001B[0m\u001B[0;34m(\u001B[0m\u001B[0;34m)\u001B[0m\u001B[0;34m\u001B[0m\u001B[0;34m\u001B[0m\u001B[0m\n",
      "\u001B[0;31mTypeError\u001B[0m: list expected at most 1 argument, got 2"
     ]
    },
    {
     "data": {
      "image/png": "[encoded data removed]",
      "text/plain": [
       "<Figure size 432x288 with 1 Axes>"
      ]
     },
     "metadata": {
      "needs_background": "light"
     },
     "output_type": "display_data"
    }
   ],
   "source": [
    "%matplotlib inline\n",
    "plt.plot(genetic_x_plot, genetic_y_plot)\n",
    "plt.title(\"Genetic\")\n",
    "plt.ylabel('SMAPE', fontsize=16)\n",
    "plt.xlabel('n epochs', fontsize=16)\n",
    "plt.xticks(list(range(0,40,5)))\n",
    "plt.yticks(list(range(int(min(genetic_y_plot)//5)*5, int(max(genetic_y_plot)//5+2)*5), 5))\n",
    "plt.show()"
   ]
  },
  {
   "cell_type": "code",
   "execution_count": null,
   "outputs": [],
   "source": [],
   "metadata": {
    "collapsed": false,
    "pycharm": {
     "name": "#%%\n"
    }
   }
  },
  {
   "cell_type": "code",
   "execution_count": null,
   "metadata": {},
   "outputs": [],
   "source": []
  }
 ],
 "metadata": {
  "kernelspec": {
   "display_name": "Python 3",
   "language": "python",
   "name": "python3"
  },
  "language_info": {
   "codemirror_mode": {
    "name": "ipython",
    "version": 3
   },
   "file_extension": ".py",
   "mimetype": "text/x-python",
   "name": "python",
   "nbconvert_exporter": "python",
   "pygments_lexer": "ipython3",
   "version": "3.8.2"
  }
 },
 "nbformat": 4,
 "nbformat_minor": 1
}