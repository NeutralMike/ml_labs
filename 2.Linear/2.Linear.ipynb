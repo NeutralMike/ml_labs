{
 "cells": [
  {
   "cell_type": "code",
   "execution_count": 11,
   "metadata": {},
   "outputs": [],
   "source": [
    "import numpy as np\n",
    "import matplotlib.pyplot as plt\n",
    "from deap import creator, base, tools, algorithms\n"
   ]
  },
  {
   "cell_type": "code",
   "execution_count": 12,
   "metadata": {
    "pycharm": {
     "name": "#%%\n"
    }
   },
   "outputs": [],
   "source": [
    "class LinearRegression:\n",
    "\n",
    "    def fit(self, X, y):\n",
    "        X = np.array(X)\n",
    "        y = np.array(y)\n",
    "        self.X_train = X / (np.amax(y))\n",
    "        self.y_train = y / (np.amax(y))\n",
    "        self.N_train = X.shape[0]\n",
    "        self.M = X.shape[1]\n",
    "\n",
    "\n",
    "    def to_int_tpl_map(self, line):\n",
    "        return tuple(map(int, line.strip().split()))\n",
    "\n",
    "\n",
    "    def fit_from_file(self, file_name=None, file=None):\n",
    "        if file_name:\n",
    "            file = open(file_name)\n",
    "        raw_data = tuple(map(self.to_int_tpl_map, file.readlines()))\n",
    "        self.M = int(raw_data[0][0])\n",
    "        self.N_train = int(raw_data[1][0])\n",
    "        train_data = np.array(raw_data[2:self.N_train+2])\n",
    "        self.y_train = train_data[:, -1] / np.amax(train_data[:, -1])\n",
    "        self.X_train = train_data[:,:-1] / np.amax(train_data[:, -1])\n",
    "        self.N_test = int(raw_data[self.N_train+2][0])\n",
    "        test_data = np.array(raw_data[self.N_train+3:])\n",
    "        self.y_test = test_data[:,-1]\n",
    "        self.X_test = test_data[:,:-1]\n",
    "\n",
    "\n",
    "    def rmse_loss(self, y_pred):\n",
    "        return np.sqrt((((y_pred - self.y_train)**2).sum())/self.N_train)\n",
    "\n",
    "    def SVD(self):\n",
    "        self.w = np.linalg.pinv(self.X_train) @ self.y_train\n",
    "\n",
    "\n",
    "    def gradient(self, lr=0.01, batch_size=75, n_epochs=100000):\n",
    "\n",
    "        def loss_derivative(y, y_pred):\n",
    "            return -2 * (y - y_pred)\n",
    "        self.w = np.random.sample(self.M)\n",
    "        for it in range(n_epochs):\n",
    "            if it % batch_size == 0:\n",
    "                y_pred = self.X_train @ self.w\n",
    "                loss_der = loss_derivative(self.y_train, y_pred)\n",
    "                grad = (np.array([self.X_train[n]*loss_der[n] for n in range(self.N_train)])).sum(axis=0)/self.N_train\n",
    "                # print('grad:', ' '.join(map(str, grad)))\n",
    "            self.w = self.w - lr * grad\n",
    "\n",
    "\n",
    "    def genetic(self, n_epochs=40):\n",
    "        creator.create(\"FitnessMax\", base.Fitness, weights=(-1.0,))\n",
    "        creator.create(\"Individual\", np.ndarray, fitness=creator.FitnessMax)\n",
    "\n",
    "        toolbox = base.Toolbox()\n",
    "\n",
    "        toolbox.register(\"attr_float\", np.random.random)\n",
    "        toolbox.register(\"individual\", tools.initRepeat, creator.Individual, toolbox.attr_float, n=self.M)\n",
    "        toolbox.register(\"population\", tools.initRepeat, list, toolbox.individual)\n",
    "\n",
    "        def eval_def(individual):\n",
    "            return self.rmse_loss(self.X_train @ individual),\n",
    "\n",
    "        toolbox.register(\"evaluate\", eval_def)\n",
    "        toolbox.register(\"mate\", tools.cxTwoPoint)\n",
    "        toolbox.register(\"mutate\", tools.mutFlipBit, indpb=0.05)\n",
    "        toolbox.register(\"select\", tools.selTournament, tournsize=3)\n",
    "\n",
    "        population = toolbox.population(n=300)\n",
    "\n",
    "        for gen in range(n_epochs):\n",
    "            offspring = algorithms.varAnd(population, toolbox, cxpb=0.5, mutpb=0.1)\n",
    "            fits = toolbox.map(toolbox.evaluate, offspring)\n",
    "            for fit, ind in zip(fits, offspring):\n",
    "                ind.fitness.values = fit\n",
    "            population = toolbox.select(offspring, k=len(population))\n",
    "        self.w = tools.selBest(population, k=1)[0]\n",
    "\n",
    "\n",
    "    def nrmse_score(self, X_test=None, y_test=None):\n",
    "        if X_test:\n",
    "            self.X_test = X_test\n",
    "        if X_test:\n",
    "            self.y_test = y_test\n",
    "        y_pred = self.X_test @ self.w\n",
    "        return np.sqrt(((y_pred - self.y_test)**2).sum()/self.y_test.shape[0])/(np.amax(self.y_test) - np.amin(self.y_test))\n",
    "\n",
    "\n",
    "    def smape_score(self, X_test=None, y_test=None):\n",
    "        if X_test and y_test:\n",
    "            self.X_test = np.array(X_test)\n",
    "            self.y_test = np.array(y_test)\n",
    "            self.N_test = self.y_test.shape[0]\n",
    "        y_pred = self.X_test  @ self.w\n",
    "        return (100/self.N_test) * (np.absolute(self.y_test - y_pred)/(np.absolute(self.y_test) + np.absolute(y_pred))).sum()\n"
   ]
  },
  {
   "cell_type": "code",
   "execution_count": 13,
   "metadata": {
    "pycharm": {
     "name": "#%%\n"
    }
   },
   "outputs": [],
   "source": [
    "reg = LinearRegression()\n",
    "reg.fit_from_file(\"6.txt\")"
   ]
  },
  {
   "cell_type": "code",
   "execution_count": 14,
   "metadata": {
    "pycharm": {
     "name": "#%%\n"
    }
   },
   "outputs": [
    {
     "name": "stdout",
     "output_type": "stream",
     "text": [
      "SVD smape:  0.392584289961708\n"
     ]
    }
   ],
   "source": [
    "reg.SVD()\n",
    "print('SVD smape: ', reg.smape_score())"
   ]
  },
  {
   "cell_type": "code",
   "execution_count": 15,
   "metadata": {
    "pycharm": {
     "name": "#%%\n"
    }
   },
   "outputs": [
    {
     "name": "stdout",
     "output_type": "stream",
     "text": [
      "gradient: lr_0.000100, batch_size_100, n_epochs_100 33.9316740442396\n",
      "gradient: lr_0.001000, batch_size_100, n_epochs_100 4.494616404745317\n",
      "gradient: lr_0.010000, batch_size_100, n_epochs_100 15.303901751407317\n",
      "gradient: lr_0.000100, batch_size_75, n_epochs_100 17.20646737086759\n",
      "gradient: lr_0.001000, batch_size_75, n_epochs_100 18.722386191491314\n",
      "gradient: lr_0.010000, batch_size_75, n_epochs_100 11.477752570290203\n",
      "gradient: lr_0.000100, batch_size_50, n_epochs_100 14.805991589311935\n",
      "gradient: lr_0.001000, batch_size_50, n_epochs_100 17.798216198694394\n",
      "gradient: lr_0.010000, batch_size_50, n_epochs_100 19.426776887620147\n",
      "gradient: lr_0.000100, batch_size_20, n_epochs_100 15.420921126924995\n",
      "gradient: lr_0.001000, batch_size_20, n_epochs_100 18.428794143753503\n",
      "gradient: lr_0.010000, batch_size_20, n_epochs_100 16.008154026769724\n",
      "gradient: lr_0.000100, batch_size_10, n_epochs_100 8.752449073336619\n",
      "gradient: lr_0.001000, batch_size_10, n_epochs_100 13.968286249319906\n",
      "gradient: lr_0.010000, batch_size_10, n_epochs_100 12.1134578513549\n",
      "gradient: lr_0.000100, batch_size_5, n_epochs_100 21.131341701484196\n",
      "gradient: lr_0.001000, batch_size_5, n_epochs_100 16.67064793218358\n",
      "gradient: lr_0.010000, batch_size_5, n_epochs_100 19.102985278785084\n",
      "gradient: lr_0.000100, batch_size_1, n_epochs_100 38.466871863435216\n",
      "gradient: lr_0.001000, batch_size_1, n_epochs_100 10.568870841169394\n",
      "gradient: lr_0.010000, batch_size_1, n_epochs_100 21.6982574629978\n",
      "gradient: lr_0.000100, batch_size_100, n_epochs_500 20.468091685679727\n",
      "gradient: lr_0.001000, batch_size_100, n_epochs_500 33.03069860717579\n",
      "gradient: lr_0.010000, batch_size_100, n_epochs_500 14.969852744086188\n",
      "gradient: lr_0.000100, batch_size_75, n_epochs_500 4.205451785310372\n",
      "gradient: lr_0.001000, batch_size_75, n_epochs_500 10.383630013771839\n",
      "gradient: lr_0.010000, batch_size_75, n_epochs_500 12.022659602558603\n",
      "gradient: lr_0.000100, batch_size_50, n_epochs_500 18.402701434292652\n",
      "gradient: lr_0.001000, batch_size_50, n_epochs_500 18.70733973696718\n",
      "gradient: lr_0.010000, batch_size_50, n_epochs_500 4.786790151600822\n",
      "gradient: lr_0.000100, batch_size_20, n_epochs_500 17.381768276339336\n",
      "gradient: lr_0.001000, batch_size_20, n_epochs_500 6.150381990049015\n",
      "gradient: lr_0.010000, batch_size_20, n_epochs_500 1.8860671704096135\n",
      "gradient: lr_0.000100, batch_size_10, n_epochs_500 13.067279835536056\n",
      "gradient: lr_0.001000, batch_size_10, n_epochs_500 24.424745467358623\n",
      "gradient: lr_0.010000, batch_size_10, n_epochs_500 10.032835777116503\n",
      "gradient: lr_0.000100, batch_size_5, n_epochs_500 18.50372149327492\n",
      "gradient: lr_0.001000, batch_size_5, n_epochs_500 14.67105080755537\n",
      "gradient: lr_0.010000, batch_size_5, n_epochs_500 4.007791006997212\n",
      "gradient: lr_0.000100, batch_size_1, n_epochs_500 22.07739642575027\n",
      "gradient: lr_0.001000, batch_size_1, n_epochs_500 15.115900373231442\n",
      "gradient: lr_0.010000, batch_size_1, n_epochs_500 7.8993325433682395\n",
      "gradient: lr_0.000100, batch_size_100, n_epochs_1000 13.303836602141219\n",
      "gradient: lr_0.001000, batch_size_100, n_epochs_1000 20.35953446488008\n",
      "gradient: lr_0.010000, batch_size_100, n_epochs_1000 12.312107312283343\n",
      "gradient: lr_0.000100, batch_size_75, n_epochs_1000 14.721385879717067\n",
      "gradient: lr_0.001000, batch_size_75, n_epochs_1000 19.357838543107793\n",
      "gradient: lr_0.010000, batch_size_75, n_epochs_1000 10.91060335784021\n",
      "gradient: lr_0.000100, batch_size_50, n_epochs_1000 19.543614426342767\n",
      "gradient: lr_0.001000, batch_size_50, n_epochs_1000 13.145366631685315\n",
      "gradient: lr_0.010000, batch_size_50, n_epochs_1000 6.9257175951839365\n",
      "gradient: lr_0.000100, batch_size_20, n_epochs_1000 14.714007380519595\n",
      "gradient: lr_0.001000, batch_size_20, n_epochs_1000 19.874011808314805\n",
      "gradient: lr_0.010000, batch_size_20, n_epochs_1000 11.084941369523413\n",
      "gradient: lr_0.000100, batch_size_10, n_epochs_1000 21.325892643901522\n",
      "gradient: lr_0.001000, batch_size_10, n_epochs_1000 15.318474394355047\n",
      "gradient: lr_0.010000, batch_size_10, n_epochs_1000 15.905076080619768\n",
      "gradient: lr_0.000100, batch_size_5, n_epochs_1000 22.310354628255375\n",
      "gradient: lr_0.001000, batch_size_5, n_epochs_1000 24.60620250980582\n",
      "gradient: lr_0.010000, batch_size_5, n_epochs_1000 13.19410883397124\n",
      "gradient: lr_0.000100, batch_size_1, n_epochs_1000 11.438187554853297\n",
      "gradient: lr_0.001000, batch_size_1, n_epochs_1000 13.59997717248526\n",
      "gradient: lr_0.010000, batch_size_1, n_epochs_1000 4.954845924610051\n",
      "gradient: lr_0.000100, batch_size_100, n_epochs_10000 20.430352509354584\n",
      "gradient: lr_0.001000, batch_size_100, n_epochs_10000 7.920895651962125\n",
      "gradient: lr_0.010000, batch_size_100, n_epochs_10000 2.7032612655713972\n",
      "gradient: lr_0.000100, batch_size_75, n_epochs_10000 6.883495979851967\n",
      "gradient: lr_0.001000, batch_size_75, n_epochs_10000 7.896344872171629\n",
      "gradient: lr_0.010000, batch_size_75, n_epochs_10000 2.3004873487247717\n",
      "gradient: lr_0.000100, batch_size_50, n_epochs_10000 15.305057868994032\n",
      "gradient: lr_0.001000, batch_size_50, n_epochs_10000 8.443665825209493\n",
      "gradient: lr_0.010000, batch_size_50, n_epochs_10000 5.8825564448781975\n",
      "gradient: lr_0.000100, batch_size_20, n_epochs_10000 12.822513641741109\n",
      "gradient: lr_0.001000, batch_size_20, n_epochs_10000 14.339868512203624\n",
      "gradient: lr_0.010000, batch_size_20, n_epochs_10000 4.5076101213141735\n",
      "gradient: lr_0.000100, batch_size_10, n_epochs_10000 16.70230373995182\n",
      "gradient: lr_0.001000, batch_size_10, n_epochs_10000 11.667280525846696\n",
      "gradient: lr_0.010000, batch_size_10, n_epochs_10000 3.077885650290737\n",
      "gradient: lr_0.000100, batch_size_5, n_epochs_10000 15.008849824956016\n",
      "gradient: lr_0.001000, batch_size_5, n_epochs_10000 8.48475475625457\n",
      "gradient: lr_0.010000, batch_size_5, n_epochs_10000 3.6871217795532427\n",
      "gradient: lr_0.000100, batch_size_1, n_epochs_10000 8.904393191523871\n",
      "gradient: lr_0.001000, batch_size_1, n_epochs_10000 11.14953393662363\n",
      "gradient: lr_0.010000, batch_size_1, n_epochs_10000 1.985160665488693\n",
      "gradient: lr_0.000100, batch_size_100, n_epochs_100000 0.6600604861634508\n",
      "gradient: lr_0.001000, batch_size_100, n_epochs_100000 4.3890451637025585\n",
      "gradient: lr_0.010000, batch_size_100, n_epochs_100000 1.6925340677790457\n",
      "gradient: lr_0.000100, batch_size_75, n_epochs_100000 11.271879502656464\n",
      "gradient: lr_0.001000, batch_size_75, n_epochs_100000 5.50344682257022\n",
      "gradient: lr_0.010000, batch_size_75, n_epochs_100000 1.2958441298598684\n",
      "gradient: lr_0.000100, batch_size_50, n_epochs_100000 6.058437937098062\n",
      "gradient: lr_0.001000, batch_size_50, n_epochs_100000 4.194177614070613\n",
      "gradient: lr_0.010000, batch_size_50, n_epochs_100000 0.32383943364699747\n",
      "gradient: lr_0.000100, batch_size_20, n_epochs_100000 6.9901511613634115\n",
      "gradient: lr_0.001000, batch_size_20, n_epochs_100000 2.5933536917702544\n",
      "gradient: lr_0.010000, batch_size_20, n_epochs_100000 2.88126090998305\n",
      "gradient: lr_0.000100, batch_size_10, n_epochs_100000 6.488677109719218\n",
      "gradient: lr_0.001000, batch_size_10, n_epochs_100000 4.609847589106063\n",
      "gradient: lr_0.010000, batch_size_10, n_epochs_100000 1.2847590766123458\n",
      "gradient: lr_0.000100, batch_size_5, n_epochs_100000 10.229880705554015\n",
      "gradient: lr_0.001000, batch_size_5, n_epochs_100000 2.019539856902535\n",
      "gradient: lr_0.010000, batch_size_5, n_epochs_100000 2.117828326607947\n",
      "gradient: lr_0.000100, batch_size_1, n_epochs_100000 4.829862358738688\n",
      "gradient: lr_0.001000, batch_size_1, n_epochs_100000 2.7261965890463213\n",
      "gradient: lr_0.010000, batch_size_1, n_epochs_100000 0.8544749158210809\n",
      "grad_top10: lr    batch size  n epochs    smape   nrmse\n",
      " 0.01 50 100000 0.32383943364699747 0.0007607634070993455\n",
      "0.0001 100 100000 0.6600604861634508 0.0008749526100224452\n",
      "0.01 1 100000 0.8544749158210809 0.001997899181375605\n",
      "0.01 10 100000 1.2847590766123458 0.0029069617750340612\n",
      "0.01 75 100000 1.2958441298598684 0.0029289290420540497\n",
      "0.01 1 10000 1.985160665488693 0.003359663255556548\n",
      "0.001 5 100000 2.019539856902535 0.003364362398069937\n",
      "0.01 100 100000 1.6925340677790457 0.00372503531408091\n",
      "0.01 5 100000 2.117828326607947 0.004909211282189061\n",
      "0.001 20 100000 2.5933536917702544 0.005126057565031591\n"
     ]
    }
   ],
   "source": [
    "grad_res = []\n",
    "for n_epochs in [100, 500, 1000, 10000, 100000]:\n",
    "    for batch_size in [100, 75, 50, 20, 10, 5 ,1]:\n",
    "        for lr in 10.**np.arange(-4, -1):\n",
    "            reg.gradient(lr=lr, batch_size=batch_size, n_epochs=n_epochs)\n",
    "            smape = reg.smape_score()\n",
    "            nrmse = reg.nrmse_score()\n",
    "            grad_res.append([lr, batch_size, n_epochs, smape, nrmse])\n",
    "            print('gradient: lr_%f, batch_size_%d, n_epochs_%d'%(lr, batch_size, n_epochs),smape)\n",
    "\n",
    "sorted_res = sorted(grad_res, key=lambda x: x[4])[:10]\n",
    "print('grad_top10: lr    batch size  n epochs    smape   nrmse\\n', '\\n'.join([' '.join(map(str, line)) for line in sorted_res]))"
   ]
  },
  {
   "cell_type": "code",
   "execution_count": 16,
   "metadata": {
    "pycharm": {
     "name": "#%%\n"
    }
   },
   "outputs": [],
   "source": [
    "grad_top5 = sorted_res"
   ]
  },
  {
   "cell_type": "code",
   "execution_count": 17,
   "metadata": {
    "pycharm": {
     "name": "#%%\n"
    }
   },
   "outputs": [
    {
     "name": "stdout",
     "output_type": "stream",
     "text": [
      "grad_top5: lr    batch size  n epochs    smape   nrmse\n",
      " 0.01 50 100000 0.32383943364699747 0.0007607634070993455\n",
      "0.0001 100 100000 0.6600604861634508 0.0008749526100224452\n",
      "0.01 1 100000 0.8544749158210809 0.001997899181375605\n",
      "0.01 10 100000 1.2847590766123458 0.0029069617750340612\n",
      "0.01 75 100000 1.2958441298598684 0.0029289290420540497\n",
      "0.01 1 10000 1.985160665488693 0.003359663255556548\n",
      "0.001 5 100000 2.019539856902535 0.003364362398069937\n",
      "0.01 100 100000 1.6925340677790457 0.00372503531408091\n",
      "0.01 5 100000 2.117828326607947 0.004909211282189061\n",
      "0.001 20 100000 2.5933536917702544 0.005126057565031591\n"
     ]
    }
   ],
   "source": [
    "print('grad_top5: lr    batch size  n epochs    smape   nrmse\\n', '\\n'.join([' '.join(map(str, line)) for line in grad_top5]))"
   ]
  },
  {
   "cell_type": "code",
   "execution_count": 18,
   "metadata": {
    "pycharm": {
     "name": "#%%\n"
    }
   },
   "outputs": [
    {
     "name": "stdout",
     "output_type": "stream",
     "text": [
      "100... 200... 300... 400... 500... 600... 700... 800... 900... 1000... 2000... 3000... 4000... 5000... 6000... 7000... 8000... 9000... 10000... 20000... 30000... 40000... 50000... 60000... 70000... 80000... 90000... 100000... "
     ]
    }
   ],
   "source": [
    "grad_x_plot = list(range(100, 1000, 100))\n",
    "grad_x_plot.extend(list(range(1000, 10000, 1000)))\n",
    "grad_x_plot.extend(list(range(10000, 100001, 10000)))\n",
    "grad_y_plot = []\n",
    "for n_epochs in grad_x_plot:\n",
    "    print(n_epochs, end='... ')\n",
    "    grad_top1 = grad_top5[0]\n",
    "    reg.gradient(lr=grad_top1[0], batch_size=grad_top1[1], n_epochs=n_epochs)\n",
    "    # reg.gradient(n_epochs=n_epochs)\n",
    "    grad_y_plot.append(reg.smape_score())\n"
   ]
  },
  {
   "cell_type": "code",
   "execution_count": 19,
   "metadata": {
    "pycharm": {
     "name": "#%%\n"
    }
   },
   "outputs": [],
   "source": [
    "grad_x_plot_copy = grad_x_plot.copy()\n",
    "grad_y_plot_copy = grad_y_plot.copy()"
   ]
  },
  {
   "cell_type": "code",
   "execution_count": 20,
   "metadata": {
    "pycharm": {
     "name": "#%%\n"
    }
   },
   "outputs": [
    {
     "data": {
      "text/plain": "<Figure size 432x288 with 1 Axes>",
      "image/png": "[encoded data removed]"
     },
     "metadata": {
      "needs_background": "light"
     },
     "output_type": "display_data"
    }
   ],
   "source": [
    "%matplotlib inline\n",
    "plt.plot([ s/1000 for s in grad_x_plot], grad_y_plot)\n",
    "plt.title(\"Gradient\")\n",
    "plt.ylabel('SMAPE', fontsize=16)\n",
    "plt.xlabel('10^3 n epochs', fontsize=16)\n",
    "plt.xticks(list(range(0,101,10)))\n",
    "plt.yticks(list(range(int(min(grad_y_plot)//10)*10, int(max(grad_y_plot)//10 +2)*10,10)))\n",
    "plt.show()"
   ]
  },
  {
   "cell_type": "code",
   "execution_count": 21,
   "metadata": {
    "pycharm": {
     "name": "#%%\n"
    }
   },
   "outputs": [
    {
     "name": "stdout",
     "output_type": "stream",
     "text": [
      "0.0015529514062703352\n",
      "1.1917555616036868\n"
     ]
    }
   ],
   "source": [
    "reg.genetic()\n",
    "print(reg.nrmse_score())\n",
    "print(reg.smape_score())"
   ]
  },
  {
   "cell_type": "code",
   "execution_count": 22,
   "metadata": {
    "pycharm": {
     "name": "#%%\n"
    }
   },
   "outputs": [
    {
     "name": "stdout",
     "output_type": "stream",
     "text": [
      "0... 27.60226937199615\n",
      "1... 27.60226937199615 4.6495898265636715\n",
      "2... 27.60226937199615 4.6495898265636715 5.798593786515938\n",
      "3... 27.60226937199615 4.6495898265636715 5.798593786515938 2.967818016862921\n",
      "4... 27.60226937199615 4.6495898265636715 5.798593786515938 2.967818016862921 5.152306573241066\n",
      "5... 27.60226937199615 4.6495898265636715 5.798593786515938 2.967818016862921 5.152306573241066 1.278003016826333\n",
      "6... 27.60226937199615 4.6495898265636715 5.798593786515938 2.967818016862921 5.152306573241066 1.278003016826333 1.8613146673931442\n",
      "7... 27.60226937199615 4.6495898265636715 5.798593786515938 2.967818016862921 5.152306573241066 1.278003016826333 1.8613146673931442 3.4561157916293874\n",
      "8... 27.60226937199615 4.6495898265636715 5.798593786515938 2.967818016862921 5.152306573241066 1.278003016826333 1.8613146673931442 3.4561157916293874 3.214712328756163\n",
      "9... 27.60226937199615 4.6495898265636715 5.798593786515938 2.967818016862921 5.152306573241066 1.278003016826333 1.8613146673931442 3.4561157916293874 3.214712328756163 2.727268060204864\n",
      "10... 27.60226937199615 4.6495898265636715 5.798593786515938 2.967818016862921 5.152306573241066 1.278003016826333 1.8613146673931442 3.4561157916293874 3.214712328756163 2.727268060204864 3.406325689177507\n",
      "11... 27.60226937199615 4.6495898265636715 5.798593786515938 2.967818016862921 5.152306573241066 1.278003016826333 1.8613146673931442 3.4561157916293874 3.214712328756163 2.727268060204864 3.406325689177507 0.7846515573592999\n",
      "12... 27.60226937199615 4.6495898265636715 5.798593786515938 2.967818016862921 5.152306573241066 1.278003016826333 1.8613146673931442 3.4561157916293874 3.214712328756163 2.727268060204864 3.406325689177507 0.7846515573592999 0.7553099426936473\n",
      "13... 27.60226937199615 4.6495898265636715 5.798593786515938 2.967818016862921 5.152306573241066 1.278003016826333 1.8613146673931442 3.4561157916293874 3.214712328756163 2.727268060204864 3.406325689177507 0.7846515573592999 0.7553099426936473 0.8311893925622068\n",
      "14... 27.60226937199615 4.6495898265636715 5.798593786515938 2.967818016862921 5.152306573241066 1.278003016826333 1.8613146673931442 3.4561157916293874 3.214712328756163 2.727268060204864 3.406325689177507 0.7846515573592999 0.7553099426936473 0.8311893925622068 1.7368813153903022\n",
      "15... 27.60226937199615 4.6495898265636715 5.798593786515938 2.967818016862921 5.152306573241066 1.278003016826333 1.8613146673931442 3.4561157916293874 3.214712328756163 2.727268060204864 3.406325689177507 0.7846515573592999 0.7553099426936473 0.8311893925622068 1.7368813153903022 1.5202249068021845\n",
      "16... 27.60226937199615 4.6495898265636715 5.798593786515938 2.967818016862921 5.152306573241066 1.278003016826333 1.8613146673931442 3.4561157916293874 3.214712328756163 2.727268060204864 3.406325689177507 0.7846515573592999 0.7553099426936473 0.8311893925622068 1.7368813153903022 1.5202249068021845 1.294203937453302\n",
      "17... 27.60226937199615 4.6495898265636715 5.798593786515938 2.967818016862921 5.152306573241066 1.278003016826333 1.8613146673931442 3.4561157916293874 3.214712328756163 2.727268060204864 3.406325689177507 0.7846515573592999 0.7553099426936473 0.8311893925622068 1.7368813153903022 1.5202249068021845 1.294203937453302 1.8242851055886424\n",
      "18... 27.60226937199615 4.6495898265636715 5.798593786515938 2.967818016862921 5.152306573241066 1.278003016826333 1.8613146673931442 3.4561157916293874 3.214712328756163 2.727268060204864 3.406325689177507 0.7846515573592999 0.7553099426936473 0.8311893925622068 1.7368813153903022 1.5202249068021845 1.294203937453302 1.8242851055886424 1.2270872035637692\n",
      "19... 27.60226937199615 4.6495898265636715 5.798593786515938 2.967818016862921 5.152306573241066 1.278003016826333 1.8613146673931442 3.4561157916293874 3.214712328756163 2.727268060204864 3.406325689177507 0.7846515573592999 0.7553099426936473 0.8311893925622068 1.7368813153903022 1.5202249068021845 1.294203937453302 1.8242851055886424 1.2270872035637692 1.1054893682682392\n",
      "20... 27.60226937199615 4.6495898265636715 5.798593786515938 2.967818016862921 5.152306573241066 1.278003016826333 1.8613146673931442 3.4561157916293874 3.214712328756163 2.727268060204864 3.406325689177507 0.7846515573592999 0.7553099426936473 0.8311893925622068 1.7368813153903022 1.5202249068021845 1.294203937453302 1.8242851055886424 1.2270872035637692 1.1054893682682392 0.8320782144249491\n",
      "21... 27.60226937199615 4.6495898265636715 5.798593786515938 2.967818016862921 5.152306573241066 1.278003016826333 1.8613146673931442 3.4561157916293874 3.214712328756163 2.727268060204864 3.406325689177507 0.7846515573592999 0.7553099426936473 0.8311893925622068 1.7368813153903022 1.5202249068021845 1.294203937453302 1.8242851055886424 1.2270872035637692 1.1054893682682392 0.8320782144249491 1.4261729858154895\n",
      "22... 27.60226937199615 4.6495898265636715 5.798593786515938 2.967818016862921 5.152306573241066 1.278003016826333 1.8613146673931442 3.4561157916293874 3.214712328756163 2.727268060204864 3.406325689177507 0.7846515573592999 0.7553099426936473 0.8311893925622068 1.7368813153903022 1.5202249068021845 1.294203937453302 1.8242851055886424 1.2270872035637692 1.1054893682682392 0.8320782144249491 1.4261729858154895 1.432863393392648\n",
      "23... 27.60226937199615 4.6495898265636715 5.798593786515938 2.967818016862921 5.152306573241066 1.278003016826333 1.8613146673931442 3.4561157916293874 3.214712328756163 2.727268060204864 3.406325689177507 0.7846515573592999 0.7553099426936473 0.8311893925622068 1.7368813153903022 1.5202249068021845 1.294203937453302 1.8242851055886424 1.2270872035637692 1.1054893682682392 0.8320782144249491 1.4261729858154895 1.432863393392648 1.5679050314965273\n",
      "24... 27.60226937199615 4.6495898265636715 5.798593786515938 2.967818016862921 5.152306573241066 1.278003016826333 1.8613146673931442 3.4561157916293874 3.214712328756163 2.727268060204864 3.406325689177507 0.7846515573592999 0.7553099426936473 0.8311893925622068 1.7368813153903022 1.5202249068021845 1.294203937453302 1.8242851055886424 1.2270872035637692 1.1054893682682392 0.8320782144249491 1.4261729858154895 1.432863393392648 1.5679050314965273 0.937607780538604\n",
      "25... 27.60226937199615 4.6495898265636715 5.798593786515938 2.967818016862921 5.152306573241066 1.278003016826333 1.8613146673931442 3.4561157916293874 3.214712328756163 2.727268060204864 3.406325689177507 0.7846515573592999 0.7553099426936473 0.8311893925622068 1.7368813153903022 1.5202249068021845 1.294203937453302 1.8242851055886424 1.2270872035637692 1.1054893682682392 0.8320782144249491 1.4261729858154895 1.432863393392648 1.5679050314965273 0.937607780538604 0.8038300226287008\n",
      "26... 27.60226937199615 4.6495898265636715 5.798593786515938 2.967818016862921 5.152306573241066 1.278003016826333 1.8613146673931442 3.4561157916293874 3.214712328756163 2.727268060204864 3.406325689177507 0.7846515573592999 0.7553099426936473 0.8311893925622068 1.7368813153903022 1.5202249068021845 1.294203937453302 1.8242851055886424 1.2270872035637692 1.1054893682682392 0.8320782144249491 1.4261729858154895 1.432863393392648 1.5679050314965273 0.937607780538604 0.8038300226287008 1.1625251954548443\n",
      "27... 27.60226937199615 4.6495898265636715 5.798593786515938 2.967818016862921 5.152306573241066 1.278003016826333 1.8613146673931442 3.4561157916293874 3.214712328756163 2.727268060204864 3.406325689177507 0.7846515573592999 0.7553099426936473 0.8311893925622068 1.7368813153903022 1.5202249068021845 1.294203937453302 1.8242851055886424 1.2270872035637692 1.1054893682682392 0.8320782144249491 1.4261729858154895 1.432863393392648 1.5679050314965273 0.937607780538604 0.8038300226287008 1.1625251954548443 0.9921315278131692\n",
      "28... 27.60226937199615 4.6495898265636715 5.798593786515938 2.967818016862921 5.152306573241066 1.278003016826333 1.8613146673931442 3.4561157916293874 3.214712328756163 2.727268060204864 3.406325689177507 0.7846515573592999 0.7553099426936473 0.8311893925622068 1.7368813153903022 1.5202249068021845 1.294203937453302 1.8242851055886424 1.2270872035637692 1.1054893682682392 0.8320782144249491 1.4261729858154895 1.432863393392648 1.5679050314965273 0.937607780538604 0.8038300226287008 1.1625251954548443 0.9921315278131692 0.34725683253375034\n",
      "29... 27.60226937199615 4.6495898265636715 5.798593786515938 2.967818016862921 5.152306573241066 1.278003016826333 1.8613146673931442 3.4561157916293874 3.214712328756163 2.727268060204864 3.406325689177507 0.7846515573592999 0.7553099426936473 0.8311893925622068 1.7368813153903022 1.5202249068021845 1.294203937453302 1.8242851055886424 1.2270872035637692 1.1054893682682392 0.8320782144249491 1.4261729858154895 1.432863393392648 1.5679050314965273 0.937607780538604 0.8038300226287008 1.1625251954548443 0.9921315278131692 0.34725683253375034 1.1943217381591689\n",
      "30... 27.60226937199615 4.6495898265636715 5.798593786515938 2.967818016862921 5.152306573241066 1.278003016826333 1.8613146673931442 3.4561157916293874 3.214712328756163 2.727268060204864 3.406325689177507 0.7846515573592999 0.7553099426936473 0.8311893925622068 1.7368813153903022 1.5202249068021845 1.294203937453302 1.8242851055886424 1.2270872035637692 1.1054893682682392 0.8320782144249491 1.4261729858154895 1.432863393392648 1.5679050314965273 0.937607780538604 0.8038300226287008 1.1625251954548443 0.9921315278131692 0.34725683253375034 1.1943217381591689 0.07178892124812933\n",
      "31... 27.60226937199615 4.6495898265636715 5.798593786515938 2.967818016862921 5.152306573241066 1.278003016826333 1.8613146673931442 3.4561157916293874 3.214712328756163 2.727268060204864 3.406325689177507 0.7846515573592999 0.7553099426936473 0.8311893925622068 1.7368813153903022 1.5202249068021845 1.294203937453302 1.8242851055886424 1.2270872035637692 1.1054893682682392 0.8320782144249491 1.4261729858154895 1.432863393392648 1.5679050314965273 0.937607780538604 0.8038300226287008 1.1625251954548443 0.9921315278131692 0.34725683253375034 1.1943217381591689 0.07178892124812933 2.0710002387647304\n",
      "32... 27.60226937199615 4.6495898265636715 5.798593786515938 2.967818016862921 5.152306573241066 1.278003016826333 1.8613146673931442 3.4561157916293874 3.214712328756163 2.727268060204864 3.406325689177507 0.7846515573592999 0.7553099426936473 0.8311893925622068 1.7368813153903022 1.5202249068021845 1.294203937453302 1.8242851055886424 1.2270872035637692 1.1054893682682392 0.8320782144249491 1.4261729858154895 1.432863393392648 1.5679050314965273 0.937607780538604 0.8038300226287008 1.1625251954548443 0.9921315278131692 0.34725683253375034 1.1943217381591689 0.07178892124812933 2.0710002387647304 0.8548801279588829\n",
      "33... 27.60226937199615 4.6495898265636715 5.798593786515938 2.967818016862921 5.152306573241066 1.278003016826333 1.8613146673931442 3.4561157916293874 3.214712328756163 2.727268060204864 3.406325689177507 0.7846515573592999 0.7553099426936473 0.8311893925622068 1.7368813153903022 1.5202249068021845 1.294203937453302 1.8242851055886424 1.2270872035637692 1.1054893682682392 0.8320782144249491 1.4261729858154895 1.432863393392648 1.5679050314965273 0.937607780538604 0.8038300226287008 1.1625251954548443 0.9921315278131692 0.34725683253375034 1.1943217381591689 0.07178892124812933 2.0710002387647304 0.8548801279588829 0.46179373376041866\n",
      "34... 27.60226937199615 4.6495898265636715 5.798593786515938 2.967818016862921 5.152306573241066 1.278003016826333 1.8613146673931442 3.4561157916293874 3.214712328756163 2.727268060204864 3.406325689177507 0.7846515573592999 0.7553099426936473 0.8311893925622068 1.7368813153903022 1.5202249068021845 1.294203937453302 1.8242851055886424 1.2270872035637692 1.1054893682682392 0.8320782144249491 1.4261729858154895 1.432863393392648 1.5679050314965273 0.937607780538604 0.8038300226287008 1.1625251954548443 0.9921315278131692 0.34725683253375034 1.1943217381591689 0.07178892124812933 2.0710002387647304 0.8548801279588829 0.46179373376041866 0.566765597658189\n",
      "35... 27.60226937199615 4.6495898265636715 5.798593786515938 2.967818016862921 5.152306573241066 1.278003016826333 1.8613146673931442 3.4561157916293874 3.214712328756163 2.727268060204864 3.406325689177507 0.7846515573592999 0.7553099426936473 0.8311893925622068 1.7368813153903022 1.5202249068021845 1.294203937453302 1.8242851055886424 1.2270872035637692 1.1054893682682392 0.8320782144249491 1.4261729858154895 1.432863393392648 1.5679050314965273 0.937607780538604 0.8038300226287008 1.1625251954548443 0.9921315278131692 0.34725683253375034 1.1943217381591689 0.07178892124812933 2.0710002387647304 0.8548801279588829 0.46179373376041866 0.566765597658189 1.3130445005840607\n",
      "36... 27.60226937199615 4.6495898265636715 5.798593786515938 2.967818016862921 5.152306573241066 1.278003016826333 1.8613146673931442 3.4561157916293874 3.214712328756163 2.727268060204864 3.406325689177507 0.7846515573592999 0.7553099426936473 0.8311893925622068 1.7368813153903022 1.5202249068021845 1.294203937453302 1.8242851055886424 1.2270872035637692 1.1054893682682392 0.8320782144249491 1.4261729858154895 1.432863393392648 1.5679050314965273 0.937607780538604 0.8038300226287008 1.1625251954548443 0.9921315278131692 0.34725683253375034 1.1943217381591689 0.07178892124812933 2.0710002387647304 0.8548801279588829 0.46179373376041866 0.566765597658189 1.3130445005840607 1.4821628245482035\n",
      "37... 27.60226937199615 4.6495898265636715 5.798593786515938 2.967818016862921 5.152306573241066 1.278003016826333 1.8613146673931442 3.4561157916293874 3.214712328756163 2.727268060204864 3.406325689177507 0.7846515573592999 0.7553099426936473 0.8311893925622068 1.7368813153903022 1.5202249068021845 1.294203937453302 1.8242851055886424 1.2270872035637692 1.1054893682682392 0.8320782144249491 1.4261729858154895 1.432863393392648 1.5679050314965273 0.937607780538604 0.8038300226287008 1.1625251954548443 0.9921315278131692 0.34725683253375034 1.1943217381591689 0.07178892124812933 2.0710002387647304 0.8548801279588829 0.46179373376041866 0.566765597658189 1.3130445005840607 1.4821628245482035 0.6374476034811378\n",
      "38... 27.60226937199615 4.6495898265636715 5.798593786515938 2.967818016862921 5.152306573241066 1.278003016826333 1.8613146673931442 3.4561157916293874 3.214712328756163 2.727268060204864 3.406325689177507 0.7846515573592999 0.7553099426936473 0.8311893925622068 1.7368813153903022 1.5202249068021845 1.294203937453302 1.8242851055886424 1.2270872035637692 1.1054893682682392 0.8320782144249491 1.4261729858154895 1.432863393392648 1.5679050314965273 0.937607780538604 0.8038300226287008 1.1625251954548443 0.9921315278131692 0.34725683253375034 1.1943217381591689 0.07178892124812933 2.0710002387647304 0.8548801279588829 0.46179373376041866 0.566765597658189 1.3130445005840607 1.4821628245482035 0.6374476034811378 1.0951697528275257\n",
      "39... 27.60226937199615 4.6495898265636715 5.798593786515938 2.967818016862921 5.152306573241066 1.278003016826333 1.8613146673931442 3.4561157916293874 3.214712328756163 2.727268060204864 3.406325689177507 0.7846515573592999 0.7553099426936473 0.8311893925622068 1.7368813153903022 1.5202249068021845 1.294203937453302 1.8242851055886424 1.2270872035637692 1.1054893682682392 0.8320782144249491 1.4261729858154895 1.432863393392648 1.5679050314965273 0.937607780538604 0.8038300226287008 1.1625251954548443 0.9921315278131692 0.34725683253375034 1.1943217381591689 0.07178892124812933 2.0710002387647304 0.8548801279588829 0.46179373376041866 0.566765597658189 1.3130445005840607 1.4821628245482035 0.6374476034811378 1.0951697528275257 0.8627424701258624\n"
     ]
    },
    {
     "name": "stderr",
     "output_type": "stream",
     "text": [
      "/home/neutralmike/Projects/ml_labs/venv/lib/python3.8/site-packages/deap/creator.py:138: RuntimeWarning: A class named 'FitnessMax' has already been created and it will be overwritten. Consider deleting previous creation of that class or rename it.\n",
      "  warnings.warn(\"A class named '{0}' has already been created and it \"\n",
      "/home/neutralmike/Projects/ml_labs/venv/lib/python3.8/site-packages/deap/creator.py:138: RuntimeWarning: A class named 'Individual' has already been created and it will be overwritten. Consider deleting previous creation of that class or rename it.\n",
      "  warnings.warn(\"A class named '{0}' has already been created and it \"\n"
     ]
    }
   ],
   "source": [
    "genetic_x_plot = list(range(40))\n",
    "genetic_y_plot = []\n",
    "for n_epochs in genetic_x_plot:\n",
    "    print(n_epochs, end='... ')\n",
    "    reg.genetic(n_epochs=n_epochs)\n",
    "    genetic_y_plot.append(reg.smape_score())\n",
    "    print(' '.join(map(str, genetic_y_plot)))\n"
   ]
  },
  {
   "cell_type": "code",
   "execution_count": 23,
   "metadata": {
    "pycharm": {
     "name": "#%%\n"
    }
   },
   "outputs": [],
   "source": [
    "genetic_x_plot_copy = genetic_x_plot.copy()\n",
    "genetic_y_plot_copy = genetic_y_plot.copy()"
   ]
  },
  {
   "cell_type": "code",
   "execution_count": 25,
   "metadata": {
    "pycharm": {
     "name": "#%%\n"
    }
   },
   "outputs": [
    {
     "data": {
      "text/plain": "<Figure size 432x288 with 1 Axes>",
      "image/png": "[encoded data removed]"
     },
     "metadata": {
      "needs_background": "light"
     },
     "output_type": "display_data"
    }
   ],
   "source": [
    "%matplotlib inline\n",
    "plt.plot(genetic_x_plot, genetic_y_plot)\n",
    "plt.title(\"Genetic\")\n",
    "plt.ylabel('SMAPE', fontsize=16)\n",
    "plt.xlabel('n epochs', fontsize=16)\n",
    "plt.xticks(list(range(0,40,5)))\n",
    "plt.yticks(list(range(int(min(genetic_y_plot)//5)*5, int(max(genetic_y_plot)//5+2)*5, 5)))\n",
    "plt.show()"
   ]
  },
  {
   "cell_type": "code",
   "execution_count": null,
   "outputs": [],
   "source": [],
   "metadata": {
    "collapsed": false,
    "pycharm": {
     "name": "#%%\n"
    }
   }
  },
  {
   "cell_type": "code",
   "execution_count": null,
   "metadata": {},
   "outputs": [],
   "source": []
  }
 ],
 "metadata": {
  "kernelspec": {
   "display_name": "Python 3",
   "language": "python",
   "name": "python3"
  },
  "language_info": {
   "codemirror_mode": {
    "name": "ipython",
    "version": 3
   },
   "file_extension": ".py",
   "mimetype": "text/x-python",
   "name": "python",
   "nbconvert_exporter": "python",
   "pygments_lexer": "ipython3",
   "version": "3.8.2"
  }
 },
 "nbformat": 4,
 "nbformat_minor": 1
}