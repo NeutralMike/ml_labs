{
 "cells": [
  {
   "cell_type": "code",
   "execution_count": 53,
   "metadata": {},
   "outputs": [],
   "source": [
    "import numpy as np\n",
    "import matplotlib.pyplot as plt\n",
    "from deap import creator, base, tools, algorithms\n"
   ]
  },
  {
   "cell_type": "code",
   "execution_count": 54,
   "metadata": {
    "pycharm": {
     "name": "#%%\n"
    }
   },
   "outputs": [],
   "source": [
    "class LinearRegression:\n",
    "\n",
    "    def fit(self, X, y):\n",
    "        X = np.array(X)\n",
    "        y = np.array(y)\n",
    "        self.X_train = X / (np.amax(y))\n",
    "        self.y_train = y / (np.amax(y))\n",
    "        self.N_train = X.shape[0]\n",
    "        self.M = X.shape[1]\n",
    "\n",
    "\n",
    "    def to_int_tpl_map(self, line):\n",
    "        return tuple(map(int, line.strip().split()))\n",
    "\n",
    "\n",
    "    def fit_from_file(self, file_name=None, file=None):\n",
    "        if file_name:\n",
    "            file = open(file_name)\n",
    "        raw_data = tuple(map(self.to_int_tpl_map, file.readlines()))\n",
    "        self.M = int(raw_data[0][0])\n",
    "        self.N_train = int(raw_data[1][0])\n",
    "        train_data = np.array(raw_data[2:self.N_train+2])\n",
    "        self.y_train = train_data[:, -1] / np.amax(train_data[:, -1])\n",
    "        self.X_train = train_data[:,:-1] / np.amax(train_data[:, -1])\n",
    "        self.N_test = int(raw_data[self.N_train+2][0])\n",
    "        test_data = np.array(raw_data[self.N_train+3:])\n",
    "        self.y_test = test_data[:,-1]\n",
    "        self.X_test = test_data[:,:-1]\n",
    "\n",
    "\n",
    "    def rmse_loss(self, y_pred):\n",
    "        return np.sqrt((((y_pred - self.y_train)**2).sum())/self.N_train)\n",
    "\n",
    "    def SVD(self, tay=1e-3):\n",
    "        self.w = \\\n",
    "            self.X_train.T @ np.linalg.inv(self.X_train @ self.X_train.T + (1/2 * tay * np.eye(self.X_train.shape[0]))) @ self.y_train\n",
    "\n",
    "    def gradient(self, tay=.1, lr=.01, batch_size=5, n_epochs=1000):\n",
    "\n",
    "        def loss_derivative(y, y_pred):\n",
    "            return -2 * (y - y_pred)\n",
    "        self.w = np.random.sample(self.M)\n",
    "        for it in range(n_epochs):\n",
    "            if it % batch_size == 0:\n",
    "                y_pred = self.X_train @ self.w\n",
    "                loss_der = loss_derivative(self.y_train, y_pred)\n",
    "                grad = (np.array([self.X_train[n]*loss_der[n] for n in range(self.N_train)])).sum(axis=0)/self.N_train\\\n",
    "                    + tay * self.w\n",
    "                # print('grad:', ' '.join(map(str, grad)))\n",
    "            self.w = self.w * (1 - lr * tay) - lr * grad\n",
    "\n",
    "\n",
    "    def genetic(self, n_epochs=40):\n",
    "        creator.create(\"FitnessMax\", base.Fitness, weights=(-1.0,))\n",
    "        creator.create(\"Individual\", np.ndarray, fitness=creator.FitnessMax)\n",
    "\n",
    "        toolbox = base.Toolbox()\n",
    "\n",
    "        toolbox.register(\"attr_float\", np.random.random)\n",
    "        toolbox.register(\"individual\", tools.initRepeat, creator.Individual, toolbox.attr_float, n=self.M)\n",
    "        toolbox.register(\"population\", tools.initRepeat, list, toolbox.individual)\n",
    "\n",
    "        def eval_def(individual):\n",
    "            return self.rmse_loss(self.X_train @ individual),\n",
    "\n",
    "        toolbox.register(\"evaluate\", eval_def)\n",
    "        toolbox.register(\"mate\", tools.cxTwoPoint)\n",
    "        toolbox.register(\"mutate\", tools.mutFlipBit, indpb=0.05)\n",
    "        toolbox.register(\"select\", tools.selTournament, tournsize=3)\n",
    "\n",
    "        population = toolbox.population(n=300)\n",
    "\n",
    "        for gen in range(n_epochs):\n",
    "            offspring = algorithms.varAnd(population, toolbox, cxpb=0.5, mutpb=0.1)\n",
    "            fits = toolbox.map(toolbox.evaluate, offspring)\n",
    "            for fit, ind in zip(fits, offspring):\n",
    "                ind.fitness.values = fit\n",
    "            population = toolbox.select(offspring, k=len(population))\n",
    "        self.w = tools.selBest(population, k=1)[0]\n",
    "\n",
    "\n",
    "    def nrmse_score(self, X_test=None, y_test=None):\n",
    "        if X_test:\n",
    "            self.X_test = X_test\n",
    "        if X_test:\n",
    "            self.y_test = y_test\n",
    "        y_pred = self.X_test @ self.w\n",
    "        return np.sqrt(((y_pred - self.y_test)**2).sum()/self.y_test.shape[0])/(np.amax(self.y_test) - np.amin(self.y_test))\n",
    "\n",
    "\n",
    "    def smape_score(self, X_test=None, y_test=None):\n",
    "        if X_test and y_test:\n",
    "            self.X_test = np.array(X_test)\n",
    "            self.y_test = np.array(y_test)\n",
    "            self.N_test = self.y_test.shape[0]\n",
    "        y_pred = self.X_test  @ self.w\n",
    "        return (100/self.N_test) * (np.absolute(self.y_test - y_pred)/(np.absolute(self.y_test) + np.absolute(y_pred))).sum()\n"
   ]
  },
  {
   "cell_type": "code",
   "execution_count": 55,
   "metadata": {
    "pycharm": {
     "name": "#%%\n"
    }
   },
   "outputs": [],
   "source": [
    "reg = LinearRegression()\n",
    "reg.fit_from_file(\"6.txt\")"
   ]
  },
  {
   "cell_type": "code",
   "execution_count": 56,
   "metadata": {
    "pycharm": {
     "name": "#%%\n"
    }
   },
   "outputs": [
    {
     "name": "stdout",
     "output_type": "stream",
     "text": [
      "SVD tay: 0.001000    smape: 0.038215\n"
     ]
    }
   ],
   "source": [
    "reg.SVD()\n",
    "print('SVD tay: %2f    smape: %4f' % (1e-3, reg.smape_score()))\n",
    "svd_x_plot = np.arange(0.01, 1.01, 0.01)\n",
    "svd_y_plot = []\n",
    "for tay in svd_x_plot:\n",
    "    reg.SVD(tay)\n",
    "    svd_y_plot.append(reg.smape_score())"
   ]
  },
  {
   "cell_type": "code",
   "execution_count": 57,
   "metadata": {
    "pycharm": {
     "name": "#%%\n"
    }
   },
   "outputs": [
    {
     "data": {
      "text/plain": "<Figure size 432x288 with 1 Axes>",
      "image/png": "[encoded data removed]"
     },
     "metadata": {
      "needs_background": "light"
     },
     "output_type": "display_data"
    }
   ],
   "source": [
    "%matplotlib inline\n",
    "plt.plot(svd_x_plot, svd_y_plot)\n",
    "plt.title(\"SVD\")\n",
    "plt.ylabel('SMAPE', fontsize=16)\n",
    "plt.xlabel('tay', fontsize=16)\n",
    "# plt.xticks(np.arange(0, 1.01, 0.1))\n",
    "plt.show()\n"
   ]
  },
  {
   "cell_type": "code",
   "execution_count": 58,
   "metadata": {
    "pycharm": {
     "name": "#%%\n"
    }
   },
   "outputs": [],
   "source": [
    "grad_res = []\n",
    "for n_epochs in [100, 500, 1000, 2000]:\n",
    "    for batch_size in [100, 75, 50, 20, 10, 5 ,1]:\n",
    "        for lr in 10.**np.arange(-4, -1):\n",
    "            reg.gradient(lr=lr, batch_size=batch_size, n_epochs=n_epochs)\n",
    "            smape = reg.smape_score()\n",
    "            nrmse = reg.nrmse_score()\n",
    "            grad_res.append([lr, batch_size, n_epochs, smape, nrmse])\n",
    "            print('gradient: lr_%f, batch_size_%d, n_epochs_%d'%(lr, batch_size, n_epochs),smape)\n",
    "\n",
    "sorted_res = sorted(grad_res, key=lambda x: x[4])[:10]\n",
    "print('grad_top10: lr    batch size  n epochs    smape   nrmse\\n', '\\n'.join([' '.join(map(str, line)) for line in sorted_res]))"
   ]
  },
  {
   "cell_type": "code",
   "execution_count": 59,
   "metadata": {
    "pycharm": {
     "name": "#%%\n"
    }
   },
   "outputs": [],
   "source": [
    "grad_top5 = sorted_res"
   ]
  },
  {
   "cell_type": "code",
   "execution_count": 60,
   "metadata": {
    "pycharm": {
     "name": "#%%\n"
    }
   },
   "outputs": [],
   "source": [
    "print('grad_top5: lr    batch size  n epochs    smape   nrmse\\n', '\\n'.join([' '.join(map(str, line)) for line in grad_top5]))"
   ]
  },
  {
   "cell_type": "code",
   "execution_count": 61,
   "metadata": {
    "pycharm": {
     "name": "#%%\n"
    }
   },
   "outputs": [
    {
     "name": "stdout",
     "output_type": "stream",
     "text": [
      "0... 100... 200... 300... 400... 500... 600... 700... 800... 900... 1000... 1100... 1200... 1300... 1400... 1500... 1600... 1700... 1800... 1900... 2000... "
     ]
    }
   ],
   "source": [
    "grad_x_plot = list(range(0, 2001, 100))\n",
    "grad_y_plot = []\n",
    "for n_epochs in grad_x_plot:\n",
    "    print(n_epochs, end='... ')\n",
    "#     grad_top1 = grad_top5[0]\n",
    "#     reg.gradient(lr=grad_top1[0], batch_size=grad_top1[1], n_epochs=n_epochs)\n",
    "    reg.gradient(n_epochs=n_epochs)\n",
    "    grad_y_plot.append(reg.smape_score())"
   ]
  },
  {
   "cell_type": "code",
   "execution_count": 62,
   "metadata": {
    "pycharm": {
     "name": "#%%\n"
    }
   },
   "outputs": [
    {
     "data": {
      "text/plain": "<Figure size 432x288 with 1 Axes>",
      "image/png": "[encoded data removed]"
     },
     "metadata": {
      "needs_background": "light"
     },
     "output_type": "display_data"
    }
   ],
   "source": [
    "%matplotlib inline\n",
    "plt.plot([ s for s in grad_x_plot], grad_y_plot)\n",
    "plt.title(\"Gradient\")\n",
    "plt.ylabel('SMAPE', fontsize=16)\n",
    "plt.xlabel('n epochs', fontsize=16)\n",
    "plt.show()"
   ]
  },
  {
   "cell_type": "code",
   "execution_count": 63,
   "metadata": {
    "pycharm": {
     "name": "#%%\n"
    }
   },
   "outputs": [],
   "source": [
    "grad_x_plot = np.arange(0.01, 1.01, 0.01)\n",
    "grad_y_plot = []\n",
    "for tay in grad_x_plot:\n",
    "    reg.gradient(tay=tay)\n",
    "    grad_y_plot.append(reg.smape_score())\n"
   ]
  },
  {
   "cell_type": "code",
   "execution_count": 64,
   "metadata": {
    "pycharm": {
     "name": "#%%\n"
    }
   },
   "outputs": [
    {
     "data": {
      "text/plain": "<Figure size 432x288 with 1 Axes>",
      "image/png": "[encoded data removed]"
     },
     "metadata": {
      "needs_background": "light"
     },
     "output_type": "display_data"
    }
   ],
   "source": [
    "%matplotlib inline\n",
    "plt.plot(grad_x_plot, grad_y_plot)\n",
    "plt.title(\"Gradient\")\n",
    "plt.ylabel('SMAPE', fontsize=16)\n",
    "plt.xlabel('tay', fontsize=16)\n",
    "plt.show()"
   ]
  },
  {
   "cell_type": "code",
   "execution_count": 65,
   "metadata": {
    "pycharm": {
     "name": "#%%\n"
    }
   },
   "outputs": [
    {
     "name": "stderr",
     "output_type": "stream",
     "text": [
      "/home/neutralmike/Projects/ml_labs/venv/lib/python3.8/site-packages/deap/creator.py:138: RuntimeWarning: A class named 'FitnessMax' has already been created and it will be overwritten. Consider deleting previous creation of that class or rename it.\n",
      "  warnings.warn(\"A class named '{0}' has already been created and it \"\n",
      "/home/neutralmike/Projects/ml_labs/venv/lib/python3.8/site-packages/deap/creator.py:138: RuntimeWarning: A class named 'Individual' has already been created and it will be overwritten. Consider deleting previous creation of that class or rename it.\n",
      "  warnings.warn(\"A class named '{0}' has already been created and it \"\n"
     ]
    },
    {
     "name": "stdout",
     "output_type": "stream",
     "text": [
      "0.0018962652701994024\n",
      "0.835086966808288\n"
     ]
    }
   ],
   "source": [
    "reg.genetic()\n",
    "print(reg.nrmse_score())\n",
    "print(reg.smape_score())"
   ]
  },
  {
   "cell_type": "code",
   "execution_count": 66,
   "metadata": {
    "pycharm": {
     "name": "#%%\n"
    }
   },
   "outputs": [
    {
     "name": "stdout",
     "output_type": "stream",
     "text": [
      "0... 20.49990925692309\n",
      "1... 20.49990925692309 6.640506228681085\n",
      "2... 20.49990925692309 6.640506228681085 2.8577876083592737\n",
      "3... 20.49990925692309 6.640506228681085 2.8577876083592737 4.233544068055369\n",
      "4... 20.49990925692309 6.640506228681085 2.8577876083592737 4.233544068055369 2.0815599609211066\n",
      "5... 20.49990925692309 6.640506228681085 2.8577876083592737 4.233544068055369 2.0815599609211066 2.2229090887052245\n",
      "6... 20.49990925692309 6.640506228681085 2.8577876083592737 4.233544068055369 2.0815599609211066 2.2229090887052245 2.988356846867345\n",
      "7... 20.49990925692309 6.640506228681085 2.8577876083592737 4.233544068055369 2.0815599609211066 2.2229090887052245 2.988356846867345 1.9461473031658059\n",
      "8... 20.49990925692309 6.640506228681085 2.8577876083592737 4.233544068055369 2.0815599609211066 2.2229090887052245 2.988356846867345 1.9461473031658059 2.151651865579058\n",
      "9... 20.49990925692309 6.640506228681085 2.8577876083592737 4.233544068055369 2.0815599609211066 2.2229090887052245 2.988356846867345 1.9461473031658059 2.151651865579058 4.068321944743652\n",
      "10... 20.49990925692309 6.640506228681085 2.8577876083592737 4.233544068055369 2.0815599609211066 2.2229090887052245 2.988356846867345 1.9461473031658059 2.151651865579058 4.068321944743652 1.6337533229559296\n",
      "11... 20.49990925692309 6.640506228681085 2.8577876083592737 4.233544068055369 2.0815599609211066 2.2229090887052245 2.988356846867345 1.9461473031658059 2.151651865579058 4.068321944743652 1.6337533229559296 1.6000069455251427\n",
      "12... 20.49990925692309 6.640506228681085 2.8577876083592737 4.233544068055369 2.0815599609211066 2.2229090887052245 2.988356846867345 1.9461473031658059 2.151651865579058 4.068321944743652 1.6337533229559296 1.6000069455251427 0.5780091006969454\n",
      "13... 20.49990925692309 6.640506228681085 2.8577876083592737 4.233544068055369 2.0815599609211066 2.2229090887052245 2.988356846867345 1.9461473031658059 2.151651865579058 4.068321944743652 1.6337533229559296 1.6000069455251427 0.5780091006969454 1.9514520824146748\n",
      "14... 20.49990925692309 6.640506228681085 2.8577876083592737 4.233544068055369 2.0815599609211066 2.2229090887052245 2.988356846867345 1.9461473031658059 2.151651865579058 4.068321944743652 1.6337533229559296 1.6000069455251427 0.5780091006969454 1.9514520824146748 0.5121548899989553\n",
      "15... 20.49990925692309 6.640506228681085 2.8577876083592737 4.233544068055369 2.0815599609211066 2.2229090887052245 2.988356846867345 1.9461473031658059 2.151651865579058 4.068321944743652 1.6337533229559296 1.6000069455251427 0.5780091006969454 1.9514520824146748 0.5121548899989553 0.9893457017503339\n",
      "16... 20.49990925692309 6.640506228681085 2.8577876083592737 4.233544068055369 2.0815599609211066 2.2229090887052245 2.988356846867345 1.9461473031658059 2.151651865579058 4.068321944743652 1.6337533229559296 1.6000069455251427 0.5780091006969454 1.9514520824146748 0.5121548899989553 0.9893457017503339 1.6510400631821815\n",
      "17... 20.49990925692309 6.640506228681085 2.8577876083592737 4.233544068055369 2.0815599609211066 2.2229090887052245 2.988356846867345 1.9461473031658059 2.151651865579058 4.068321944743652 1.6337533229559296 1.6000069455251427 0.5780091006969454 1.9514520824146748 0.5121548899989553 0.9893457017503339 1.6510400631821815 0.7173545322615495\n",
      "18... 20.49990925692309 6.640506228681085 2.8577876083592737 4.233544068055369 2.0815599609211066 2.2229090887052245 2.988356846867345 1.9461473031658059 2.151651865579058 4.068321944743652 1.6337533229559296 1.6000069455251427 0.5780091006969454 1.9514520824146748 0.5121548899989553 0.9893457017503339 1.6510400631821815 0.7173545322615495 0.6968057982279279\n",
      "19... 20.49990925692309 6.640506228681085 2.8577876083592737 4.233544068055369 2.0815599609211066 2.2229090887052245 2.988356846867345 1.9461473031658059 2.151651865579058 4.068321944743652 1.6337533229559296 1.6000069455251427 0.5780091006969454 1.9514520824146748 0.5121548899989553 0.9893457017503339 1.6510400631821815 0.7173545322615495 0.6968057982279279 1.3421303095118755\n",
      "20... 20.49990925692309 6.640506228681085 2.8577876083592737 4.233544068055369 2.0815599609211066 2.2229090887052245 2.988356846867345 1.9461473031658059 2.151651865579058 4.068321944743652 1.6337533229559296 1.6000069455251427 0.5780091006969454 1.9514520824146748 0.5121548899989553 0.9893457017503339 1.6510400631821815 0.7173545322615495 0.6968057982279279 1.3421303095118755 0.7453934346377833\n",
      "21... 20.49990925692309 6.640506228681085 2.8577876083592737 4.233544068055369 2.0815599609211066 2.2229090887052245 2.988356846867345 1.9461473031658059 2.151651865579058 4.068321944743652 1.6337533229559296 1.6000069455251427 0.5780091006969454 1.9514520824146748 0.5121548899989553 0.9893457017503339 1.6510400631821815 0.7173545322615495 0.6968057982279279 1.3421303095118755 0.7453934346377833 1.1449142532723924\n",
      "22... 20.49990925692309 6.640506228681085 2.8577876083592737 4.233544068055369 2.0815599609211066 2.2229090887052245 2.988356846867345 1.9461473031658059 2.151651865579058 4.068321944743652 1.6337533229559296 1.6000069455251427 0.5780091006969454 1.9514520824146748 0.5121548899989553 0.9893457017503339 1.6510400631821815 0.7173545322615495 0.6968057982279279 1.3421303095118755 0.7453934346377833 1.1449142532723924 1.3512323255870842\n",
      "23... 20.49990925692309 6.640506228681085 2.8577876083592737 4.233544068055369 2.0815599609211066 2.2229090887052245 2.988356846867345 1.9461473031658059 2.151651865579058 4.068321944743652 1.6337533229559296 1.6000069455251427 0.5780091006969454 1.9514520824146748 0.5121548899989553 0.9893457017503339 1.6510400631821815 0.7173545322615495 0.6968057982279279 1.3421303095118755 0.7453934346377833 1.1449142532723924 1.3512323255870842 1.510820672552832\n",
      "24... 20.49990925692309 6.640506228681085 2.8577876083592737 4.233544068055369 2.0815599609211066 2.2229090887052245 2.988356846867345 1.9461473031658059 2.151651865579058 4.068321944743652 1.6337533229559296 1.6000069455251427 0.5780091006969454 1.9514520824146748 0.5121548899989553 0.9893457017503339 1.6510400631821815 0.7173545322615495 0.6968057982279279 1.3421303095118755 0.7453934346377833 1.1449142532723924 1.3512323255870842 1.510820672552832 0.4731211085274896\n",
      "25... 20.49990925692309 6.640506228681085 2.8577876083592737 4.233544068055369 2.0815599609211066 2.2229090887052245 2.988356846867345 1.9461473031658059 2.151651865579058 4.068321944743652 1.6337533229559296 1.6000069455251427 0.5780091006969454 1.9514520824146748 0.5121548899989553 0.9893457017503339 1.6510400631821815 0.7173545322615495 0.6968057982279279 1.3421303095118755 0.7453934346377833 1.1449142532723924 1.3512323255870842 1.510820672552832 0.4731211085274896 0.5503705072872426\n",
      "26... 20.49990925692309 6.640506228681085 2.8577876083592737 4.233544068055369 2.0815599609211066 2.2229090887052245 2.988356846867345 1.9461473031658059 2.151651865579058 4.068321944743652 1.6337533229559296 1.6000069455251427 0.5780091006969454 1.9514520824146748 0.5121548899989553 0.9893457017503339 1.6510400631821815 0.7173545322615495 0.6968057982279279 1.3421303095118755 0.7453934346377833 1.1449142532723924 1.3512323255870842 1.510820672552832 0.4731211085274896 0.5503705072872426 1.1016553458335843\n",
      "27... 20.49990925692309 6.640506228681085 2.8577876083592737 4.233544068055369 2.0815599609211066 2.2229090887052245 2.988356846867345 1.9461473031658059 2.151651865579058 4.068321944743652 1.6337533229559296 1.6000069455251427 0.5780091006969454 1.9514520824146748 0.5121548899989553 0.9893457017503339 1.6510400631821815 0.7173545322615495 0.6968057982279279 1.3421303095118755 0.7453934346377833 1.1449142532723924 1.3512323255870842 1.510820672552832 0.4731211085274896 0.5503705072872426 1.1016553458335843 0.5837265223093114\n",
      "28... 20.49990925692309 6.640506228681085 2.8577876083592737 4.233544068055369 2.0815599609211066 2.2229090887052245 2.988356846867345 1.9461473031658059 2.151651865579058 4.068321944743652 1.6337533229559296 1.6000069455251427 0.5780091006969454 1.9514520824146748 0.5121548899989553 0.9893457017503339 1.6510400631821815 0.7173545322615495 0.6968057982279279 1.3421303095118755 0.7453934346377833 1.1449142532723924 1.3512323255870842 1.510820672552832 0.4731211085274896 0.5503705072872426 1.1016553458335843 0.5837265223093114 0.5665780699435823\n",
      "29... 20.49990925692309 6.640506228681085 2.8577876083592737 4.233544068055369 2.0815599609211066 2.2229090887052245 2.988356846867345 1.9461473031658059 2.151651865579058 4.068321944743652 1.6337533229559296 1.6000069455251427 0.5780091006969454 1.9514520824146748 0.5121548899989553 0.9893457017503339 1.6510400631821815 0.7173545322615495 0.6968057982279279 1.3421303095118755 0.7453934346377833 1.1449142532723924 1.3512323255870842 1.510820672552832 0.4731211085274896 0.5503705072872426 1.1016553458335843 0.5837265223093114 0.5665780699435823 0.7051774019285506\n",
      "30... 20.49990925692309 6.640506228681085 2.8577876083592737 4.233544068055369 2.0815599609211066 2.2229090887052245 2.988356846867345 1.9461473031658059 2.151651865579058 4.068321944743652 1.6337533229559296 1.6000069455251427 0.5780091006969454 1.9514520824146748 0.5121548899989553 0.9893457017503339 1.6510400631821815 0.7173545322615495 0.6968057982279279 1.3421303095118755 0.7453934346377833 1.1449142532723924 1.3512323255870842 1.510820672552832 0.4731211085274896 0.5503705072872426 1.1016553458335843 0.5837265223093114 0.5665780699435823 0.7051774019285506 1.2152670564954409\n",
      "31... 20.49990925692309 6.640506228681085 2.8577876083592737 4.233544068055369 2.0815599609211066 2.2229090887052245 2.988356846867345 1.9461473031658059 2.151651865579058 4.068321944743652 1.6337533229559296 1.6000069455251427 0.5780091006969454 1.9514520824146748 0.5121548899989553 0.9893457017503339 1.6510400631821815 0.7173545322615495 0.6968057982279279 1.3421303095118755 0.7453934346377833 1.1449142532723924 1.3512323255870842 1.510820672552832 0.4731211085274896 0.5503705072872426 1.1016553458335843 0.5837265223093114 0.5665780699435823 0.7051774019285506 1.2152670564954409 0.9441117725096374\n",
      "32... 20.49990925692309 6.640506228681085 2.8577876083592737 4.233544068055369 2.0815599609211066 2.2229090887052245 2.988356846867345 1.9461473031658059 2.151651865579058 4.068321944743652 1.6337533229559296 1.6000069455251427 0.5780091006969454 1.9514520824146748 0.5121548899989553 0.9893457017503339 1.6510400631821815 0.7173545322615495 0.6968057982279279 1.3421303095118755 0.7453934346377833 1.1449142532723924 1.3512323255870842 1.510820672552832 0.4731211085274896 0.5503705072872426 1.1016553458335843 0.5837265223093114 0.5665780699435823 0.7051774019285506 1.2152670564954409 0.9441117725096374 0.625596107689372\n",
      "33... 20.49990925692309 6.640506228681085 2.8577876083592737 4.233544068055369 2.0815599609211066 2.2229090887052245 2.988356846867345 1.9461473031658059 2.151651865579058 4.068321944743652 1.6337533229559296 1.6000069455251427 0.5780091006969454 1.9514520824146748 0.5121548899989553 0.9893457017503339 1.6510400631821815 0.7173545322615495 0.6968057982279279 1.3421303095118755 0.7453934346377833 1.1449142532723924 1.3512323255870842 1.510820672552832 0.4731211085274896 0.5503705072872426 1.1016553458335843 0.5837265223093114 0.5665780699435823 0.7051774019285506 1.2152670564954409 0.9441117725096374 0.625596107689372 0.7589579708864579\n",
      "34... 20.49990925692309 6.640506228681085 2.8577876083592737 4.233544068055369 2.0815599609211066 2.2229090887052245 2.988356846867345 1.9461473031658059 2.151651865579058 4.068321944743652 1.6337533229559296 1.6000069455251427 0.5780091006969454 1.9514520824146748 0.5121548899989553 0.9893457017503339 1.6510400631821815 0.7173545322615495 0.6968057982279279 1.3421303095118755 0.7453934346377833 1.1449142532723924 1.3512323255870842 1.510820672552832 0.4731211085274896 0.5503705072872426 1.1016553458335843 0.5837265223093114 0.5665780699435823 0.7051774019285506 1.2152670564954409 0.9441117725096374 0.625596107689372 0.7589579708864579 0.5847657899978495\n",
      "35... 20.49990925692309 6.640506228681085 2.8577876083592737 4.233544068055369 2.0815599609211066 2.2229090887052245 2.988356846867345 1.9461473031658059 2.151651865579058 4.068321944743652 1.6337533229559296 1.6000069455251427 0.5780091006969454 1.9514520824146748 0.5121548899989553 0.9893457017503339 1.6510400631821815 0.7173545322615495 0.6968057982279279 1.3421303095118755 0.7453934346377833 1.1449142532723924 1.3512323255870842 1.510820672552832 0.4731211085274896 0.5503705072872426 1.1016553458335843 0.5837265223093114 0.5665780699435823 0.7051774019285506 1.2152670564954409 0.9441117725096374 0.625596107689372 0.7589579708864579 0.5847657899978495 1.0582619386160335\n",
      "36... 20.49990925692309 6.640506228681085 2.8577876083592737 4.233544068055369 2.0815599609211066 2.2229090887052245 2.988356846867345 1.9461473031658059 2.151651865579058 4.068321944743652 1.6337533229559296 1.6000069455251427 0.5780091006969454 1.9514520824146748 0.5121548899989553 0.9893457017503339 1.6510400631821815 0.7173545322615495 0.6968057982279279 1.3421303095118755 0.7453934346377833 1.1449142532723924 1.3512323255870842 1.510820672552832 0.4731211085274896 0.5503705072872426 1.1016553458335843 0.5837265223093114 0.5665780699435823 0.7051774019285506 1.2152670564954409 0.9441117725096374 0.625596107689372 0.7589579708864579 0.5847657899978495 1.0582619386160335 0.7337986889746057\n",
      "37... 20.49990925692309 6.640506228681085 2.8577876083592737 4.233544068055369 2.0815599609211066 2.2229090887052245 2.988356846867345 1.9461473031658059 2.151651865579058 4.068321944743652 1.6337533229559296 1.6000069455251427 0.5780091006969454 1.9514520824146748 0.5121548899989553 0.9893457017503339 1.6510400631821815 0.7173545322615495 0.6968057982279279 1.3421303095118755 0.7453934346377833 1.1449142532723924 1.3512323255870842 1.510820672552832 0.4731211085274896 0.5503705072872426 1.1016553458335843 0.5837265223093114 0.5665780699435823 0.7051774019285506 1.2152670564954409 0.9441117725096374 0.625596107689372 0.7589579708864579 0.5847657899978495 1.0582619386160335 0.7337986889746057 0.9481738354900775\n",
      "38... 20.49990925692309 6.640506228681085 2.8577876083592737 4.233544068055369 2.0815599609211066 2.2229090887052245 2.988356846867345 1.9461473031658059 2.151651865579058 4.068321944743652 1.6337533229559296 1.6000069455251427 0.5780091006969454 1.9514520824146748 0.5121548899989553 0.9893457017503339 1.6510400631821815 0.7173545322615495 0.6968057982279279 1.3421303095118755 0.7453934346377833 1.1449142532723924 1.3512323255870842 1.510820672552832 0.4731211085274896 0.5503705072872426 1.1016553458335843 0.5837265223093114 0.5665780699435823 0.7051774019285506 1.2152670564954409 0.9441117725096374 0.625596107689372 0.7589579708864579 0.5847657899978495 1.0582619386160335 0.7337986889746057 0.9481738354900775 1.3311975459815746\n",
      "39... 20.49990925692309 6.640506228681085 2.8577876083592737 4.233544068055369 2.0815599609211066 2.2229090887052245 2.988356846867345 1.9461473031658059 2.151651865579058 4.068321944743652 1.6337533229559296 1.6000069455251427 0.5780091006969454 1.9514520824146748 0.5121548899989553 0.9893457017503339 1.6510400631821815 0.7173545322615495 0.6968057982279279 1.3421303095118755 0.7453934346377833 1.1449142532723924 1.3512323255870842 1.510820672552832 0.4731211085274896 0.5503705072872426 1.1016553458335843 0.5837265223093114 0.5665780699435823 0.7051774019285506 1.2152670564954409 0.9441117725096374 0.625596107689372 0.7589579708864579 0.5847657899978495 1.0582619386160335 0.7337986889746057 0.9481738354900775 1.3311975459815746 1.3814829093801493\n"
     ]
    }
   ],
   "source": [
    "genetic_x_plot = list(range(40))\n",
    "genetic_y_plot = []\n",
    "for n_epochs in genetic_x_plot:\n",
    "    print(n_epochs, end='... ')\n",
    "    reg.genetic(n_epochs=n_epochs)\n",
    "    genetic_y_plot.append(reg.smape_score())\n",
    "    print(' '.join(map(str, genetic_y_plot)))\n"
   ]
  },
  {
   "cell_type": "code",
   "execution_count": 67,
   "metadata": {
    "pycharm": {
     "name": "#%%\n"
    }
   },
   "outputs": [],
   "source": [
    "genetic_x_plot_copy = genetic_x_plot.copy()\n",
    "genetic_y_plot_copy = genetic_y_plot.copy()"
   ]
  },
  {
   "cell_type": "code",
   "execution_count": 68,
   "metadata": {
    "pycharm": {
     "name": "#%%\n"
    }
   },
   "outputs": [
    {
     "data": {
      "text/plain": "<Figure size 432x288 with 1 Axes>",
      "image/png": "[encoded data removed]"
     },
     "metadata": {
      "needs_background": "light"
     },
     "output_type": "display_data"
    }
   ],
   "source": [
    "%matplotlib inline\n",
    "plt.plot(genetic_x_plot, genetic_y_plot)\n",
    "plt.title(\"Genetic\")\n",
    "plt.ylabel('SMAPE', fontsize=16)\n",
    "plt.xlabel('n epochs', fontsize=16)\n",
    "plt.xticks(list(range(0,41,5)))\n",
    "plt.yticks(list(range(int(min(genetic_y_plot)//5)*5, int(max(genetic_y_plot)//5+2)*5, 5)))\n",
    "plt.show()\n"
   ]
  }
 ],
 "metadata": {
  "kernelspec": {
   "display_name": "Python 3",
   "language": "python",
   "name": "python3"
  },
  "language_info": {
   "codemirror_mode": {
    "name": "ipython",
    "version": 3
   },
   "file_extension": ".py",
   "mimetype": "text/x-python",
   "name": "python",
   "nbconvert_exporter": "python",
   "pygments_lexer": "ipython3",
   "version": "3.8.5"
  }
 },
 "nbformat": 4,
 "nbformat_minor": 1
}