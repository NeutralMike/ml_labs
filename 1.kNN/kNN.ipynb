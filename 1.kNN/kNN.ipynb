{
 "cells": [
  {
   "cell_type": "code",
   "execution_count": 68,
   "metadata": {
    "scrolled": true
   },
   "outputs": [],
   "source": [
    "import numpy as np\n",
    "import pandas as pd\n",
    "import matplotlib.pyplot as plt"
   ]
  },
  {
   "cell_type": "code",
   "execution_count": 69,
   "metadata": {
    "pycharm": {
     "name": "#%%\n"
    }
   },
   "outputs": [],
   "source": [
    "data = pd.read_csv('wall-robot-nav.csv').sample(frac=1)\n",
    "X = data.loc[:, 'V1':'V24']\n",
    "X = X / np.array(X).max(axis=0) #normolize features\n",
    "y = data['Class'] - 1 # reduce classes values from 1,2,3,4 to 0,1,2,3\n",
    "\n",
    "train_size = np.ceil(X.shape[0]*0.8).astype('int32')\n",
    "test_size = X.shape[0] - train_size\n",
    "\n",
    "X_train = X.head(train_size)\n",
    "y_train = y.head(train_size)\n",
    "X_test = X.tail(test_size)\n",
    "y_test = y.tail(test_size)\n",
    "\n",
    "y_train_one_hot = np.eye(4, dtype=np.int8)[y_train]\n",
    "y_test_one_hot = np.eye(4, dtype=np.int8)[y_test]"
   ]
  },
  {
   "cell_type": "code",
   "execution_count": 70,
   "metadata": {
    "pycharm": {
     "name": "#%%\n"
    }
   },
   "outputs": [],
   "source": [
    "class KernelRegressionClassifier:\n",
    "    distance_functions = {\n",
    "        'euclid': lambda x, xi: np.sqrt((np.square(x-xi)).sum(axis=1)),\n",
    "        'manhattan': lambda x, xi: np.abs(x-xi).sum(axis=1),\n",
    "    }\n",
    "    kernels = {\n",
    "        'uniform': lambda x: np.where(x<1, 0.5, 0),\n",
    "        'triweight': lambda x: np.where(x<1, (35/32 *np.power((1-np.square(x)),3)), 0),\n",
    "        'triangular': lambda x: np.where(x<1, 1-x, 0),\n",
    "        'quartic': lambda x: np.where(x<1, (15/16 *np.power((1-np.square(x)),2)), 0),\n",
    "        'epanechnikov': lambda x: np.where(x<1, (3/4 *(1-np.square(x))) , 0),\n",
    "        'cosine': lambda x: np.where(x<1, (np.pi/4 *(1-np.square(x))) , 0),\n",
    "        'gaussian': lambda x: (1/np.sqrt(2* np.pi)) * np.exp((-1/2) * np.square(x)),\n",
    "    }\n",
    "\n",
    "\n",
    "    def __init__(self, k=10, h=None, kernel_name='uniform', distance_func_name='euclid'):\n",
    "        self.k = k\n",
    "        self.h = h\n",
    "        self.kernel_name = kernel_name\n",
    "        self.distance_func_name = distance_func_name\n",
    "        self.kernel = self.kernels[self.kernel_name]\n",
    "        self.distance_func = self.distance_functions[self.distance_func_name]\n",
    "\n",
    "\n",
    "    @classmethod\n",
    "    def from_data(cls, X, y, h, k=10, kernel_name='uniform', distance_func_name='euclid'):\n",
    "        instance = cls(h,k,kernel_name,distance_func_name)\n",
    "        instance.fit(X, y)\n",
    "        return instance\n",
    "\n",
    "\n",
    "    def fit(self, X, y):\n",
    "        self.X = X\n",
    "        self.y = np.array(y)\n",
    "\n",
    "\n",
    "    def multiply_weihts_of_nearest(self, weights, indexes, y):\n",
    "        res = []\n",
    "        for i in range(len(indexes)):\n",
    "            res.append((weights[i][indexes[i]] * y[indexes[i]]).sum() / weights[i][indexes[i]].sum())\n",
    "        return res\n",
    "\n",
    "\n",
    "    def predict(self, x):\n",
    "        X_distance = np.apply_along_axis(self.distance_func, 1, x, self.X)\n",
    "        nearest_indexes_matrix = X_distance.argsort()[:,:self.k]\n",
    "        window_width = self.h\n",
    "        if self.h is None:\n",
    "            window_width = []\n",
    "            for row in X_distance:\n",
    "                window_width.append(row[row.argsort()[self.k]])\n",
    "            window_width = np.array([window_width]).T\n",
    "        X_smoothed = self.kernel(X_distance/window_width)\n",
    "\n",
    "        if len(self.y.shape) == 2:\n",
    "            return np.array([\n",
    "                self.multiply_weihts_of_nearest(X_smoothed, nearest_indexes_matrix, self.y[:,i])\n",
    "                for i in range(self.y.shape[1])\n",
    "            ]).T\n",
    "        real_weights = self.multiply_weihts_of_nearest(X_smoothed, nearest_indexes_matrix, self.y)\n",
    "        return np.ceil(real_weights).astype('int8')"
   ]
  },
  {
   "cell_type": "code",
   "execution_count": 71,
   "outputs": [],
   "source": [
    "def analise(y, y_pred):\n",
    "    tp_list = [np.all([y==y_pred, y_pred==i], axis=0).astype('int8').sum() for i in range(4)]\n",
    "    recall_mean = np.mean([tp_list[i] / (y == i).astype('int8').sum() for i in range(4) ])\n",
    "    precision_mean = np.mean([tp_list[i]/ (y_pred == i).astype('int8').sum() for i in range(4) ])\n",
    "    f_measure = 2*precision_mean*recall_mean/(precision_mean+recall_mean)\n",
    "    print('    f measure: ', f_measure)"
   ],
   "metadata": {
    "collapsed": false,
    "pycharm": {
     "name": "#%%\n"
    }
   }
  },
  {
   "cell_type": "code",
   "execution_count": 72,
   "outputs": [
    {
     "name": "stdout",
     "output_type": "stream",
     "text": [
      "                 kernel:  uniform\n",
      "h:  0.1\n",
      "    f measure:  0.5336164013072194\n",
      "h:  0.15000000000000002\n",
      "    f measure:  0.5772859865178125\n",
      "h:  0.20000000000000004\n",
      "    f measure:  0.6147525223021467\n",
      "h:  0.25000000000000006\n",
      "    f measure:  0.6714013653369375\n",
      "h:  0.30000000000000004\n",
      "    f measure:  0.6979134009888639\n",
      "h:  0.3500000000000001\n",
      "    f measure:  0.7101265024719846\n",
      "h:  0.40000000000000013\n",
      "    f measure:  0.7297618382213089\n"
     ]
    },
    {
     "name": "stderr",
     "output_type": "stream",
     "text": [
      "<ipython-input-70-dd84e8211a04>:41: RuntimeWarning: invalid value encountered in double_scalars\n",
      "  res.append((weights[i][indexes[i]] * y[indexes[i]]).sum() / weights[i][indexes[i]].sum())\n"
     ]
    },
    {
     "ename": "KeyboardInterrupt",
     "evalue": "",
     "output_type": "error",
     "traceback": [
      "\u001B[0;31m---------------------------------------------------------------------------\u001B[0m",
      "\u001B[0;31mKeyboardInterrupt\u001B[0m                         Traceback (most recent call last)",
      "\u001B[0;32m<ipython-input-72-093ab49ecf78>\u001B[0m in \u001B[0;36m<module>\u001B[0;34m\u001B[0m\n\u001B[1;32m      5\u001B[0m         \u001B[0;31m# clf.fit(X_train, y_train)\u001B[0m\u001B[0;34m\u001B[0m\u001B[0;34m\u001B[0m\u001B[0;34m\u001B[0m\u001B[0m\n\u001B[1;32m      6\u001B[0m         \u001B[0mclf\u001B[0m\u001B[0;34m.\u001B[0m\u001B[0mfit\u001B[0m\u001B[0;34m(\u001B[0m\u001B[0mX_train\u001B[0m\u001B[0;34m,\u001B[0m \u001B[0my_train_one_hot\u001B[0m\u001B[0;34m)\u001B[0m\u001B[0;34m\u001B[0m\u001B[0;34m\u001B[0m\u001B[0m\n\u001B[0;32m----> 7\u001B[0;31m         \u001B[0my_test_pred\u001B[0m \u001B[0;34m=\u001B[0m \u001B[0mclf\u001B[0m\u001B[0;34m.\u001B[0m\u001B[0mpredict\u001B[0m\u001B[0;34m(\u001B[0m\u001B[0mX_test\u001B[0m\u001B[0;34m)\u001B[0m\u001B[0;34m.\u001B[0m\u001B[0margmax\u001B[0m\u001B[0;34m(\u001B[0m\u001B[0maxis\u001B[0m\u001B[0;34m=\u001B[0m\u001B[0;36m1\u001B[0m\u001B[0;34m)\u001B[0m\u001B[0;34m\u001B[0m\u001B[0;34m\u001B[0m\u001B[0m\n\u001B[0m\u001B[1;32m      8\u001B[0m         \u001B[0mprint\u001B[0m\u001B[0;34m(\u001B[0m\u001B[0;34m'h: '\u001B[0m\u001B[0;34m,\u001B[0m \u001B[0mh\u001B[0m\u001B[0;34m)\u001B[0m\u001B[0;34m\u001B[0m\u001B[0;34m\u001B[0m\u001B[0m\n\u001B[1;32m      9\u001B[0m         \u001B[0manalise\u001B[0m\u001B[0;34m(\u001B[0m\u001B[0mnp\u001B[0m\u001B[0;34m.\u001B[0m\u001B[0marray\u001B[0m\u001B[0;34m(\u001B[0m\u001B[0my_test\u001B[0m\u001B[0;34m)\u001B[0m\u001B[0;34m,\u001B[0m \u001B[0my_test_pred\u001B[0m\u001B[0;34m)\u001B[0m\u001B[0;34m\u001B[0m\u001B[0;34m\u001B[0m\u001B[0m\n",
      "\u001B[0;32m<ipython-input-70-dd84e8211a04>\u001B[0m in \u001B[0;36mpredict\u001B[0;34m(self, x)\u001B[0m\n\u001B[1;32m     45\u001B[0m     \u001B[0;32mdef\u001B[0m \u001B[0mpredict\u001B[0m\u001B[0;34m(\u001B[0m\u001B[0mself\u001B[0m\u001B[0;34m,\u001B[0m \u001B[0mx\u001B[0m\u001B[0;34m)\u001B[0m\u001B[0;34m:\u001B[0m\u001B[0;34m\u001B[0m\u001B[0;34m\u001B[0m\u001B[0m\n\u001B[1;32m     46\u001B[0m         \u001B[0mX_distance\u001B[0m \u001B[0;34m=\u001B[0m \u001B[0mnp\u001B[0m\u001B[0;34m.\u001B[0m\u001B[0mapply_along_axis\u001B[0m\u001B[0;34m(\u001B[0m\u001B[0mself\u001B[0m\u001B[0;34m.\u001B[0m\u001B[0mdistance_func\u001B[0m\u001B[0;34m,\u001B[0m \u001B[0;36m1\u001B[0m\u001B[0;34m,\u001B[0m \u001B[0mx\u001B[0m\u001B[0;34m,\u001B[0m \u001B[0mself\u001B[0m\u001B[0;34m.\u001B[0m\u001B[0mX\u001B[0m\u001B[0;34m)\u001B[0m\u001B[0;34m\u001B[0m\u001B[0;34m\u001B[0m\u001B[0m\n\u001B[0;32m---> 47\u001B[0;31m         \u001B[0mnearest_indexes_matrix\u001B[0m \u001B[0;34m=\u001B[0m \u001B[0mX_distance\u001B[0m\u001B[0;34m.\u001B[0m\u001B[0margsort\u001B[0m\u001B[0;34m(\u001B[0m\u001B[0;34m)\u001B[0m\u001B[0;34m[\u001B[0m\u001B[0;34m:\u001B[0m\u001B[0;34m,\u001B[0m\u001B[0;34m:\u001B[0m\u001B[0mself\u001B[0m\u001B[0;34m.\u001B[0m\u001B[0mk\u001B[0m\u001B[0;34m]\u001B[0m\u001B[0;34m\u001B[0m\u001B[0;34m\u001B[0m\u001B[0m\n\u001B[0m\u001B[1;32m     48\u001B[0m         \u001B[0mwindow_width\u001B[0m \u001B[0;34m=\u001B[0m \u001B[0mself\u001B[0m\u001B[0;34m.\u001B[0m\u001B[0mh\u001B[0m\u001B[0;34m\u001B[0m\u001B[0;34m\u001B[0m\u001B[0m\n\u001B[1;32m     49\u001B[0m         \u001B[0;32mif\u001B[0m \u001B[0mself\u001B[0m\u001B[0;34m.\u001B[0m\u001B[0mh\u001B[0m \u001B[0;32mis\u001B[0m \u001B[0;32mNone\u001B[0m\u001B[0;34m:\u001B[0m\u001B[0;34m\u001B[0m\u001B[0;34m\u001B[0m\u001B[0m\n",
      "\u001B[0;31mKeyboardInterrupt\u001B[0m: "
     ]
    }
   ],
   "source": [
    "for kernel_name in KernelRegressionClassifier.kernels.keys():\n",
    "    print('                 kernel: ', kernel_name)\n",
    "    for h in np.arange(0.1, 1.5,0.05):\n",
    "        clf = KernelRegressionClassifier(kernel_name=kernel_name, h=h, distance_func_name='manhattan')\n",
    "        # clf.fit(X_train, y_train)\n",
    "        clf.fit(X_train, y_train_one_hot)\n",
    "        y_test_pred = clf.predict(X_test).argmax(axis=1)\n",
    "        print('h: ', h)\n",
    "        analise(np.array(y_test), y_test_pred)\n",
    "\n",
    "# from sklearn.metrics import confusion_matrix\n",
    "# import seaborn as sns\n",
    "#\n",
    "# cm = confusion_matrix(y_test, y_test_pred)\n",
    "# plt.figure(dpi=200)\n",
    "# sns.set(font_scale=0.6)\n",
    "# g = sns.heatmap(cm, annot=True, annot_kws={\"size\": 5}, cmap=\"YlGnBu\")\n",
    "# plt.show()"
   ],
   "metadata": {
    "collapsed": false,
    "pycharm": {
     "name": "#%%\n"
    }
   }
  }
 ],
 "metadata": {
  "kernelspec": {
   "display_name": "Python 3",
   "language": "python",
   "name": "python3"
  },
  "language_info": {
   "codemirror_mode": {
    "name": "ipython",
    "version": 3
   },
   "file_extension": ".py",
   "mimetype": "text/x-python",
   "name": "python",
   "nbconvert_exporter": "python",
   "pygments_lexer": "ipython3",
   "version": "3.8.2"
  }
 },
 "nbformat": 4,
 "nbformat_minor": 1
}