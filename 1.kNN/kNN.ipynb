{
 "cells": [
  {
   "cell_type": "code",
   "execution_count": 96,
   "metadata": {
    "scrolled": true
   },
   "outputs": [],
   "source": [
    "import numpy as np\n",
    "import pandas as pd\n",
    "import matplotlib.pyplot as plt\n",
    "import math"
   ]
  },
  {
   "cell_type": "code",
   "execution_count": 97,
   "metadata": {
    "pycharm": {
     "name": "#%%\n"
    }
   },
   "outputs": [],
   "source": [
    "data = pd.read_csv('wall-robot-nav.csv').sample(frac=1)\n",
    "X = data.loc[:, 'V1':'V24']\n",
    "X = X / np.array(X).max(axis=0)\n",
    "y = data['Class']\n",
    "train_size = math.ceil(X.shape[0]*0.8)\n",
    "test_size = X.shape[0] - train_size\n",
    "X_train = X.head(train_size)\n",
    "y_train = y.head(train_size)\n",
    "X_test = X.tail(test_size)\n",
    "y_test = y.tail(test_size)"
   ]
  },
  {
   "cell_type": "code",
   "execution_count": 98,
   "metadata": {
    "pycharm": {
     "name": "#%%\n"
    }
   },
   "outputs": [],
   "source": [
    "\n",
    "def distance_euclid(x, xi):\n",
    "    return np.sqrt((np.square(x-xi)).sum(axis=1))\n",
    "\n",
    "\n",
    "def uniform_kernel(x):\n",
    "    new_x = x\n",
    "    new_x[new_x<=1] = 0.5\n",
    "    new_x[new_x>1] = 0\n",
    "    return new_x\n",
    "\n",
    "class KernelRegressionClassifier:\n",
    "\n",
    "    distance_functions = {\n",
    "        'euclid': distance_euclid\n",
    "    }\n",
    "\n",
    "    kernels = {\n",
    "        'uniform': uniform_kernel,\n",
    "    }\n",
    "\n",
    "    def __init__(self, X, y, h, k=10, kernel_name='uniform', distance_func_name='euclid'):\n",
    "        self.k = k\n",
    "        self.h = h\n",
    "        self.kernel_name = kernel_name\n",
    "        self.distance_func_name = distance_func_name\n",
    "        self.X = X\n",
    "        self.y = np.array(y)\n",
    "        self.kernel = self.kernels[self.kernel_name]\n",
    "        self.distance_func = self.distance_functions[self.distance_func_name]\n",
    "\n",
    "    def predict(self, x):\n",
    "        X_distance = np.apply_along_axis(self.distance_func, 1, x, self.X)\n",
    "        closest_indexes_matrix = X_distance.argsort()\n",
    "        X_smoothed = self.kernel(X_distance/self.h)\n",
    "        result = []\n",
    "        for i in range(len(X_smoothed)):\n",
    "            row = X_smoothed[i]\n",
    "            indexes_of_clossest = closest_indexes_matrix[i]\n",
    "            index_of_clossest = indexes_of_clossest[:self.k]\n",
    "            alg = (row[index_of_clossest] * self.y[index_of_clossest]).sum() / (row[index_of_clossest].sum() or 1)\n",
    "            result.append(math.ceil(alg))\n",
    "        return result"
   ]
  },
  {
   "cell_type": "code",
   "execution_count": 99,
   "outputs": [
    {
     "name": "stdout",
     "output_type": "stream",
     "text": [
      "Accuracy:  0.615032080659945\n"
     ]
    }
   ],
   "source": [
    "clf = KernelRegressionClassifier(X_train, y_train, h=10, k=10 )\n",
    "print('Accuracy: ', (clf.predict(X_test) == y_test).astype('int8').sum()/test_size)"
   ],
   "metadata": {
    "collapsed": false,
    "pycharm": {
     "name": "#%%\n"
    }
   }
  }
 ],
 "metadata": {
  "kernelspec": {
   "display_name": "Python 3",
   "language": "python",
   "name": "python3"
  },
  "language_info": {
   "codemirror_mode": {
    "name": "ipython",
    "version": 3
   },
   "file_extension": ".py",
   "mimetype": "text/x-python",
   "name": "python",
   "nbconvert_exporter": "python",
   "pygments_lexer": "ipython3",
   "version": "3.8.2"
  }
 },
 "nbformat": 4,
 "nbformat_minor": 1
}