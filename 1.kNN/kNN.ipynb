{
 "cells": [
  {
   "cell_type": "code",
   "execution_count": 185,
   "metadata": {
    "scrolled": true
   },
   "outputs": [],
   "source": [
    "import numpy as np\n",
    "import pandas as pd\n",
    "import matplotlib.pyplot as plt\n",
    "import math"
   ]
  },
  {
   "cell_type": "code",
   "execution_count": 186,
   "metadata": {
    "pycharm": {
     "name": "#%%\n"
    }
   },
   "outputs": [],
   "source": [
    "data = pd.read_csv('wall-robot-nav.csv').sample(frac=1)\n",
    "X = data.loc[:, 'V1':'V24']\n",
    "X = X / np.array(X).max(axis=0)\n",
    "y = data['Class']\n",
    "train_size = math.ceil(X.shape[0]*0.75)\n",
    "test_size = X.shape[0] - train_size\n",
    "X_train = X.head(train_size)\n",
    "y_train = y.head(train_size)\n",
    "X_test = X.tail(test_size)\n",
    "y_test = y.tail(test_size)"
   ]
  },
  {
   "cell_type": "code",
   "execution_count": 187,
   "metadata": {
    "pycharm": {
     "name": "#%%\n"
    }
   },
   "outputs": [],
   "source": [
    "\n",
    "def distance_euclid(x, xi):\n",
    "    return np.sqrt((np.square(x-xi)).sum(axis=1))\n",
    "\n",
    "\n",
    "def uniform_kernel(x):\n",
    "    new_x = x\n",
    "    new_x[new_x<=1] = 0.5\n",
    "    new_x[new_x>1] = 0\n",
    "    return new_x\n",
    "\n",
    "class KernelRegressionClassifier:\n",
    "\n",
    "    distance_functions = {\n",
    "        'euclid': distance_euclid\n",
    "    }\n",
    "\n",
    "    kernels = {\n",
    "        'uniform': uniform_kernel,\n",
    "    }\n",
    "\n",
    "    def __init__(self, X, y, h, k=10, kernel_name='uniform', distance_func_name='euclid'):\n",
    "        self.k = k\n",
    "        self.h = h\n",
    "        self.kernel_name = kernel_name\n",
    "        self.distance_func_name = distance_func_name\n",
    "        self.X = X\n",
    "        self.y = y\n",
    "        self.kernel = self.kernels[self.kernel_name]\n",
    "        self.distance_func = self.distance_functions[self.distance_func_name]\n",
    "\n",
    "    def predict(self, x):\n",
    "        x = x\n",
    "        X_distance = np.apply_along_axis(self.distance_func, 1, x, self.X)\n",
    "        print(X_distance)\n",
    "        X_smoothed = self.kernel(X_distance/self.h)\n",
    "        result = []\n",
    "        for row in X_smoothed:\n",
    "            # alg = (row[is_close_enough] * self.y[is_close_enough]).sum() / (row[is_close_enough].sum() or 1)\n",
    "            # result.append(math.ceil(alg))\n",
    "        return result"
   ]
  },
  {
   "cell_type": "code",
   "execution_count": 188,
   "outputs": [
    {
     "name": "stdout",
     "output_type": "stream",
     "text": [
      "[[1.44181086 2.02190564 1.86544284 ... 1.43357101 1.66562277 1.87897278]\n",
      " [1.83207319 1.89872479 1.84249905 ... 1.55668295 1.71068218 1.8486015 ]\n",
      " [1.72315894 1.81364635 1.64048532 ... 1.00766588 1.70453881 1.75332725]\n",
      " ...\n",
      " [1.39863192 2.1106002  1.88111922 ... 1.51390296 1.67822573 1.88659983]\n",
      " [1.85218729 2.35507771 1.81561736 ... 1.7933546  1.87301414 1.71645102]\n",
      " [1.26768787 1.74927327 1.76605907 ... 1.67458843 1.61293027 1.66414497]]\n",
      "[0. 0. 0. ... 0. 0. 0.]\n"
     ]
    },
    {
     "ename": "ValueError",
     "evalue": "operands could not be broadcast together with shapes (4092,) (0,) ",
     "output_type": "error",
     "traceback": [
      "\u001B[0;31m---------------------------------------------------------------------------\u001B[0m",
      "\u001B[0;31mValueError\u001B[0m                                Traceback (most recent call last)",
      "\u001B[0;32m<ipython-input-188-f820bdf2740b>\u001B[0m in \u001B[0;36m<module>\u001B[0;34m\u001B[0m\n\u001B[1;32m      1\u001B[0m \u001B[0mclf\u001B[0m \u001B[0;34m=\u001B[0m \u001B[0mKernelRegressionClassifier\u001B[0m\u001B[0;34m(\u001B[0m\u001B[0mX_train\u001B[0m\u001B[0;34m,\u001B[0m \u001B[0my_train\u001B[0m\u001B[0;34m,\u001B[0m \u001B[0mh\u001B[0m\u001B[0;34m=\u001B[0m\u001B[0;36m0.2\u001B[0m \u001B[0;34m)\u001B[0m\u001B[0;34m\u001B[0m\u001B[0;34m\u001B[0m\u001B[0m\n\u001B[0;32m----> 2\u001B[0;31m \u001B[0mprint\u001B[0m\u001B[0;34m(\u001B[0m\u001B[0;34m(\u001B[0m\u001B[0mclf\u001B[0m\u001B[0;34m.\u001B[0m\u001B[0mpredict\u001B[0m\u001B[0;34m(\u001B[0m\u001B[0mX_test\u001B[0m\u001B[0;34m)\u001B[0m \u001B[0;34m==\u001B[0m \u001B[0my_test\u001B[0m\u001B[0;34m)\u001B[0m\u001B[0;34m.\u001B[0m\u001B[0mastype\u001B[0m\u001B[0;34m(\u001B[0m\u001B[0;34m'int8'\u001B[0m\u001B[0;34m)\u001B[0m\u001B[0;34m.\u001B[0m\u001B[0msum\u001B[0m\u001B[0;34m(\u001B[0m\u001B[0;34m)\u001B[0m\u001B[0;34m/\u001B[0m\u001B[0mtest_size\u001B[0m\u001B[0;34m)\u001B[0m\u001B[0;34m\u001B[0m\u001B[0;34m\u001B[0m\u001B[0m\n\u001B[0m",
      "\u001B[0;32m<ipython-input-187-d736202affb3>\u001B[0m in \u001B[0;36mpredict\u001B[0;34m(self, x)\u001B[0m\n\u001B[1;32m     38\u001B[0m             \u001B[0mprint\u001B[0m\u001B[0;34m(\u001B[0m\u001B[0mrow\u001B[0m\u001B[0;34m)\u001B[0m\u001B[0;34m\u001B[0m\u001B[0;34m\u001B[0m\u001B[0m\n\u001B[1;32m     39\u001B[0m             \u001B[0mmax_dist\u001B[0m \u001B[0;34m=\u001B[0m \u001B[0mnp\u001B[0m\u001B[0;34m.\u001B[0m\u001B[0msort\u001B[0m\u001B[0;34m(\u001B[0m\u001B[0mrow\u001B[0m\u001B[0;34m[\u001B[0m\u001B[0mrow\u001B[0m\u001B[0;34m>\u001B[0m\u001B[0;36m0\u001B[0m\u001B[0;34m]\u001B[0m\u001B[0;34m)\u001B[0m\u001B[0;34m[\u001B[0m\u001B[0;34m:\u001B[0m\u001B[0mself\u001B[0m\u001B[0;34m.\u001B[0m\u001B[0mk\u001B[0m\u001B[0;34m]\u001B[0m\u001B[0;34m\u001B[0m\u001B[0;34m\u001B[0m\u001B[0m\n\u001B[0;32m---> 40\u001B[0;31m             \u001B[0mis_close_enough\u001B[0m \u001B[0;34m=\u001B[0m \u001B[0mnp\u001B[0m\u001B[0;34m.\u001B[0m\u001B[0mall\u001B[0m\u001B[0;34m(\u001B[0m\u001B[0;34m[\u001B[0m\u001B[0mrow\u001B[0m\u001B[0;34m<\u001B[0m\u001B[0mmax_dist\u001B[0m\u001B[0;34m,\u001B[0m \u001B[0mrow\u001B[0m\u001B[0;34m>\u001B[0m\u001B[0;36m0\u001B[0m\u001B[0;34m]\u001B[0m\u001B[0;34m,\u001B[0m \u001B[0maxis\u001B[0m\u001B[0;34m=\u001B[0m\u001B[0;36m0\u001B[0m\u001B[0;34m)\u001B[0m\u001B[0;34m\u001B[0m\u001B[0;34m\u001B[0m\u001B[0m\n\u001B[0m\u001B[1;32m     41\u001B[0m             \u001B[0malg\u001B[0m \u001B[0;34m=\u001B[0m \u001B[0;34m(\u001B[0m\u001B[0mrow\u001B[0m\u001B[0;34m[\u001B[0m\u001B[0mis_close_enough\u001B[0m\u001B[0;34m]\u001B[0m \u001B[0;34m*\u001B[0m \u001B[0mself\u001B[0m\u001B[0;34m.\u001B[0m\u001B[0my\u001B[0m\u001B[0;34m[\u001B[0m\u001B[0mis_close_enough\u001B[0m\u001B[0;34m]\u001B[0m\u001B[0;34m)\u001B[0m\u001B[0;34m.\u001B[0m\u001B[0msum\u001B[0m\u001B[0;34m(\u001B[0m\u001B[0;34m)\u001B[0m \u001B[0;34m/\u001B[0m \u001B[0;34m(\u001B[0m\u001B[0mrow\u001B[0m\u001B[0;34m[\u001B[0m\u001B[0mis_close_enough\u001B[0m\u001B[0;34m]\u001B[0m\u001B[0;34m.\u001B[0m\u001B[0msum\u001B[0m\u001B[0;34m(\u001B[0m\u001B[0;34m)\u001B[0m \u001B[0;32mor\u001B[0m \u001B[0;36m1\u001B[0m\u001B[0;34m)\u001B[0m\u001B[0;34m\u001B[0m\u001B[0;34m\u001B[0m\u001B[0m\n\u001B[1;32m     42\u001B[0m             \u001B[0mresult\u001B[0m\u001B[0;34m.\u001B[0m\u001B[0mappend\u001B[0m\u001B[0;34m(\u001B[0m\u001B[0mmath\u001B[0m\u001B[0;34m.\u001B[0m\u001B[0mceil\u001B[0m\u001B[0;34m(\u001B[0m\u001B[0malg\u001B[0m\u001B[0;34m)\u001B[0m\u001B[0;34m)\u001B[0m\u001B[0;34m\u001B[0m\u001B[0;34m\u001B[0m\u001B[0m\n",
      "\u001B[0;31mValueError\u001B[0m: operands could not be broadcast together with shapes (4092,) (0,) "
     ]
    }
   ],
   "source": [
    "clf = KernelRegressionClassifier(X_train, y_train, h=0.2 )\n",
    "print((clf.predict(X_test) == y_test).astype('int8').sum()/test_size)"
   ],
   "metadata": {
    "collapsed": false,
    "pycharm": {
     "name": "#%%\n"
    }
   }
  }
 ],
 "metadata": {
  "kernelspec": {
   "display_name": "Python 3",
   "language": "python",
   "name": "python3"
  },
  "language_info": {
   "codemirror_mode": {
    "name": "ipython",
    "version": 3
   },
   "file_extension": ".py",
   "mimetype": "text/x-python",
   "name": "python",
   "nbconvert_exporter": "python",
   "pygments_lexer": "ipython3",
   "version": "3.8.2"
  }
 },
 "nbformat": 4,
 "nbformat_minor": 1
}