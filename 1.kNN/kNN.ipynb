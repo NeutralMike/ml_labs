{
 "cells": [
  {
   "cell_type": "code",
   "execution_count": 116,
   "metadata": {
    "scrolled": true
   },
   "outputs": [],
   "source": [
    "import numpy as np\n",
    "import pandas as pd\n",
    "import matplotlib.pyplot as plt\n"
   ]
  },
  {
   "cell_type": "code",
   "execution_count": 117,
   "metadata": {
    "pycharm": {
     "name": "#%%\n"
    }
   },
   "outputs": [],
   "source": [
    "data = pd.read_csv('wall-robot-nav.csv').sample(frac=1)\n",
    "X = data.loc[:, 'V1':'V24']\n",
    "X = (X - X.min(axis=0))/ (X.max(axis=0) - X.min(axis=0)) #normolize features\n",
    "y = data['Class'] - 1 # reduce classes values from 1,2,3,4 to 0,1,2,3\n",
    "\n",
    "N = X.shape[0]\n",
    "classes_num = 4\n",
    "train_size = np.ceil(N*0.8).astype('int32')\n",
    "test_size = N - train_size\n",
    "\n",
    "X_train = X.head(train_size)\n",
    "y_train = y.head(train_size)\n",
    "X_test = X.tail(test_size)\n",
    "y_test = y.tail(test_size)\n",
    "\n",
    "y_one_hot = np.eye(classes_num, dtype=np.int8)[y]\n",
    "y_train_one_hot = np.eye(classes_num, dtype=np.int8)[y_train]\n",
    "y_test_one_hot = np.eye(classes_num, dtype=np.int8)[y_test]"
   ]
  },
  {
   "cell_type": "code",
   "execution_count": 123,
   "metadata": {
    "pycharm": {
     "name": "#%%\n"
    }
   },
   "outputs": [],
   "source": [
    "class KernelRegressionClassifier:\n",
    "    distance_functions = {\n",
    "        'euclid': lambda x, xi: np.sqrt((np.square(x-xi)).sum(axis=1)),\n",
    "        'manhattan': lambda x, xi: np.abs(x-xi).sum(axis=1),\n",
    "    }\n",
    "    kernels = {\n",
    "        'uniform': lambda x: np.where(x<1, 0.5, 0),\n",
    "        'triweight': lambda x: np.where(x<1, (35/32 *np.power((1-np.square(x)),3)), 0),\n",
    "        'triangular': lambda x: np.where(x<1, 1-x, 0),\n",
    "        'quartic': lambda x: np.where(x<1, (15/16 *np.power((1-np.square(x)),2)), 0),\n",
    "        'epanechnikov': lambda x: np.where(x<1, (3/4 *(1-np.square(x))) , 0),\n",
    "        'cosine': lambda x: np.where(x<1, (np.pi/4 *(1-np.square(x))) , 0),\n",
    "        'gaussian': lambda x: (1/np.sqrt(2* np.pi)) * np.exp((-1/2) * np.square(x)),\n",
    "    }\n",
    "\n",
    "\n",
    "    def __init__(self, k=10, h=None, kernel_name='uniform', distance_func_name='euclid'):\n",
    "        self.k = k\n",
    "        self.h = h\n",
    "        self.kernel_name = kernel_name\n",
    "        self.distance_func_name = distance_func_name\n",
    "        self.kernel = self.kernels[self.kernel_name]\n",
    "        self.distance_func = self.distance_functions[self.distance_func_name]\n",
    "\n",
    "\n",
    "    @classmethod\n",
    "    def from_data(cls, X, y, k=10, h=None, kernel_name='uniform', distance_func_name='euclid'):\n",
    "        instance = cls(k, h, kernel_name, distance_func_name)\n",
    "        instance.fit(X, y)\n",
    "        return instance\n",
    "\n",
    "\n",
    "    def fit(self, X, y):\n",
    "        self.X = X\n",
    "        self.y = np.array(y)\n",
    "\n",
    "\n",
    "    def multiply_weihts_of_nearest(self, weights, indexes, y):\n",
    "        res = []\n",
    "        for i in range(len(indexes)):\n",
    "            res.append((weights[i][indexes[i]] * y[indexes[i]]).sum() / weights[i][indexes[i]].sum())\n",
    "        return res\n",
    "\n",
    "\n",
    "    def predict(self, x):\n",
    "        X_distance = np.apply_along_axis(self.distance_func, 1, x, self.X)\n",
    "        nearest_indexes_matrix = X_distance.argsort()[:,:self.k]\n",
    "        window_width = self.h\n",
    "        if self.h is None:\n",
    "            window_width = []\n",
    "            for row in X_distance:\n",
    "                window_width.append(row[row.argsort()[self.k]])\n",
    "            window_width = np.array([window_width]).T\n",
    "        X_smoothed = self.kernel(X_distance/window_width)\n",
    "\n",
    "        if len(self.y.shape) == 2:\n",
    "            return np.array([\n",
    "                self.multiply_weihts_of_nearest(X_smoothed, nearest_indexes_matrix, self.y[:,i])\n",
    "                for i in range(self.y.shape[1])\n",
    "            ]).T\n",
    "        real_weights = self.multiply_weihts_of_nearest(X_smoothed, nearest_indexes_matrix, self.y)\n",
    "        return np.ceil(real_weights).astype('int8')"
   ]
  },
  {
   "cell_type": "code",
   "execution_count": 119,
   "outputs": [],
   "source": [
    "def analise(y, y_pred):\n",
    "    tp_list = [np.all([y==y_pred, y_pred==i], axis=0).astype('int8').sum() for i in range(4)]\n",
    "    recall_mean = np.mean([tp_list[i] / (y == i).astype('int8').sum() for i in range(4) ])\n",
    "    precision_mean = np.mean([tp_list[i]/ (y_pred == i).astype('int8').sum() for i in range(4) ])\n",
    "    f_measure = 2*precision_mean*recall_mean/(precision_mean+recall_mean)\n",
    "    # print('    f measure: ', f_measure)\n",
    "    return f_measure"
   ],
   "metadata": {
    "collapsed": false,
    "pycharm": {
     "name": "#%%\n"
    }
   }
  },
  {
   "cell_type": "code",
   "execution_count": 201,
   "outputs": [
    {
     "name": "stderr",
     "output_type": "stream",
     "text": [
      "<ipython-input-123-64de25c914fc>:54: RuntimeWarning: divide by zero encountered in true_divide\n",
      "  X_smoothed = self.kernel(X_distance/window_width)\n",
      "<ipython-input-123-64de25c914fc>:41: RuntimeWarning: invalid value encountered in double_scalars\n",
      "  res.append((weights[i][indexes[i]] * y[indexes[i]]).sum() / weights[i][indexes[i]].sum())\n",
      "<ipython-input-119-9f984c8f6a7f>:4: RuntimeWarning: invalid value encountered in long_scalars\n",
      "  precision_mean = np.mean([tp_list[i]/ (y_pred == i).astype('int8').sum() for i in range(4) ])\n"
     ]
    },
    {
     "ename": "KeyboardInterrupt",
     "evalue": "",
     "output_type": "error",
     "traceback": [
      "\u001B[0;31m---------------------------------------------------------------------------\u001B[0m",
      "\u001B[0;31mKeyboardInterrupt\u001B[0m                         Traceback (most recent call last)",
      "\u001B[0;32m<ipython-input-201-0f12cbcdbe0c>\u001B[0m in \u001B[0;36m<module>\u001B[0;34m\u001B[0m\n\u001B[1;32m      9\u001B[0m                 \u001B[0mkernel_name\u001B[0m\u001B[0;34m=\u001B[0m\u001B[0mkernel_name\u001B[0m\u001B[0;34m,\u001B[0m \u001B[0mh\u001B[0m\u001B[0;34m=\u001B[0m\u001B[0mh\u001B[0m\u001B[0;34m,\u001B[0m\u001B[0mdistance_func_name\u001B[0m\u001B[0;34m=\u001B[0m\u001B[0mdistance_name\u001B[0m\u001B[0;34m\u001B[0m\u001B[0;34m\u001B[0m\u001B[0m\n\u001B[1;32m     10\u001B[0m             )\n\u001B[0;32m---> 11\u001B[0;31m             \u001B[0my_test_pred\u001B[0m \u001B[0;34m=\u001B[0m \u001B[0mclf\u001B[0m\u001B[0;34m.\u001B[0m\u001B[0mpredict\u001B[0m\u001B[0;34m(\u001B[0m\u001B[0mX_test\u001B[0m\u001B[0;34m)\u001B[0m\u001B[0;34m.\u001B[0m\u001B[0margmax\u001B[0m\u001B[0;34m(\u001B[0m\u001B[0maxis\u001B[0m\u001B[0;34m=\u001B[0m\u001B[0;36m1\u001B[0m\u001B[0;34m)\u001B[0m\u001B[0;34m\u001B[0m\u001B[0;34m\u001B[0m\u001B[0m\n\u001B[0m\u001B[1;32m     12\u001B[0m             \u001B[0;31m# print('h: ', h)\u001B[0m\u001B[0;34m\u001B[0m\u001B[0;34m\u001B[0m\u001B[0;34m\u001B[0m\u001B[0m\n\u001B[1;32m     13\u001B[0m             \u001B[0mf\u001B[0m \u001B[0;34m=\u001B[0m \u001B[0manalise\u001B[0m\u001B[0;34m(\u001B[0m\u001B[0mnp\u001B[0m\u001B[0;34m.\u001B[0m\u001B[0marray\u001B[0m\u001B[0;34m(\u001B[0m\u001B[0my_test\u001B[0m\u001B[0;34m)\u001B[0m\u001B[0;34m,\u001B[0m \u001B[0my_test_pred\u001B[0m\u001B[0;34m)\u001B[0m\u001B[0;34m\u001B[0m\u001B[0;34m\u001B[0m\u001B[0m\n",
      "\u001B[0;32m<ipython-input-123-64de25c914fc>\u001B[0m in \u001B[0;36mpredict\u001B[0;34m(self, x)\u001B[0m\n\u001B[1;32m     44\u001B[0m \u001B[0;34m\u001B[0m\u001B[0m\n\u001B[1;32m     45\u001B[0m     \u001B[0;32mdef\u001B[0m \u001B[0mpredict\u001B[0m\u001B[0;34m(\u001B[0m\u001B[0mself\u001B[0m\u001B[0;34m,\u001B[0m \u001B[0mx\u001B[0m\u001B[0;34m)\u001B[0m\u001B[0;34m:\u001B[0m\u001B[0;34m\u001B[0m\u001B[0;34m\u001B[0m\u001B[0m\n\u001B[0;32m---> 46\u001B[0;31m         \u001B[0mX_distance\u001B[0m \u001B[0;34m=\u001B[0m \u001B[0mnp\u001B[0m\u001B[0;34m.\u001B[0m\u001B[0mapply_along_axis\u001B[0m\u001B[0;34m(\u001B[0m\u001B[0mself\u001B[0m\u001B[0;34m.\u001B[0m\u001B[0mdistance_func\u001B[0m\u001B[0;34m,\u001B[0m \u001B[0;36m1\u001B[0m\u001B[0;34m,\u001B[0m \u001B[0mx\u001B[0m\u001B[0;34m,\u001B[0m \u001B[0mself\u001B[0m\u001B[0;34m.\u001B[0m\u001B[0mX\u001B[0m\u001B[0;34m)\u001B[0m\u001B[0;34m\u001B[0m\u001B[0;34m\u001B[0m\u001B[0m\n\u001B[0m\u001B[1;32m     47\u001B[0m         \u001B[0mnearest_indexes_matrix\u001B[0m \u001B[0;34m=\u001B[0m \u001B[0mX_distance\u001B[0m\u001B[0;34m.\u001B[0m\u001B[0margsort\u001B[0m\u001B[0;34m(\u001B[0m\u001B[0;34m)\u001B[0m\u001B[0;34m[\u001B[0m\u001B[0;34m:\u001B[0m\u001B[0;34m,\u001B[0m\u001B[0;34m:\u001B[0m\u001B[0mself\u001B[0m\u001B[0;34m.\u001B[0m\u001B[0mk\u001B[0m\u001B[0;34m]\u001B[0m\u001B[0;34m\u001B[0m\u001B[0;34m\u001B[0m\u001B[0m\n\u001B[1;32m     48\u001B[0m         \u001B[0mwindow_width\u001B[0m \u001B[0;34m=\u001B[0m \u001B[0mself\u001B[0m\u001B[0;34m.\u001B[0m\u001B[0mh\u001B[0m\u001B[0;34m\u001B[0m\u001B[0;34m\u001B[0m\u001B[0m\n",
      "\u001B[0;32m<__array_function__ internals>\u001B[0m in \u001B[0;36mapply_along_axis\u001B[0;34m(*args, **kwargs)\u001B[0m\n",
      "\u001B[0;32m~/Projects/ml_labs/venv/lib/python3.8/site-packages/numpy/lib/shape_base.py\u001B[0m in \u001B[0;36mapply_along_axis\u001B[0;34m(func1d, axis, arr, *args, **kwargs)\u001B[0m\n\u001B[1;32m    400\u001B[0m     \u001B[0mbuff\u001B[0m\u001B[0;34m[\u001B[0m\u001B[0mind0\u001B[0m\u001B[0;34m]\u001B[0m \u001B[0;34m=\u001B[0m \u001B[0mres\u001B[0m\u001B[0;34m\u001B[0m\u001B[0;34m\u001B[0m\u001B[0m\n\u001B[1;32m    401\u001B[0m     \u001B[0;32mfor\u001B[0m \u001B[0mind\u001B[0m \u001B[0;32min\u001B[0m \u001B[0minds\u001B[0m\u001B[0;34m:\u001B[0m\u001B[0;34m\u001B[0m\u001B[0;34m\u001B[0m\u001B[0m\n\u001B[0;32m--> 402\u001B[0;31m         \u001B[0mbuff\u001B[0m\u001B[0;34m[\u001B[0m\u001B[0mind\u001B[0m\u001B[0;34m]\u001B[0m \u001B[0;34m=\u001B[0m \u001B[0masanyarray\u001B[0m\u001B[0;34m(\u001B[0m\u001B[0mfunc1d\u001B[0m\u001B[0;34m(\u001B[0m\u001B[0minarr_view\u001B[0m\u001B[0;34m[\u001B[0m\u001B[0mind\u001B[0m\u001B[0;34m]\u001B[0m\u001B[0;34m,\u001B[0m \u001B[0;34m*\u001B[0m\u001B[0margs\u001B[0m\u001B[0;34m,\u001B[0m \u001B[0;34m**\u001B[0m\u001B[0mkwargs\u001B[0m\u001B[0;34m)\u001B[0m\u001B[0;34m)\u001B[0m\u001B[0;34m\u001B[0m\u001B[0;34m\u001B[0m\u001B[0m\n\u001B[0m\u001B[1;32m    403\u001B[0m \u001B[0;34m\u001B[0m\u001B[0m\n\u001B[1;32m    404\u001B[0m     \u001B[0;32mif\u001B[0m \u001B[0;32mnot\u001B[0m \u001B[0misinstance\u001B[0m\u001B[0;34m(\u001B[0m\u001B[0mres\u001B[0m\u001B[0;34m,\u001B[0m \u001B[0mmatrix\u001B[0m\u001B[0;34m)\u001B[0m\u001B[0;34m:\u001B[0m\u001B[0;34m\u001B[0m\u001B[0;34m\u001B[0m\u001B[0m\n",
      "\u001B[0;32m<ipython-input-123-64de25c914fc>\u001B[0m in \u001B[0;36m<lambda>\u001B[0;34m(x, xi)\u001B[0m\n\u001B[1;32m      1\u001B[0m \u001B[0;32mclass\u001B[0m \u001B[0mKernelRegressionClassifier\u001B[0m\u001B[0;34m:\u001B[0m\u001B[0;34m\u001B[0m\u001B[0;34m\u001B[0m\u001B[0m\n\u001B[1;32m      2\u001B[0m     distance_functions = {\n\u001B[0;32m----> 3\u001B[0;31m         \u001B[0;34m'euclid'\u001B[0m\u001B[0;34m:\u001B[0m \u001B[0;32mlambda\u001B[0m \u001B[0mx\u001B[0m\u001B[0;34m,\u001B[0m \u001B[0mxi\u001B[0m\u001B[0;34m:\u001B[0m \u001B[0mnp\u001B[0m\u001B[0;34m.\u001B[0m\u001B[0msqrt\u001B[0m\u001B[0;34m(\u001B[0m\u001B[0;34m(\u001B[0m\u001B[0mnp\u001B[0m\u001B[0;34m.\u001B[0m\u001B[0msquare\u001B[0m\u001B[0;34m(\u001B[0m\u001B[0mx\u001B[0m\u001B[0;34m-\u001B[0m\u001B[0mxi\u001B[0m\u001B[0;34m)\u001B[0m\u001B[0;34m)\u001B[0m\u001B[0;34m.\u001B[0m\u001B[0msum\u001B[0m\u001B[0;34m(\u001B[0m\u001B[0maxis\u001B[0m\u001B[0;34m=\u001B[0m\u001B[0;36m1\u001B[0m\u001B[0;34m)\u001B[0m\u001B[0;34m)\u001B[0m\u001B[0;34m,\u001B[0m\u001B[0;34m\u001B[0m\u001B[0;34m\u001B[0m\u001B[0m\n\u001B[0m\u001B[1;32m      4\u001B[0m         \u001B[0;34m'manhattan'\u001B[0m\u001B[0;34m:\u001B[0m \u001B[0;32mlambda\u001B[0m \u001B[0mx\u001B[0m\u001B[0;34m,\u001B[0m \u001B[0mxi\u001B[0m\u001B[0;34m:\u001B[0m \u001B[0mnp\u001B[0m\u001B[0;34m.\u001B[0m\u001B[0mabs\u001B[0m\u001B[0;34m(\u001B[0m\u001B[0mx\u001B[0m\u001B[0;34m-\u001B[0m\u001B[0mxi\u001B[0m\u001B[0;34m)\u001B[0m\u001B[0;34m.\u001B[0m\u001B[0msum\u001B[0m\u001B[0;34m(\u001B[0m\u001B[0maxis\u001B[0m\u001B[0;34m=\u001B[0m\u001B[0;36m1\u001B[0m\u001B[0;34m)\u001B[0m\u001B[0;34m,\u001B[0m\u001B[0;34m\u001B[0m\u001B[0;34m\u001B[0m\u001B[0m\n\u001B[1;32m      5\u001B[0m     }\n",
      "\u001B[0;32m~/Projects/ml_labs/venv/lib/python3.8/site-packages/pandas/core/ops/__init__.py\u001B[0m in \u001B[0;36mf\u001B[0;34m(self, other, axis, level, fill_value)\u001B[0m\n\u001B[1;32m    649\u001B[0m         \u001B[0;32mif\u001B[0m \u001B[0misinstance\u001B[0m\u001B[0;34m(\u001B[0m\u001B[0mother\u001B[0m\u001B[0;34m,\u001B[0m \u001B[0mABCDataFrame\u001B[0m\u001B[0;34m)\u001B[0m\u001B[0;34m:\u001B[0m\u001B[0;34m\u001B[0m\u001B[0;34m\u001B[0m\u001B[0m\n\u001B[1;32m    650\u001B[0m             \u001B[0;31m# Another DataFrame\u001B[0m\u001B[0;34m\u001B[0m\u001B[0;34m\u001B[0m\u001B[0;34m\u001B[0m\u001B[0m\n\u001B[0;32m--> 651\u001B[0;31m             \u001B[0mnew_data\u001B[0m \u001B[0;34m=\u001B[0m \u001B[0mself\u001B[0m\u001B[0;34m.\u001B[0m\u001B[0m_combine_frame\u001B[0m\u001B[0;34m(\u001B[0m\u001B[0mother\u001B[0m\u001B[0;34m,\u001B[0m \u001B[0mna_op\u001B[0m\u001B[0;34m,\u001B[0m \u001B[0mfill_value\u001B[0m\u001B[0;34m)\u001B[0m\u001B[0;34m\u001B[0m\u001B[0;34m\u001B[0m\u001B[0m\n\u001B[0m\u001B[1;32m    652\u001B[0m \u001B[0;34m\u001B[0m\u001B[0m\n\u001B[1;32m    653\u001B[0m         \u001B[0;32melif\u001B[0m \u001B[0misinstance\u001B[0m\u001B[0;34m(\u001B[0m\u001B[0mother\u001B[0m\u001B[0;34m,\u001B[0m \u001B[0mABCSeries\u001B[0m\u001B[0;34m)\u001B[0m\u001B[0;34m:\u001B[0m\u001B[0;34m\u001B[0m\u001B[0;34m\u001B[0m\u001B[0m\n",
      "\u001B[0;32m~/Projects/ml_labs/venv/lib/python3.8/site-packages/pandas/core/frame.py\u001B[0m in \u001B[0;36m_combine_frame\u001B[0;34m(self, other, func, fill_value)\u001B[0m\n\u001B[1;32m   5863\u001B[0m                 \u001B[0;32mreturn\u001B[0m \u001B[0mfunc\u001B[0m\u001B[0;34m(\u001B[0m\u001B[0mleft\u001B[0m\u001B[0;34m,\u001B[0m \u001B[0mright\u001B[0m\u001B[0;34m)\u001B[0m\u001B[0;34m\u001B[0m\u001B[0;34m\u001B[0m\u001B[0m\n\u001B[1;32m   5864\u001B[0m \u001B[0;34m\u001B[0m\u001B[0m\n\u001B[0;32m-> 5865\u001B[0;31m         \u001B[0mnew_data\u001B[0m \u001B[0;34m=\u001B[0m \u001B[0mops\u001B[0m\u001B[0;34m.\u001B[0m\u001B[0mdispatch_to_series\u001B[0m\u001B[0;34m(\u001B[0m\u001B[0mself\u001B[0m\u001B[0;34m,\u001B[0m \u001B[0mother\u001B[0m\u001B[0;34m,\u001B[0m \u001B[0m_arith_op\u001B[0m\u001B[0;34m)\u001B[0m\u001B[0;34m\u001B[0m\u001B[0;34m\u001B[0m\u001B[0m\n\u001B[0m\u001B[1;32m   5866\u001B[0m         \u001B[0;32mreturn\u001B[0m \u001B[0mnew_data\u001B[0m\u001B[0;34m\u001B[0m\u001B[0;34m\u001B[0m\u001B[0m\n\u001B[1;32m   5867\u001B[0m \u001B[0;34m\u001B[0m\u001B[0m\n",
      "\u001B[0;32m~/Projects/ml_labs/venv/lib/python3.8/site-packages/pandas/core/ops/__init__.py\u001B[0m in \u001B[0;36mdispatch_to_series\u001B[0;34m(left, right, func, axis)\u001B[0m\n\u001B[1;32m    273\u001B[0m         \u001B[0;31m#  _frame_arith_method_with_reindex\u001B[0m\u001B[0;34m\u001B[0m\u001B[0;34m\u001B[0m\u001B[0;34m\u001B[0m\u001B[0m\n\u001B[1;32m    274\u001B[0m \u001B[0;34m\u001B[0m\u001B[0m\n\u001B[0;32m--> 275\u001B[0;31m         \u001B[0mbm\u001B[0m \u001B[0;34m=\u001B[0m \u001B[0mleft\u001B[0m\u001B[0;34m.\u001B[0m\u001B[0m_mgr\u001B[0m\u001B[0;34m.\u001B[0m\u001B[0moperate_blockwise\u001B[0m\u001B[0;34m(\u001B[0m\u001B[0mright\u001B[0m\u001B[0;34m.\u001B[0m\u001B[0m_mgr\u001B[0m\u001B[0;34m,\u001B[0m \u001B[0marray_op\u001B[0m\u001B[0;34m)\u001B[0m\u001B[0;34m\u001B[0m\u001B[0;34m\u001B[0m\u001B[0m\n\u001B[0m\u001B[1;32m    276\u001B[0m         \u001B[0;32mreturn\u001B[0m \u001B[0mtype\u001B[0m\u001B[0;34m(\u001B[0m\u001B[0mleft\u001B[0m\u001B[0;34m)\u001B[0m\u001B[0;34m(\u001B[0m\u001B[0mbm\u001B[0m\u001B[0;34m)\u001B[0m\u001B[0;34m\u001B[0m\u001B[0;34m\u001B[0m\u001B[0m\n\u001B[1;32m    277\u001B[0m \u001B[0;34m\u001B[0m\u001B[0m\n",
      "\u001B[0;32m~/Projects/ml_labs/venv/lib/python3.8/site-packages/pandas/core/internals/managers.py\u001B[0m in \u001B[0;36moperate_blockwise\u001B[0;34m(self, other, array_op)\u001B[0m\n\u001B[1;32m    362\u001B[0m         \u001B[0mApply\u001B[0m \u001B[0marray_op\u001B[0m \u001B[0mblockwise\u001B[0m \u001B[0;32mwith\u001B[0m \u001B[0manother\u001B[0m \u001B[0;34m(\u001B[0m\u001B[0maligned\u001B[0m\u001B[0;34m)\u001B[0m \u001B[0mBlockManager\u001B[0m\u001B[0;34m.\u001B[0m\u001B[0;34m\u001B[0m\u001B[0;34m\u001B[0m\u001B[0m\n\u001B[1;32m    363\u001B[0m         \"\"\"\n\u001B[0;32m--> 364\u001B[0;31m         \u001B[0;32mreturn\u001B[0m \u001B[0moperate_blockwise\u001B[0m\u001B[0;34m(\u001B[0m\u001B[0mself\u001B[0m\u001B[0;34m,\u001B[0m \u001B[0mother\u001B[0m\u001B[0;34m,\u001B[0m \u001B[0marray_op\u001B[0m\u001B[0;34m)\u001B[0m\u001B[0;34m\u001B[0m\u001B[0;34m\u001B[0m\u001B[0m\n\u001B[0m\u001B[1;32m    365\u001B[0m \u001B[0;34m\u001B[0m\u001B[0m\n\u001B[1;32m    366\u001B[0m     \u001B[0;32mdef\u001B[0m \u001B[0mapply\u001B[0m\u001B[0;34m(\u001B[0m\u001B[0mself\u001B[0m\u001B[0;34m:\u001B[0m \u001B[0mT\u001B[0m\u001B[0;34m,\u001B[0m \u001B[0mf\u001B[0m\u001B[0;34m,\u001B[0m \u001B[0malign_keys\u001B[0m\u001B[0;34m=\u001B[0m\u001B[0;32mNone\u001B[0m\u001B[0;34m,\u001B[0m \u001B[0;34m**\u001B[0m\u001B[0mkwargs\u001B[0m\u001B[0;34m)\u001B[0m \u001B[0;34m->\u001B[0m \u001B[0mT\u001B[0m\u001B[0;34m:\u001B[0m\u001B[0;34m\u001B[0m\u001B[0;34m\u001B[0m\u001B[0m\n",
      "\u001B[0;32m~/Projects/ml_labs/venv/lib/python3.8/site-packages/pandas/core/internals/ops.py\u001B[0m in \u001B[0;36moperate_blockwise\u001B[0;34m(left, right, array_op)\u001B[0m\n\u001B[1;32m     47\u001B[0m             \u001B[0;31m#    assert res_values.shape == lvals.shape, (res_values.shape, lvals.shape)\u001B[0m\u001B[0;34m\u001B[0m\u001B[0;34m\u001B[0m\u001B[0;34m\u001B[0m\u001B[0m\n\u001B[1;32m     48\u001B[0m \u001B[0;34m\u001B[0m\u001B[0m\n\u001B[0;32m---> 49\u001B[0;31m             \u001B[0m_reset_block_mgr_locs\u001B[0m\u001B[0;34m(\u001B[0m\u001B[0mnbs\u001B[0m\u001B[0;34m,\u001B[0m \u001B[0mlocs\u001B[0m\u001B[0;34m)\u001B[0m\u001B[0;34m\u001B[0m\u001B[0;34m\u001B[0m\u001B[0m\n\u001B[0m\u001B[1;32m     50\u001B[0m \u001B[0;34m\u001B[0m\u001B[0m\n\u001B[1;32m     51\u001B[0m             \u001B[0mres_blks\u001B[0m\u001B[0;34m.\u001B[0m\u001B[0mextend\u001B[0m\u001B[0;34m(\u001B[0m\u001B[0mnbs\u001B[0m\u001B[0;34m)\u001B[0m\u001B[0;34m\u001B[0m\u001B[0;34m\u001B[0m\u001B[0m\n",
      "\u001B[0;32m~/Projects/ml_labs/venv/lib/python3.8/site-packages/pandas/core/internals/ops.py\u001B[0m in \u001B[0;36m_reset_block_mgr_locs\u001B[0;34m(nbs, locs)\u001B[0m\n\u001B[1;32m     68\u001B[0m     \u001B[0;32mfor\u001B[0m \u001B[0mnb\u001B[0m \u001B[0;32min\u001B[0m \u001B[0mnbs\u001B[0m\u001B[0;34m:\u001B[0m\u001B[0;34m\u001B[0m\u001B[0;34m\u001B[0m\u001B[0m\n\u001B[1;32m     69\u001B[0m         \u001B[0mnblocs\u001B[0m \u001B[0;34m=\u001B[0m \u001B[0mlocs\u001B[0m\u001B[0;34m.\u001B[0m\u001B[0mas_array\u001B[0m\u001B[0;34m[\u001B[0m\u001B[0mnb\u001B[0m\u001B[0;34m.\u001B[0m\u001B[0mmgr_locs\u001B[0m\u001B[0;34m.\u001B[0m\u001B[0mindexer\u001B[0m\u001B[0;34m]\u001B[0m\u001B[0;34m\u001B[0m\u001B[0;34m\u001B[0m\u001B[0m\n\u001B[0;32m---> 70\u001B[0;31m         \u001B[0mnb\u001B[0m\u001B[0;34m.\u001B[0m\u001B[0mmgr_locs\u001B[0m \u001B[0;34m=\u001B[0m \u001B[0mnblocs\u001B[0m\u001B[0;34m\u001B[0m\u001B[0;34m\u001B[0m\u001B[0m\n\u001B[0m\u001B[1;32m     71\u001B[0m         \u001B[0;31m# Assertions are disabled for performance, but should hold:\u001B[0m\u001B[0;34m\u001B[0m\u001B[0;34m\u001B[0m\u001B[0;34m\u001B[0m\u001B[0m\n\u001B[1;32m     72\u001B[0m         \u001B[0;31m#  assert len(nblocs) == nb.shape[0], (len(nblocs), nb.shape)\u001B[0m\u001B[0;34m\u001B[0m\u001B[0;34m\u001B[0m\u001B[0;34m\u001B[0m\u001B[0m\n",
      "\u001B[0;32m~/Projects/ml_labs/venv/lib/python3.8/site-packages/pandas/core/internals/blocks.py\u001B[0m in \u001B[0;36mmgr_locs\u001B[0;34m(self, new_mgr_locs)\u001B[0m\n\u001B[1;32m    237\u001B[0m     \u001B[0;32mdef\u001B[0m \u001B[0mmgr_locs\u001B[0m\u001B[0;34m(\u001B[0m\u001B[0mself\u001B[0m\u001B[0;34m,\u001B[0m \u001B[0mnew_mgr_locs\u001B[0m\u001B[0;34m)\u001B[0m\u001B[0;34m:\u001B[0m\u001B[0;34m\u001B[0m\u001B[0;34m\u001B[0m\u001B[0m\n\u001B[1;32m    238\u001B[0m         \u001B[0;32mif\u001B[0m \u001B[0;32mnot\u001B[0m \u001B[0misinstance\u001B[0m\u001B[0;34m(\u001B[0m\u001B[0mnew_mgr_locs\u001B[0m\u001B[0;34m,\u001B[0m \u001B[0mlibinternals\u001B[0m\u001B[0;34m.\u001B[0m\u001B[0mBlockPlacement\u001B[0m\u001B[0;34m)\u001B[0m\u001B[0;34m:\u001B[0m\u001B[0;34m\u001B[0m\u001B[0;34m\u001B[0m\u001B[0m\n\u001B[0;32m--> 239\u001B[0;31m             \u001B[0mnew_mgr_locs\u001B[0m \u001B[0;34m=\u001B[0m \u001B[0mlibinternals\u001B[0m\u001B[0;34m.\u001B[0m\u001B[0mBlockPlacement\u001B[0m\u001B[0;34m(\u001B[0m\u001B[0mnew_mgr_locs\u001B[0m\u001B[0;34m)\u001B[0m\u001B[0;34m\u001B[0m\u001B[0;34m\u001B[0m\u001B[0m\n\u001B[0m\u001B[1;32m    240\u001B[0m \u001B[0;34m\u001B[0m\u001B[0m\n\u001B[1;32m    241\u001B[0m         \u001B[0mself\u001B[0m\u001B[0;34m.\u001B[0m\u001B[0m_mgr_locs\u001B[0m \u001B[0;34m=\u001B[0m \u001B[0mnew_mgr_locs\u001B[0m\u001B[0;34m\u001B[0m\u001B[0;34m\u001B[0m\u001B[0m\n",
      "\u001B[0;32mpandas/_libs/internals.pyx\u001B[0m in \u001B[0;36mpandas._libs.internals.BlockPlacement.__init__\u001B[0;34m()\u001B[0m\n",
      "\u001B[0;32m~/Projects/ml_labs/venv/lib/python3.8/site-packages/numpy/core/_asarray.py\u001B[0m in \u001B[0;36mrequire\u001B[0;34m(a, dtype, requirements)\u001B[0m\n\u001B[1;32m    219\u001B[0m \u001B[0;34m\u001B[0m\u001B[0m\n\u001B[1;32m    220\u001B[0m \u001B[0;34m\u001B[0m\u001B[0m\n\u001B[0;32m--> 221\u001B[0;31m \u001B[0;34m@\u001B[0m\u001B[0mset_module\u001B[0m\u001B[0;34m(\u001B[0m\u001B[0;34m'numpy'\u001B[0m\u001B[0;34m)\u001B[0m\u001B[0;34m\u001B[0m\u001B[0;34m\u001B[0m\u001B[0m\n\u001B[0m\u001B[1;32m    222\u001B[0m \u001B[0;32mdef\u001B[0m \u001B[0mrequire\u001B[0m\u001B[0;34m(\u001B[0m\u001B[0ma\u001B[0m\u001B[0;34m,\u001B[0m \u001B[0mdtype\u001B[0m\u001B[0;34m=\u001B[0m\u001B[0;32mNone\u001B[0m\u001B[0;34m,\u001B[0m \u001B[0mrequirements\u001B[0m\u001B[0;34m=\u001B[0m\u001B[0;32mNone\u001B[0m\u001B[0;34m)\u001B[0m\u001B[0;34m:\u001B[0m\u001B[0;34m\u001B[0m\u001B[0;34m\u001B[0m\u001B[0m\n\u001B[1;32m    223\u001B[0m     \"\"\"\n",
      "\u001B[0;31mKeyboardInterrupt\u001B[0m: "
     ]
    }
   ],
   "source": [
    "best_method = np.empty((0,4))\n",
    "for kernel_name in KernelRegressionClassifier.kernels.keys():\n",
    "    # print('                 kernel: ', kernel_name)\n",
    "    for distance_name in KernelRegressionClassifier.distance_functions.keys():\n",
    "        # print('     distance: ', distance_name)\n",
    "        for h in np.arange(0.0, 2,0.05):\n",
    "            clf = KernelRegressionClassifier.from_data(\n",
    "                X_train, y_train_one_hot,\n",
    "                kernel_name=kernel_name, h=h,distance_func_name=distance_name\n",
    "            )\n",
    "            y_test_pred = clf.predict(X_test).argmax(axis=1)\n",
    "            # print('h: ', h)\n",
    "            f = analise(np.array(y_test), y_test_pred)\n",
    "            best_method = np.append(\n",
    "                best_method,\n",
    "                [[kernel_name, distance_name, h, f if not np.isnan(f) else 0.]],\n",
    "                axis=0\n",
    "            )\n",
    "\n",
    "best_method = best_method[best_method[:,3].argsort()[::-1]]\n",
    "print(best_method)\n",
    "with open('top5.txt', 'w') as top5_file:\n",
    "    top5_file.write(np.array2string(best_method[:5]))"
   ],
   "metadata": {
    "collapsed": false,
    "pycharm": {
     "name": "#%%\n"
    }
   }
  },
  {
   "cell_type": "code",
   "execution_count": 202,
   "outputs": [],
   "source": [
    "def get_best_f_measure(X, y_one_hot, clf):\n",
    "    y_pred = np.array([], dtype='int8')\n",
    "    for i in range(N):\n",
    "        clf.fit(np.append(X[:i], X[i+1:],axis=0),\n",
    "                np.append(y_one_hot[:i], y_one_hot[i+1:],\n",
    "                axis=0))\n",
    "        row = np.array(X)[i]\n",
    "        y_pred = np.append(y_pred, clf.predict(np.array([row])).argmax(axis=1)[0])\n",
    "    return analise(np.array(y),y_pred)"
   ],
   "metadata": {
    "collapsed": false,
    "pycharm": {
     "name": "#%%\n"
    }
   }
  },
  {
   "cell_type": "code",
   "execution_count": 110,
   "outputs": [
    {
     "name": "stderr",
     "output_type": "stream",
     "text": [
      "<ipython-input-100-dd84e8211a04>:54: RuntimeWarning: divide by zero encountered in true_divide\n",
      "  X_smoothed = self.kernel(X_distance/window_width)\n",
      "<ipython-input-100-dd84e8211a04>:41: RuntimeWarning: invalid value encountered in double_scalars\n",
      "  res.append((weights[i][indexes[i]] * y[indexes[i]]).sum() / weights[i][indexes[i]].sum())\n",
      "<ipython-input-101-9f984c8f6a7f>:4: RuntimeWarning: invalid value encountered in long_scalars\n",
      "  precision_mean = np.mean([tp_list[i]/ (y_pred == i).astype('int8').sum() for i in range(4) ])\n"
     ]
    },
    {
     "name": "stdout",
     "output_type": "stream",
     "text": [
      "best h:  0.05\n"
     ]
    }
   ],
   "source": [
    "f_from_h = [[],[]]\n",
    "for h in np.arange(0,2,0.05):\n",
    "    cm = np.zeros((classes_num, classes_num), dtype='int32')\n",
    "    clf = KernelRegressionClassifier(kernel_name='gaussian', h=h, distance_func_name='euclid')\n",
    "    f_from_h[0].append(h)\n",
    "    f_from_h[1].append(get_best_f_measure(X, y_one_hot, clf))\n",
    "f_from_h = np.nan_to_num(f_from_h)\n",
    "best_h = f_from_h[0][f_from_h[1].argmax()]\n",
    "print('best h: ', best_h)"
   ],
   "metadata": {
    "collapsed": false,
    "pycharm": {
     "name": "#%%\n"
    }
   }
  },
  {
   "cell_type": "code",
   "execution_count": 111,
   "outputs": [
    {
     "name": "stdout",
     "output_type": "stream",
     "text": [
      "best k:  3.0\n"
     ]
    }
   ],
   "source": [
    "f_from_k = [[],[]]\n",
    "for k in range(1,21):\n",
    "    cm = np.zeros((classes_num, classes_num), dtype='int32')\n",
    "    clf = KernelRegressionClassifier(kernel_name='gaussian',k=k, h=best_h, distance_func_name='euclid')\n",
    "    f_from_k[0].append(k)\n",
    "    f_from_k[1].append(get_best_f_measure(X, y_one_hot, clf))\n",
    "f_from_k = np.nan_to_num(f_from_k)\n",
    "best_k = f_from_k[0][f_from_k[1].argmax()]\n",
    "print('best k: ', best_k)"
   ],
   "metadata": {
    "collapsed": false,
    "pycharm": {
     "name": "#%%\n"
    }
   }
  },
  {
   "cell_type": "code",
   "execution_count": 112,
   "outputs": [
    {
     "data": {
      "text/plain": "<Figure size 432x288 with 1 Axes>",
      "image/png": "[encoded data removed]"
     },
     "metadata": {
      "needs_background": "light"
     },
     "output_type": "display_data"
    },
    {
     "data": {
      "text/plain": "<Figure size 432x288 with 1 Axes>",
      "image/png": "[encoded data removed]"
     },
     "metadata": {
      "needs_background": "light"
     },
     "output_type": "display_data"
    },
    {
     "name": "stdout",
     "output_type": "stream",
     "text": [
      "best f-measure:  0.8799608641945974\n"
     ]
    }
   ],
   "source": [
    "plt.plot(f_from_h[0], f_from_h[1])\n",
    "plt.show()\n",
    "plt.plot(f_from_k[0], f_from_k[1])\n",
    "plt.show()\n",
    "print('best f-measure: ', f_from_k[1][np.where(f_from_k[0] == 5)[0][0]])"
   ],
   "metadata": {
    "collapsed": false,
    "pycharm": {
     "name": "#%%\n"
    }
   }
  }
 ],
 "metadata": {
  "kernelspec": {
   "display_name": "Python 3",
   "language": "python",
   "name": "python3"
  },
  "language_info": {
   "codemirror_mode": {
    "name": "ipython",
    "version": 3
   },
   "file_extension": ".py",
   "mimetype": "text/x-python",
   "name": "python",
   "nbconvert_exporter": "python",
   "pygments_lexer": "ipython3",
   "version": "3.8.2"
  }
 },
 "nbformat": 4,
 "nbformat_minor": 1
}