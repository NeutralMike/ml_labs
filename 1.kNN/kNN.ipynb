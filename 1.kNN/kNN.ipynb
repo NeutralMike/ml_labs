{
 "cells": [
  {
   "cell_type": "code",
   "execution_count": 550,
   "metadata": {
    "scrolled": true
   },
   "outputs": [],
   "source": [
    "import numpy as np\n",
    "import pandas as pd\n",
    "import matplotlib.pyplot as plt\n",
    "import math"
   ]
  },
  {
   "cell_type": "code",
   "execution_count": 551,
   "metadata": {
    "pycharm": {
     "name": "#%%\n"
    }
   },
   "outputs": [],
   "source": [
    "data = pd.read_csv('wall-robot-nav.csv').sample(frac=1)\n",
    "X = data.loc[:, 'V1':'V24']\n",
    "X = X / np.array(X).max(axis=0)\n",
    "y = data['Class']\n",
    "train_size = math.ceil(X.shape[0]*0.8)\n",
    "test_size = X.shape[0] - train_size\n",
    "X_train = X.head(train_size)\n",
    "y_train = y.head(train_size)\n",
    "X_test = X.tail(test_size)\n",
    "y_test = y.tail(test_size)\n",
    "y_train_one_hot = np.array([np.array(y_train)==i for i in range(1,5)]).astype('int8').T\n",
    "y_test_one_hot = np.array([np.array(y_test)==i for i in range(1,5)]).astype('int8').T"
   ]
  },
  {
   "cell_type": "code",
   "execution_count": 552,
   "metadata": {
    "pycharm": {
     "name": "#%%\n"
    }
   },
   "outputs": [],
   "source": [
    "\n",
    "def distance_euclid(x, xi):\n",
    "    return np.sqrt((np.square(x-xi)).sum(axis=1))\n",
    "\n",
    "\n",
    "def uniform_kernel(x):\n",
    "    new_x = x\n",
    "    new_x[new_x<1] = 0.5\n",
    "    new_x[new_x>=1] = 0\n",
    "    return new_x\n",
    "\n",
    "\n",
    "class KernelRegressionClassifier:\n",
    "    vectorized_ceil = np.vectorize(math.ceil)\n",
    "    distance_functions = {\n",
    "        'euclid': distance_euclid\n",
    "    }\n",
    "    kernels = {\n",
    "        'uniform': uniform_kernel,\n",
    "    }\n",
    "\n",
    "\n",
    "    def __init__(self, k=10, h=None, kernel_name='uniform', distance_func_name='euclid'):\n",
    "        self.k = k\n",
    "        self.h = h\n",
    "        self.kernel_name = kernel_name\n",
    "        self.distance_func_name = distance_func_name\n",
    "        self.kernel = self.kernels[self.kernel_name]\n",
    "        self.distance_func = self.distance_functions[self.distance_func_name]\n",
    "\n",
    "\n",
    "    @classmethod\n",
    "    def from_data(cls, X, y, h, k=10, kernel_name='uniform', distance_func_name='euclid'):\n",
    "        instance = cls(h,k,kernel_name,distance_func_name)\n",
    "        instance.fit(X, y)\n",
    "        return instance\n",
    "\n",
    "\n",
    "    def fit(self, X, y):\n",
    "        self.X = X\n",
    "        self.y = np.array(y)\n",
    "\n",
    "\n",
    "    def multiply_weihts_of_nearest(self, weights, indexes, y):\n",
    "        res = []\n",
    "        for i in range(len(indexes)):\n",
    "            res.append((weights[i][indexes[i]] * y[indexes[i]]).sum() / weights[i][indexes[i]].sum())\n",
    "        return res\n",
    "\n",
    "\n",
    "    def predict(self, x):\n",
    "        X_distance = np.apply_along_axis(self.distance_func, 1, x, self.X)\n",
    "        nearest_indexes_matrix = X_distance.argsort()[:,:self.k]\n",
    "        window_width = self.h\n",
    "        if self.h is None:\n",
    "            window_width = []\n",
    "            for row in X_distance:\n",
    "                window_width.append(row[row.argsort()[self.k]])\n",
    "            window_width = np.array([window_width]).T\n",
    "        X_smoothed = self.kernel(X_distance/window_width)\n",
    "        if len(self.y.shape) == 2:\n",
    "            return np.argmax(np.array([\n",
    "                self.multiply_weihts_of_nearest(X_smoothed, nearest_indexes_matrix, self.y[:,i])\n",
    "                for i in range(self.y.shape[1])\n",
    "            ]).T, axis=1)+1\n",
    "        real_weights = self.multiply_weihts_of_nearest(X_smoothed, nearest_indexes_matrix, self.y)\n",
    "        return self.vectorized_ceil(real_weights)"
   ]
  },
  {
   "cell_type": "code",
   "execution_count": 553,
   "outputs": [],
   "source": [
    "def analise(y, y_pred):\n",
    "    tp_list = [np.all([y==y_pred, y_pred==i+1], axis=0).astype('int8').sum() for i in range(4)]\n",
    "    recall_mean = np.mean([tp_list[i] / (y == i+1).astype('int8').sum() for i in range(4) ])\n",
    "    precision_mean = np.mean([tp_list[i]/ (y_pred == i+1).astype('int8').sum() for i in range(4) ])\n",
    "    f_measure = 2*precision_mean*recall_mean/(precision_mean+recall_mean)\n",
    "    print(f_measure)"
   ],
   "metadata": {
    "collapsed": false,
    "pycharm": {
     "name": "#%%\n"
    }
   }
  },
  {
   "cell_type": "code",
   "execution_count": 554,
   "outputs": [
    {
     "name": "stdout",
     "output_type": "stream",
     "text": [
      "[2 2 4 ... 2 1 1]\n",
      "0.8811966871578408\n",
      "[2 2 4 ... 2 1 1]\n",
      "0.8670867180895042\n",
      "[2 2 4 ... 2 1 1]\n",
      "0.8739100653402976\n",
      "[2 2 4 ... 2 1 1]\n",
      "0.8558621454611628\n",
      "[2 2 4 ... 2 1 1]\n",
      "0.8641964090643517\n",
      "[2 2 4 ... 2 1 1]\n",
      "0.8444283776489175\n",
      "[2 2 4 ... 2 1 1]\n",
      "0.8529335910175225\n",
      "[2 2 4 ... 2 1 1]\n",
      "0.8489366880569961\n",
      "[2 2 4 ... 2 1 1]\n",
      "0.8459989256317354\n",
      "[2 2 4 ... 2 1 1]\n",
      "0.8372659220356303\n",
      "[2 2 4 ... 2 1 1]\n",
      "0.8376786033328191\n",
      "[2 2 4 ... 2 1 1]\n",
      "0.8318988592963785\n",
      "[2 2 4 ... 2 1 1]\n",
      "0.8364730451823643\n",
      "[2 2 4 ... 2 1 1]\n",
      "0.8315309245327853\n",
      "[2 2 4 ... 2 1 1]\n",
      "0.8350246400703556\n",
      "[2 2 4 ... 2 1 1]\n",
      "0.8317757478291851\n",
      "[2 2 4 ... 2 1 1]\n",
      "0.8387353453956976\n",
      "[2 2 4 ... 2 1 1]\n",
      "0.8235986439686583\n",
      "[2 2 4 ... 2 1 1]\n",
      "0.8220732161780607\n",
      "[2 2 4 ... 2 1 1]\n",
      "0.8201636419080099\n",
      "[2 2 4 ... 2 1 1]\n",
      "0.8196068248087547\n",
      "[2 2 4 ... 2 1 1]\n",
      "0.8214453200643785\n",
      "[2 2 4 ... 2 1 1]\n",
      "0.8115272229619412\n",
      "[2 2 4 ... 2 1 1]\n",
      "0.8067481115549995\n",
      "[2 2 4 ... 2 1 1]\n",
      "0.8073601207607526\n",
      "[2 2 4 ... 2 1 1]\n",
      "0.7950801664687296\n",
      "[2 2 4 ... 2 1 1]\n",
      "0.7960437844213506\n",
      "[2 2 4 ... 2 1 1]\n",
      "0.7854537965024919\n",
      "[2 2 4 ... 2 1 1]\n",
      "0.7858627367227318\n",
      "[2 2 4 ... 2 1 1]\n",
      "0.7778612189830543\n"
     ]
    }
   ],
   "source": [
    "for k in range(1,21):\n",
    "    clf = KernelRegressionClassifier(k=k)\n",
    "    # clf.fit(X_train, y_train)\n",
    "    clf.fit(X_train, y_train_one_hot)\n",
    "    y_test_pred = clf.predict(X_test)\n",
    "    analise(np.array(y_test), y_test_pred)\n",
    "\n",
    "# from sklearn.metrics import confusion_matrix\n",
    "# import seaborn as sns\n",
    "#\n",
    "# cm = confusion_matrix(y_test, y_test_pred)\n",
    "# plt.figure(dpi=200)\n",
    "# sns.set(font_scale=0.6)\n",
    "# g = sns.heatmap(cm, annot=True, annot_kws={\"size\": 5}, cmap=\"YlGnBu\")\n",
    "# plt.show()"
   ],
   "metadata": {
    "collapsed": false,
    "pycharm": {
     "name": "#%%\n"
    }
   }
  }
 ],
 "metadata": {
  "kernelspec": {
   "display_name": "Python 3",
   "language": "python",
   "name": "python3"
  },
  "language_info": {
   "codemirror_mode": {
    "name": "ipython",
    "version": 3
   },
   "file_extension": ".py",
   "mimetype": "text/x-python",
   "name": "python",
   "nbconvert_exporter": "python",
   "pygments_lexer": "ipython3",
   "version": "3.8.2"
  }
 },
 "nbformat": 4,
 "nbformat_minor": 1
}