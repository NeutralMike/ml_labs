{
 "cells": [
  {
   "cell_type": "code",
   "execution_count": 295,
   "metadata": {
    "scrolled": true
   },
   "outputs": [],
   "source": [
    "import numpy as np\n",
    "import pandas as pd\n",
    "import matplotlib.pyplot as plt\n"
   ]
  },
  {
   "cell_type": "code",
   "execution_count": 305,
   "metadata": {
    "pycharm": {
     "name": "#%%\n"
    }
   },
   "outputs": [],
   "source": [
    "data = pd.read_csv('wall-robot-nav.csv').sample(frac=1)\n",
    "X = data.loc[:, 'V1':'V24']\n",
    "X = (X - X.min(axis=0))/ (X.max(axis=0) - X.min(axis=0)) #normolize features\n",
    "y = data['Class'] - 1 # reduce classes values from 1,2,3,4 to 0,1,2,3\n",
    "\n",
    "N = X.shape[0]\n",
    "classes_num = 4\n",
    "train_size = np.ceil(N*0.8).astype('int32')\n",
    "test_size = N - train_size\n",
    "\n",
    "X_train = X.head(train_size)\n",
    "y_train = y.head(train_size)\n",
    "X_test = X.tail(test_size)\n",
    "y_test = y.tail(test_size)\n",
    "\n",
    "y_one_hot = np.eye(classes_num, dtype=np.int8)[y]\n",
    "y_train_one_hot = np.eye(classes_num, dtype=np.int8)[y_train]\n",
    "y_test_one_hot = np.eye(classes_num, dtype=np.int8)[y_test]\n"
   ]
  },
  {
   "cell_type": "markdown",
   "metadata": {},
   "source": [
    "# Основной класс непараметрической регрессии"
   ]
  },
  {
   "cell_type": "code",
   "execution_count": 297,
   "metadata": {
    "pycharm": {
     "name": "#%%\n"
    }
   },
   "outputs": [],
   "source": [
    "class KernelRegressionClassifier:\n",
    "    distance_functions = {\n",
    "        'euclid': lambda x, xi: np.sqrt((np.square(x-xi)).sum(axis=1)),\n",
    "        'manhattan': lambda x, xi: np.abs(x-xi).sum(axis=1),\n",
    "    }\n",
    "    kernels = {\n",
    "        'uniform': lambda x: np.where(x<1, 0.5, 0),\n",
    "        'triweight': lambda x: np.where(x<1, (35/32 *np.power((1-np.square(x)),3)), 0),\n",
    "        'triangular': lambda x: np.where(x<1, 1-x, 0),\n",
    "        'quartic': lambda x: np.where(x<1, (15/16 *np.power((1-np.square(x)),2)), 0),\n",
    "        'epanechnikov': lambda x: np.where(x<1, (3/4 *(1-np.square(x))) , 0),\n",
    "        'cosine': lambda x: np.where(x<1, (np.pi/4 *(1-np.square(x))) , 0),\n",
    "        'gaussian': lambda x: (1/np.sqrt(2* np.pi)) * np.exp((-1/2) * np.square(x)),\n",
    "    }\n",
    "\n",
    "\n",
    "    def __init__(self, k=10, h=None, kernel_name='uniform', distance_func_name='euclid'):\n",
    "        self.k = k\n",
    "        self.h = h\n",
    "        self.kernel_name = kernel_name\n",
    "        self.distance_func_name = distance_func_name\n",
    "        self.kernel = self.kernels[self.kernel_name]\n",
    "        self.distance_func = self.distance_functions[self.distance_func_name]\n",
    "\n",
    "\n",
    "    @classmethod\n",
    "    def from_data(cls, X, y, k=10, h=None, kernel_name='uniform', distance_func_name='euclid'):\n",
    "        instance = cls(k, h, kernel_name, distance_func_name)\n",
    "        instance.fit(X, y)\n",
    "        return instance\n",
    "\n",
    "\n",
    "    def fit(self, X, y):\n",
    "        self.X = np.array(X)\n",
    "        self.y = np.array(y)\n",
    "\n",
    "\n",
    "    def multiply_weihts_of_nearest(self, weights, indexes, y):\n",
    "        res = []\n",
    "        for i in range(len(indexes)):\n",
    "            res.append((weights[i][indexes[i]] * y[indexes[i]]).sum() / weights[i][indexes[i]].sum())\n",
    "        return res\n",
    "\n",
    "\n",
    "    def predict(self, x):\n",
    "        X_distance = np.apply_along_axis(self.distance_func, 1, x, self.X)\n",
    "        nearest_indexes_matrix = X_distance.argsort()[:,:self.k+1]\n",
    "        window_width = self.h\n",
    "        if self.h is None:\n",
    "            window_width = []\n",
    "            for i in range(X_distance.shape[0]):\n",
    "                window_width.append(X_distance[i][nearest_indexes_matrix[i][self.k]])\n",
    "            window_width = np.array([window_width]).T\n",
    "        nearest_indexes_matrix = nearest_indexes_matrix[:,:self.k]\n",
    "        X_smoothed = self.kernel(X_distance/window_width)\n",
    "\n",
    "        if len(self.y.shape) == 2:\n",
    "            return np.array([\n",
    "                self.multiply_weihts_of_nearest(X_smoothed, nearest_indexes_matrix, self.y[:,i])\n",
    "                for i in range(self.y.shape[1])\n",
    "            ]).T\n",
    "        \n",
    "        real_weights = self.multiply_weihts_of_nearest(X_smoothed, nearest_indexes_matrix, self.y)\n",
    "        return np.ceil(real_weights).astype('int8')"
   ]
  },
  {
   "cell_type": "markdown",
   "metadata": {},
   "source": [
    "### функция для подсчета F-меры, по данным целевой переменной и предсказанным значениям"
   ]
  },
  {
   "cell_type": "code",
   "execution_count": 298,
   "metadata": {
    "pycharm": {
     "name": "#%%\n"
    }
   },
   "outputs": [],
   "source": [
    "def get_f_measure(y, y_pred):\n",
    "    tp_list = [np.all([y==y_pred, y_pred==i], axis=0).astype('int8').sum() for i in range(4)]\n",
    "    recall_mean = np.mean([tp_list[i] / (y == i).astype('int8').sum() for i in range(4) ])\n",
    "    precision_mean = np.mean([tp_list[i]/ (y_pred == i).astype('int8').sum() for i in range(4) ])\n",
    "    f_measure = 2*precision_mean*recall_mean/(precision_mean+recall_mean)\n",
    "    # print('    f measure: ', f_measure)\n",
    "    return f_measure"
   ]
  },
  {
   "cell_type": "markdown",
   "metadata": {},
   "source": [
    "### запись топ-5 лучших комбинаций функции расстояния, окна и ядра"
   ]
  },
  {
   "cell_type": "code",
   "execution_count": 304,
   "metadata": {
    "pycharm": {
     "name": "#%%\n"
    }
   },
   "outputs": [
    {
     "name": "stderr",
     "output_type": "stream",
     "text": [
      "<ipython-input-297-a9cb517ccd82>:55: RuntimeWarning: divide by zero encountered in true_divide\n",
      "  X_smoothed = self.kernel(X_distance/window_width)\n",
      "<ipython-input-297-a9cb517ccd82>:41: RuntimeWarning: invalid value encountered in double_scalars\n",
      "  res.append((weights[i][indexes[i]] * y[indexes[i]]).sum() / weights[i][indexes[i]].sum())\n",
      "<ipython-input-298-7f1feda67bbc>:4: RuntimeWarning: invalid value encountered in long_scalars\n",
      "  precision_mean = np.mean([tp_list[i]/ (y_pred == i).astype('int8').sum() for i in range(4) ])\n"
     ]
    },
    {
     "name": "stdout",
     "output_type": "stream",
     "text": [
      "[['gaussian' 'manhattan' '0.25' '0.9210456907321205']\n",
      " ['gaussian' 'manhattan' '0.15000000000000002' '0.920976019132499']\n",
      " ['gaussian' 'manhattan' '0.1' '0.920418979191303']\n",
      " ...\n",
      " ['triangular' 'manhattan' '0.0' '0.0']\n",
      " ['cosine' 'manhattan' '0.0' '0.0']\n",
      " ['uniform' 'euclid' '0.0' '0.0']]\n"
     ]
    }
   ],
   "source": [
    "best_method = np.empty((0,4))\n",
    "for kernel_name in KernelRegressionClassifier.kernels.keys():\n",
    "    # print('                 kernel: ', kernel_name)\n",
    "    for distance_name in KernelRegressionClassifier.distance_functions.keys():\n",
    "        # print('     distance: ', distance_name)\n",
    "        for h in np.arange(0.0, 2,0.05):\n",
    "            clf = KernelRegressionClassifier.from_data(\n",
    "                X_train, y_train_one_hot,\n",
    "                kernel_name=kernel_name, h=h,distance_func_name=distance_name\n",
    "            )\n",
    "            y_test_pred = clf.predict(X_test).argmax(axis=1)\n",
    "            # print('h: ', h)\n",
    "            f = get_f_measure(np.array(y_test), y_test_pred)\n",
    "            best_method = np.append(\n",
    "                best_method,\n",
    "                [[kernel_name, distance_name, h, f if not np.isnan(f) else 0.]],\n",
    "                axis=0\n",
    "            )\n",
    "\n",
    "best_method = best_method[best_method[:,3].argsort()[::-1]]\n",
    "print(best_method)\n",
    "with open('top5.txt', 'w') as top5_file:\n",
    "    top5_file.write(np.array2string(best_method[:5]))"
   ]
  },
  {
   "cell_type": "markdown",
   "metadata": {},
   "source": [
    "### подсчет F-меры в leave-one-out кросс валидации"
   ]
  },
  {
   "cell_type": "code",
   "execution_count": 299,
   "metadata": {
    "pycharm": {
     "name": "#%%\n"
    }
   },
   "outputs": [],
   "source": [
    "def get_f_measure_LOO(X, y_one_hot, clf):\n",
    "    y_pred = np.array([], dtype='int8')\n",
    "    for i in range(N):\n",
    "        clf.fit(np.append(X[:i], X[i+1:],axis=0),\n",
    "                np.append(y_one_hot[:i], y_one_hot[i+1:],\n",
    "                axis=0))\n",
    "        row = np.array(X)[i]\n",
    "        y_pred = np.append(y_pred, clf.predict(np.array([row])).argmax(axis=1)[0])\n",
    "    return get_f_measure(np.array(y),y_pred)"
   ]
  },
  {
   "cell_type": "markdown",
   "metadata": {},
   "source": [
    "### поиск лучшего значения ширины окна для лучших функций ядра и растояния"
   ]
  },
  {
   "cell_type": "code",
   "execution_count": 301,
   "metadata": {
    "pycharm": {
     "name": "#%%\n"
    }
   },
   "outputs": [
    {
     "name": "stderr",
     "output_type": "stream",
     "text": [
      "<ipython-input-297-a9cb517ccd82>:55: RuntimeWarning: divide by zero encountered in true_divide\n",
      "  X_smoothed = self.kernel(X_distance/window_width)\n",
      "<ipython-input-297-a9cb517ccd82>:41: RuntimeWarning: invalid value encountered in double_scalars\n",
      "  res.append((weights[i][indexes[i]] * y[indexes[i]]).sum() / weights[i][indexes[i]].sum())\n",
      "<ipython-input-298-7f1feda67bbc>:4: RuntimeWarning: invalid value encountered in long_scalars\n",
      "  precision_mean = np.mean([tp_list[i]/ (y_pred == i).astype('int8').sum() for i in range(4) ])\n"
     ]
    },
    {
     "name": "stdout",
     "output_type": "stream",
     "text": [
      "best h:  0.55\n"
     ]
    }
   ],
   "source": [
    "f_from_h = [[],[]]\n",
    "for h in np.arange(0,2,0.05):\n",
    "    cm = np.zeros((classes_num, classes_num), dtype='int32')\n",
    "    clf = KernelRegressionClassifier(kernel_name='gaussian', h=h, distance_func_name='manhattan')\n",
    "    f_from_h[0].append(h)\n",
    "    f_from_h[1].append(get_f_measure_LOO(X, y_one_hot, clf))\n",
    "f_from_h = np.nan_to_num(f_from_h)\n",
    "best_h = f_from_h[0][f_from_h[1].argmax()]\n",
    "print('best h: ', best_h)"
   ]
  },
  {
   "cell_type": "markdown",
   "metadata": {},
   "source": [
    "### поиск лучшего числа соседей"
   ]
  },
  {
   "cell_type": "code",
   "execution_count": 302,
   "metadata": {
    "pycharm": {
     "name": "#%%\n"
    }
   },
   "outputs": [
    {
     "name": "stdout",
     "output_type": "stream",
     "text": [
      "best k:  4.0\n"
     ]
    }
   ],
   "source": [
    "f_from_k = [[],[]]\n",
    "for k in range(1,21):\n",
    "    cm = np.zeros((classes_num, classes_num), dtype='int32')\n",
    "    clf = KernelRegressionClassifier(kernel_name='gaussian',k=k, h=best_h, distance_func_name='manhattan')\n",
    "    f_from_k[0].append(k)\n",
    "    f_from_k[1].append(get_f_measure_LOO(X, y_one_hot, clf))\n",
    "f_from_k = np.nan_to_num(f_from_k)\n",
    "best_k = f_from_k[0][f_from_k[1].argmax()]\n",
    "print('best k: ', best_k)"
   ]
  },
  {
   "cell_type": "code",
   "execution_count": 1,
   "metadata": {
    "pycharm": {
     "name": "#%%\n"
    }
   },
   "outputs": [
    {
     "ename": "NameError",
     "evalue": "name 'plt' is not defined",
     "output_type": "error",
     "traceback": [
      "\u001B[0;31m---------------------------------------------------------------------------\u001B[0m",
      "\u001B[0;31mNameError\u001B[0m                                 Traceback (most recent call last)",
      "\u001B[0;32m<ipython-input-1-a0dd5021cabd>\u001B[0m in \u001B[0;36m<module>\u001B[0;34m\u001B[0m\n\u001B[0;32m----> 1\u001B[0;31m \u001B[0mplt\u001B[0m\u001B[0;34m.\u001B[0m\u001B[0mplot\u001B[0m\u001B[0;34m(\u001B[0m\u001B[0mf_from_h\u001B[0m\u001B[0;34m[\u001B[0m\u001B[0;36m0\u001B[0m\u001B[0;34m]\u001B[0m\u001B[0;34m,\u001B[0m \u001B[0mf_from_h\u001B[0m\u001B[0;34m[\u001B[0m\u001B[0;36m1\u001B[0m\u001B[0;34m]\u001B[0m\u001B[0;34m)\u001B[0m\u001B[0;34m\u001B[0m\u001B[0;34m\u001B[0m\u001B[0m\n\u001B[0m\u001B[1;32m      2\u001B[0m \u001B[0mplt\u001B[0m\u001B[0;34m.\u001B[0m\u001B[0mylabel\u001B[0m\u001B[0;34m(\u001B[0m\u001B[0;34m'F-measure'\u001B[0m\u001B[0;34m,\u001B[0m \u001B[0mfontsize\u001B[0m\u001B[0;34m=\u001B[0m\u001B[0;36m16\u001B[0m\u001B[0;34m)\u001B[0m\u001B[0;34m\u001B[0m\u001B[0;34m\u001B[0m\u001B[0m\n\u001B[1;32m      3\u001B[0m \u001B[0mplt\u001B[0m\u001B[0;34m.\u001B[0m\u001B[0mxlabel\u001B[0m\u001B[0;34m(\u001B[0m\u001B[0;34m'h'\u001B[0m\u001B[0;34m,\u001B[0m \u001B[0mfontsize\u001B[0m\u001B[0;34m=\u001B[0m\u001B[0;36m16\u001B[0m\u001B[0;34m)\u001B[0m\u001B[0;34m\u001B[0m\u001B[0;34m\u001B[0m\u001B[0m\n\u001B[1;32m      4\u001B[0m \u001B[0mplt\u001B[0m\u001B[0;34m.\u001B[0m\u001B[0mshow\u001B[0m\u001B[0;34m(\u001B[0m\u001B[0;34m)\u001B[0m\u001B[0;34m\u001B[0m\u001B[0;34m\u001B[0m\u001B[0m\n\u001B[1;32m      5\u001B[0m \u001B[0mplt\u001B[0m\u001B[0;34m.\u001B[0m\u001B[0mplot\u001B[0m\u001B[0;34m(\u001B[0m\u001B[0mf_from_k\u001B[0m\u001B[0;34m[\u001B[0m\u001B[0;36m0\u001B[0m\u001B[0;34m]\u001B[0m\u001B[0;34m,\u001B[0m \u001B[0mf_from_k\u001B[0m\u001B[0;34m[\u001B[0m\u001B[0;36m1\u001B[0m\u001B[0;34m]\u001B[0m\u001B[0;34m)\u001B[0m\u001B[0;34m\u001B[0m\u001B[0;34m\u001B[0m\u001B[0m\n",
      "\u001B[0;31mNameError\u001B[0m: name 'plt' is not defined"
     ]
    }
   ],
   "source": [
    "\n",
    "plt.plot(f_from_h[0], f_from_h[1])\n",
    "plt.ylabel('F-measure', fontsize=16)\n",
    "plt.xlabel('h', fontsize=16)\n",
    "plt.show()\n",
    "plt.plot(f_from_k[0], f_from_k[1])\n",
    "plt.ylabel('F-measure', fontsize=16)\n",
    "plt.xlabel('k', fontsize=16)\n",
    "plt.show()\n",
    "print('best f-measure: ', f_from_k[1][np.where(f_from_k[0] == 5)[0][0]])"
   ]
  },
  {
   "cell_type": "code",
   "execution_count": null,
   "metadata": {},
   "outputs": [],
   "source": []
  }
 ],
 "metadata": {
  "kernelspec": {
   "display_name": "Python 3",
   "language": "python",
   "name": "python3"
  },
  "language_info": {
   "codemirror_mode": {
    "name": "ipython",
    "version": 3
   },
   "file_extension": ".py",
   "mimetype": "text/x-python",
   "name": "python",
   "nbconvert_exporter": "python",
   "pygments_lexer": "ipython3",
   "version": "3.8.2"
  }
 },
 "nbformat": 4,
 "nbformat_minor": 1
}