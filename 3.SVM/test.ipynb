{
 "cells": [
  {
   "cell_type": "code",
   "execution_count": 224,
   "metadata": {
    "collapsed": true
   },
   "outputs": [],
   "source": [
    "import pandas as pd\n",
    "import numpy as np\n",
    "import matplotlib.pyplot as plt\n",
    "from matplotlib.colors import ListedColormap\n",
    "from pyswarm import pso\n",
    "from scipy.optimize import minimize, NonlinearConstraint\n"
   ]
  },
  {
   "cell_type": "code",
   "execution_count": 225,
   "outputs": [],
   "source": [
    "chips_data = pd.read_csv(\"chips.csv\", header=None)[1:]\n",
    "chips_X = chips_data.loc[:, 0:1]\n",
    "chips_y = np.where(chips_data.loc[:, 2] == 'P', 1, -1).astype(np.int8)"
   ],
   "metadata": {
    "collapsed": false,
    "pycharm": {
     "name": "#%%\n"
    }
   }
  },
  {
   "cell_type": "code",
   "execution_count": 226,
   "outputs": [],
   "source": [
    "geyser_data = pd.read_csv(\"geyser.csv\", header=None)[1:]\n",
    "geyser_X = geyser_data.loc[:, 0:1]\n",
    "geyser_y = np.where(geyser_data.loc[:, 2] == 'P', 1, -1).astype(np.int8)"
   ],
   "metadata": {
    "collapsed": false,
    "pycharm": {
     "name": "#%%\n"
    }
   }
  },
  {
   "cell_type": "code",
   "execution_count": 227,
   "outputs": [],
   "source": [
    "class SVM:\n",
    "    X_train = None\n",
    "    y_train = None\n",
    "    X_test = None\n",
    "    y_test = None\n",
    "\n",
    "\n",
    "    def fit(self, X, y, kernel_name='linear', C=1, d=1, xi=1):\n",
    "        self.X_train = np.array(X, dtype=np.float)\n",
    "        self.y_train = np.array(y)\n",
    "        self.N_train = self.X_train.shape[0]\n",
    "        self.k_train = self.X_train.shape[1]\n",
    "        self.C = C\n",
    "        self.w0 = np.random.random()\n",
    "\n",
    "        def gaussian(a, b):\n",
    "            res = np.empty((0, b.shape[0]))\n",
    "            for row_a in a:\n",
    "                res = np.append(res, np.array((row_a-b).sum(axis=1).reshape((1, -1))), axis=0)\n",
    "            print(res.shape)\n",
    "            return res\n",
    "\n",
    "        kernels = {\n",
    "            'linear': lambda a, b: a @ b.T,\n",
    "            'polynomial': lambda a, b: (a @ b.T + 1)**d,\n",
    "            'gaussian': lambda a, b: np.exp(-xi * gaussian(a, b)**2),\n",
    "        }\n",
    "        self.kernel = kernels[kernel_name]\n",
    "        self.__train__()\n",
    "\n",
    "\n",
    "    def predict(self, X):\n",
    "        return np.sign(self.K(X))\n",
    "\n",
    "    def __possitive_cut__(self, x):\n",
    "        return (x + np.abs(x))/2\n",
    "\n",
    "    def K(self, X=None, w0=None):\n",
    "        X = X if X is not None else self.X_train\n",
    "        w0 = w0 if w0 is not None else self.w0\n",
    "        return  (self.lamd * self.y_train * self.kernel(X, self.X_train)).sum(axis=1) - w0\n",
    "\n",
    "\n",
    "    def __opt_func__(self, lamd):\n",
    "        a = lamd.reshape((-1,1))\n",
    "        b = self.y_train.reshape((-1,1))\n",
    "        return .5 * (a*a.T * b*b.T * self.kernel(self.X_train, self.X_train)).sum() - a.sum()\n",
    "\n",
    "    def __constraints__(self, lamd):\n",
    "        return (lamd*self.y_train).sum()\n",
    "\n",
    "    def __train__(self):\n",
    "        # ub = np.full(self.N_train, self.C)\n",
    "        # lb = np.full(self.N_train, 0)\n",
    "        # self.lamd, fopt = pso(self.__opt_func__, lb=lb, ub=ub, f_ieqcons=self.__constraints__, swarmsize=100, maxiter=1000)\n",
    "        # print((self.lamd*self.y_train).sum())\n",
    "        # print(fopt)\n",
    "        # self.w = np.array([(self.lamd * self.y_train * self.X_train[:, 0]).sum(axis=0), (self.lamd * self.y_train * self.X_train[:, 1]).sum(axis=0)])\n",
    "        # print(self.K())\n",
    "        # print(self.K(w0=1))\n",
    "        # print(self.K(w0=0))\n",
    "        # self.w0 = (self.w @ self.X_train.T - self.y_train)[np.where(self.lamd>0)[0][0]]\n",
    "        # print(self.w0)\n",
    "        # bounds = np.full((self.N_train, 2), (0, self.C))\n",
    "        # constraints = NonlinearConstraint(self.__constraints__, 0, 0)\n",
    "        # res = minimize(self.__opt_func__, np.random.sample(self.N_train)*self.C, method='trust-constr', constraints=constraints, bounds=bounds)\n",
    "        # print(res)\n",
    "        self.lamd = [9.99999289e-01, 9.99998998e-01, 9.99999285e-01, 9.99998372e-01,\n",
    "       9.99999520e-01, 9.99999440e-01, 9.99997973e-01, 9.99999115e-01,\n",
    "       9.99999002e-01, 9.99999566e-01, 9.99999712e-01, 9.99999737e-01,\n",
    "       9.99999548e-01, 9.99999712e-01, 9.99999698e-01, 9.99999357e-01,\n",
    "       3.53638107e-06, 9.99999679e-01, 9.99999261e-01, 9.99999658e-01,\n",
    "       9.99999773e-01, 9.99999721e-01, 9.99999750e-01, 9.99999740e-01,\n",
    "       9.99999439e-01, 9.99999734e-01, 9.99999713e-01, 9.99999822e-01,\n",
    "       1.68641325e-06, 9.99999677e-01, 9.99999839e-01, 9.99999655e-01,\n",
    "       9.99998553e-01, 2.32112038e-06, 2.34195707e-06, 1.38897219e-06,\n",
    "       9.99998261e-01, 8.15786871e-07, 5.25596015e-07, 9.99998631e-01,\n",
    "       9.02100386e-07, 4.43280079e-01, 9.99999446e-01, 1.15632485e-06,\n",
    "       9.99999420e-01, 9.99999349e-01, 9.99999837e-01, 1.07007277e-05,\n",
    "       9.99999776e-01, 9.99999695e-01, 5.35123742e-01, 4.85550034e-07,\n",
    "       1.55213389e-06, 6.04656022e-07, 4.97481874e-07, 9.99997900e-01,\n",
    "       7.59606928e-07, 9.99996427e-01, 9.99999143e-01, 9.99999744e-01,\n",
    "       9.99999831e-01, 9.99998608e-01, 1.33829845e-06, 9.99999457e-01,\n",
    "       8.27931196e-01, 4.53730990e-07, 9.99999260e-01, 1.42701586e-06,\n",
    "       9.99994395e-01, 9.99999500e-01, 9.99999013e-01, 9.99999046e-01,\n",
    "       8.01013690e-06, 1.21470518e-01, 2.23171340e-06, 9.99999660e-01,\n",
    "       9.99999830e-01, 9.99999762e-01, 9.99998055e-01, 9.99997314e-01,\n",
    "       9.99999770e-01, 9.99999800e-01, 9.99999474e-01, 9.99999782e-01,\n",
    "       3.60788882e-07, 9.99999450e-01, 9.99999362e-01, 9.99999019e-01,\n",
    "       9.99999793e-01, 9.99999425e-01, 9.99998803e-01, 9.99999680e-01,\n",
    "       9.99999791e-01, 9.99999565e-01, 9.99999183e-01, 5.96583431e-07,\n",
    "       2.55095071e-07, 9.99999072e-01, 2.04445390e-07, 2.34101701e-07,\n",
    "       4.70311744e-06, 2.63219968e-07, 9.99999701e-01, 3.92340135e-01,\n",
    "       9.99999836e-01, 9.99999556e-01, 9.99999793e-01, 9.99999876e-01,\n",
    "       9.99999638e-01, 7.65089854e-06, 4.86680185e-07, 6.36657185e-01,\n",
    "       4.72147308e-06, 9.99999408e-01, 9.99999765e-01, 1.39410560e-06,\n",
    "       9.99998807e-01, 9.99999843e-01]\n",
    "        print((self.lamd*self.y_train).sum())\n",
    "        w = np.array([(self.lamd * self.y_train * self.X_train[:, 0]).sum(axis=0), (self.lamd * self.y_train * self.X_train[:, 1]).sum(axis=0)])\n",
    "\n",
    "        print(np.where(self.y_train * self.K(w0 = 0) == 1))\n",
    "        self.w0 = (w @ self.X_train.T - self.y_train)[0]\n",
    "        self.w0=-1.5\n",
    "        print(self.w0)\n",
    "\n",
    "\n",
    "\n",
    "    def visualize(self):\n",
    "        X = self.X_train\n",
    "        y = self.y_train\n",
    "        xx, yy = np.meshgrid(np.linspace(X[:,0].min() - 1, X[:,0].max() + 1, 1000), np.linspace(X[:,1].min() - 1, X[:,1].max() + 1, 1000))\n",
    "        pred = self.predict(np.c_[xx.ravel(), yy.ravel()])\n",
    "        pred = pred.reshape(xx.shape)\n",
    "\n",
    "        plt.pcolormesh(xx, yy, pred, cmap=ListedColormap(['#AAAAFF','#FFAFAF']))\n",
    "\n",
    "        plt.scatter(X[:,0], X[:,1], c=y)\n",
    "        plt.xlabel('$x_1$')\n",
    "        plt.ylabel('$x_2$')\n",
    "        plt.show()\n"
   ],
   "metadata": {
    "collapsed": false,
    "pycharm": {
     "name": "#%%\n"
    }
   }
  },
  {
   "cell_type": "code",
   "execution_count": 228,
   "outputs": [],
   "source": [
    "svm = SVM()\n"
   ],
   "metadata": {
    "collapsed": false,
    "pycharm": {
     "name": "#%%\n"
    }
   }
  },
  {
   "cell_type": "code",
   "execution_count": 229,
   "outputs": [],
   "source": [
    "# for C in [0.05, 0.1, 0.5, 1.0, 5.0, 10.0, 50.0, 100.0]:\n",
    "# svm.fit(geyser_X, geyser_y)\n",
    "# svm.visualize()"
   ],
   "metadata": {
    "collapsed": false,
    "pycharm": {
     "name": "#%%\n"
    }
   }
  },
  {
   "cell_type": "code",
   "execution_count": 230,
   "outputs": [
    {
     "name": "stdout",
     "output_type": "stream",
     "text": [
      "4.036424527953386e-10\n",
      "(array([], dtype=int64),)\n",
      "-1.5\n"
     ]
    },
    {
     "name": "stderr",
     "output_type": "stream",
     "text": [
      "<ipython-input-227-f617026ed19e>:115: MatplotlibDeprecationWarning: shading='flat' when X and Y have the same dimensions as C is deprecated since 3.3.  Either specify the corners of the quadrilaterals with X and Y, or pass shading='auto', 'nearest' or 'gouraud', or set rcParams['pcolor.shading'].  This will become an error two minor releases later.\n",
      "  plt.pcolormesh(xx, yy, pred, cmap=ListedColormap(['#AAAAFF','#FFAFAF']))\n"
     ]
    },
    {
     "data": {
      "text/plain": "<Figure size 432x288 with 1 Axes>",
      "image/png": "[encoded data removed]"
     },
     "metadata": {
      "needs_background": "light"
     },
     "output_type": "display_data"
    }
   ],
   "source": [
    "# for C in [0.05, 0.1, 0.5, 1.0, 5.0, 10.0, 50.0, 100.0]:\n",
    "# for i in range(2, 6):\n",
    "svm.fit(chips_X, chips_y, kernel_name='polynomial', d=2)\n",
    "svm.visualize()"
   ],
   "metadata": {
    "collapsed": false,
    "pycharm": {
     "name": "#%%\n"
    }
   }
  },
  {
   "cell_type": "code",
   "execution_count": 231,
   "outputs": [],
   "source": [
    "# for i in range(1, 6):\n",
    "#     svm.fit(chips_X, chips_y, kernel_name='gaussian', xi=i)\n",
    "#     svm.visualize()\n",
    "# print(svm.predict(np.array(geyser_X, dtype=np.float)))\n",
    "# print(geyser_y)"
   ],
   "metadata": {
    "collapsed": false,
    "pycharm": {
     "name": "#%%\n"
    }
   }
  }
 ],
 "metadata": {
  "kernelspec": {
   "display_name": "Python 3",
   "language": "python",
   "name": "python3"
  },
  "language_info": {
   "codemirror_mode": {
    "name": "ipython",
    "version": 2
   },
   "file_extension": ".py",
   "mimetype": "text/x-python",
   "name": "python",
   "nbconvert_exporter": "python",
   "pygments_lexer": "ipython2",
   "version": "2.7.6"
  }
 },
 "nbformat": 4,
 "nbformat_minor": 0
}