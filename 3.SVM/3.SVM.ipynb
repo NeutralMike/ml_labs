{
 "cells": [
  {
   "cell_type": "code",
   "execution_count": 1,
   "metadata": {
    "collapsed": true
   },
   "outputs": [],
   "source": [
    "import pandas as pd\n",
    "import numpy as np\n",
    "import matplotlib.pyplot as plt\n",
    "from matplotlib.colors import ListedColormap\n"
   ]
  },
  {
   "cell_type": "code",
   "execution_count": 2,
   "outputs": [],
   "source": [
    "chips_data = pd.read_csv(\"chips.csv\", header=None)[1:]\n",
    "chips_X = np.array(chips_data.loc[:, 0:1], dtype=np.float)\n",
    "chips_y = np.where(chips_data.loc[:, 2] == 'P', 1, -1).astype(np.int8)"
   ],
   "metadata": {
    "collapsed": false,
    "pycharm": {
     "name": "#%%\n"
    }
   }
  },
  {
   "cell_type": "code",
   "execution_count": 3,
   "outputs": [],
   "source": [
    "geyser_data = pd.read_csv(\"geyser.csv\", header=None)[1:]\n",
    "geyser_X = np.array(geyser_data.loc[:, 0:1], dtype=np.float)\n",
    "geyser_y = np.where(geyser_data.loc[:, 2] == 'P', 1, -1).astype(np.int8)"
   ],
   "metadata": {
    "collapsed": false,
    "pycharm": {
     "name": "#%%\n"
    }
   }
  },
  {
   "cell_type": "code",
   "execution_count": 4,
   "outputs": [],
   "source": [
    "class SVM:\n",
    "    X_train = None\n",
    "    y_train = None\n",
    "    X_test = None\n",
    "    y_test = None\n",
    "\n",
    "    def __init__(self, kernel_name='linear', C=1, degree=2, ksi=1, tolerance=1e-3, verbose=False, verbose_i=1000,\n",
    "            max_iter=np.inf):\n",
    "        self.C = C\n",
    "        self.tolerance = tolerance\n",
    "        self.kernel_name = kernel_name\n",
    "        self.verbose = verbose\n",
    "        self.verbose_i = verbose_i\n",
    "        self.max_iter = max_iter\n",
    "\n",
    "        def gaussian(a, b):\n",
    "            if b.ndim == 1:\n",
    "                return np.exp(-ksi * (a - b[None])**2).sum(axis=1)\n",
    "            return np.exp(-ksi * (a - b)**2).sum(axis=1)\n",
    "\n",
    "        kernels = {\n",
    "            'linear': lambda a, b: a @ b.T,\n",
    "            'polynomial': lambda a, b: (a @ b.T + 1)**degree,\n",
    "            'gaussian': gaussian,\n",
    "        }\n",
    "        self.K = kernels[kernel_name]\n",
    "\n",
    "\n",
    "    def fit(self, X, y):\n",
    "        self.X_train = np.array(X, dtype=np.float)\n",
    "        self.y_train = np.array(y)\n",
    "        self.N_train = self.X_train.shape[0]\n",
    "        self.k_train = self.X_train.shape[1]\n",
    "        self.alpha = np.random.sample(self.N_train)*self.C\n",
    "        self.bias = np.random.random()\n",
    "        self.error_cache = self.__error__(self.X_train, self.y_train)\n",
    "\n",
    "        is_changed = False\n",
    "        should_examine_all = True\n",
    "        i = 0\n",
    "        while (is_changed or should_examine_all) and i < self.max_iter:\n",
    "            i+=1\n",
    "            if self.verbose and i % self.verbose_i == 0:\n",
    "                self.visualize(self.X_train, self.y_train)\n",
    "\n",
    "            if should_examine_all:\n",
    "                is_changed = self.__train__(np.arange(self.N_train))\n",
    "            else:\n",
    "                indexes_to_examine = np.where(\n",
    "                    np.all(\n",
    "                        (self.alpha != 0, self.alpha != self.C),\n",
    "                        axis=0\n",
    "                    )\n",
    "                )[0]\n",
    "                is_changed = self.__train__(indexes_to_examine)\n",
    "\n",
    "            if should_examine_all:\n",
    "                should_examine_all = False\n",
    "            elif not is_changed:\n",
    "                should_examine_all = True\n",
    "\n",
    "    def predict_margin(self, X):\n",
    "        # if self.kernel_name == 'linear':\n",
    "        #     return self.w @ X.T - self.bias\n",
    "        if self.kernel_name in ['linear', 'polynomial']:\n",
    "            return (self.y_train * self.alpha * self.K(X, self.X_train)).sum(axis=1) - self.bias\n",
    "        return (self.y_train * self.alpha * np.apply_along_axis(self.K, 1 , X, self.X_train)).sum(axis=1) - self.bias\n",
    "\n",
    "    def predict(self, X):\n",
    "        return np.sign(self.predict_margin(X))\n",
    "\n",
    "\n",
    "    def __train__(self, indexes2):\n",
    "        X2 = self.X_train[indexes2]\n",
    "        y2 = self.y_train[indexes2]\n",
    "        alpha2 = self.alpha[indexes2]\n",
    "        err2 = self.error_cache[indexes2]\n",
    "        r2 = err2 * y2\n",
    "        i2_for_step = np.where(np.any(\n",
    "            (\n",
    "                np.all((r2 < -self.tolerance, alpha2 < self.C), axis=0),\n",
    "                np.all((r2  > self.tolerance, alpha2 > 0), axis=0)\n",
    "            ),\n",
    "            axis=0\n",
    "        ))[0]\n",
    "\n",
    "        for i2 in i2_for_step:\n",
    "            if len(np.all((self.alpha != self.C, self.alpha != 0), axis=0)) > 1:\n",
    "                i1 = np.argmax(np.abs(self.error_cache - err2[i2]))\n",
    "                if self.step(i1=i1, i2=i2): return True\n",
    "\n",
    "            i1_for_step = np.where(np.all((self.alpha != self.C, self.alpha != 0), axis=0))[0]\n",
    "            rand_start = np.random.randint(i1_for_step.shape[0])\n",
    "            for i1 in np.concatenate((i1_for_step[rand_start:], i1_for_step[:rand_start])):\n",
    "                if self.step(i1=i1, i2=i2): return True\n",
    "\n",
    "            i1_for_step = np.arange(self.N_train)\n",
    "            rand_start = np.random.randint(i1_for_step.shape[0])\n",
    "            for i1 in np.concatenate((i1_for_step[rand_start:], i1_for_step[:rand_start])):\n",
    "                if self.step(i1=i1, i2=i2): return True\n",
    "        return False\n",
    "\n",
    "\n",
    "    def step(self, i1, i2):\n",
    "\n",
    "        if i1 == i2: return False\n",
    "\n",
    "        alpha1 = +self.alpha[i1]\n",
    "        y1 = self.y_train[i1]\n",
    "        X1 = self.X_train[i1]\n",
    "        err1 = self.error_cache[i1]\n",
    "        X2 = self.X_train[i2]\n",
    "        y2 = self.y_train[i2]\n",
    "        alpha2 = +self.alpha[i2]\n",
    "        err2 = self.error_cache[i2]\n",
    "        s = y1*y2\n",
    "        L = max(0, alpha1 + alpha2 - self.C) if y1 == y2 else max(0, alpha2 - alpha1)\n",
    "        H = min(self.C, alpha1 + alpha2) if y1 == y2 else min(self.C, self.C + alpha2 - alpha1)\n",
    "        if L == H: return False\n",
    "\n",
    "        k11 = self.K(X1, X1)\n",
    "        k12 = self.K(X1, X2)\n",
    "        k22 = self.K(X2, X2)\n",
    "        eta = k11+k22-2*k12\n",
    "\n",
    "        if eta > 0:\n",
    "            a2 = alpha2 + y2*(err1-err2)/eta\n",
    "            if a2 < L: a2 = L\n",
    "            elif a2 > H: a2 = H\n",
    "        else:\n",
    "            f1 = y1 * (err1 + self.bias) - alpha1 * k11 - s * alpha2 * k12\n",
    "            f2 = y2 * (err2 + self.bias) - s *  alpha1 * k12 - alpha2 * k22\n",
    "            L1 = alpha1 + s * (alpha2 - L)\n",
    "            H1 = alpha1 + s * (alpha2 - H)\n",
    "            Lobj = L1*f1 + L*f2 + .5*L1**2*k11 + .5*L**2*k22 + s*L*L1*k12\n",
    "            Hobj = H1*f1 + H*f2 + .5*H1**2*k11 + .5*H**2*k22 + s*H*H1*k12\n",
    "            if Lobj < Hobj:\n",
    "               a2 = L\n",
    "            elif Lobj > Hobj:\n",
    "               a2 = H\n",
    "            else:\n",
    "               a2 = alpha2\n",
    "        if np.allclose(a2, alpha2): return False\n",
    "        # if np.abs(a2-alpha2) < np.finfo(float).eps*(a2+alpha2+np.finfo(float).eps): return False\n",
    "\n",
    "        a1 = alpha1 + s*(alpha2-a2)\n",
    "        b1 = err1 + y1 * (a1 - alpha1) * k11 + y2 * (a2 - alpha2) * k12 + self.bias\n",
    "        b2 = err2 + y1 * (a1 - alpha1) * k12 + y2 * (a2 - alpha2) * k22 + self.bias\n",
    "        self.bias = (b2 + b1)/2\n",
    "        # self.w = (self.y_train * self.alpha * self.X_train.T).sum(axis=1)\n",
    "        self.error_cache = self.__error__(self.X_train, self.y_train)\n",
    "        self.alpha[i1] = +a1\n",
    "        self.alpha[i2] = +a2\n",
    "        return True\n",
    "\n",
    "\n",
    "    def __error__(self, X, y):\n",
    "        return self.predict(X) - y\n",
    "\n",
    "\n",
    "    def visualize(self, X=None, y=None):\n",
    "        if X is None:\n",
    "            if self.X_test is None:\n",
    "                X = self.X_train\n",
    "            else: X = self.X_test\n",
    "        if y is None:\n",
    "            if self.y_test is None:\n",
    "                y = self.y_train\n",
    "            else: y = self.y_test\n",
    "        xx, yy = np.meshgrid(np.linspace(X[:,0].min() - 1, X[:,0].max() + 1, 1000), np.linspace(X[:,1].min() - 1, X[:,1].max() + 1, 1000))\n",
    "        pred = self.predict(np.c_[xx.ravel(), yy.ravel()])\n",
    "        pred = pred.reshape(xx.shape)\n",
    "\n",
    "        plt.pcolormesh(xx, yy, pred, cmap=ListedColormap(['#AAAAFF','#FFAFAF']))\n",
    "\n",
    "        plt.scatter(X[:,0], X[:,1], c=y)\n",
    "        plt.xlabel('$x_1$')\n",
    "        plt.ylabel('$x_2$')\n",
    "        plt.show()\n",
    "\n"
   ],
   "metadata": {
    "collapsed": false,
    "pycharm": {
     "name": "#%%\n"
    }
   }
  },
  {
   "cell_type": "code",
   "execution_count": 5,
   "outputs": [
    {
     "ename": "KeyboardInterrupt",
     "evalue": "",
     "output_type": "error",
     "traceback": [
      "\u001B[0;31m---------------------------------------------------------------------------\u001B[0m",
      "\u001B[0;31mKeyboardInterrupt\u001B[0m                         Traceback (most recent call last)",
      "\u001B[0;32m<ipython-input-5-1624e15fdca4>\u001B[0m in \u001B[0;36m<module>\u001B[0;34m\u001B[0m\n\u001B[1;32m      3\u001B[0m     \u001B[0;32mfor\u001B[0m \u001B[0mC\u001B[0m \u001B[0;32min\u001B[0m \u001B[0;34m[\u001B[0m\u001B[0;36m0.05\u001B[0m\u001B[0;34m,\u001B[0m \u001B[0;36m0.1\u001B[0m\u001B[0;34m,\u001B[0m \u001B[0;36m0.5\u001B[0m\u001B[0;34m,\u001B[0m \u001B[0;36m1.0\u001B[0m\u001B[0;34m,\u001B[0m \u001B[0;36m5.0\u001B[0m\u001B[0;34m,\u001B[0m \u001B[0;36m10.0\u001B[0m\u001B[0;34m,\u001B[0m \u001B[0;36m50.0\u001B[0m\u001B[0;34m,\u001B[0m \u001B[0;36m100.0\u001B[0m\u001B[0;34m]\u001B[0m\u001B[0;34m:\u001B[0m\u001B[0;34m\u001B[0m\u001B[0;34m\u001B[0m\u001B[0m\n\u001B[1;32m      4\u001B[0m         \u001B[0msvm\u001B[0m \u001B[0;34m=\u001B[0m \u001B[0mSVM\u001B[0m\u001B[0;34m(\u001B[0m\u001B[0mC\u001B[0m\u001B[0;34m=\u001B[0m\u001B[0mC\u001B[0m\u001B[0;34m)\u001B[0m\u001B[0;34m\u001B[0m\u001B[0;34m\u001B[0m\u001B[0m\n\u001B[0;32m----> 5\u001B[0;31m         \u001B[0msvm\u001B[0m\u001B[0;34m.\u001B[0m\u001B[0mfit\u001B[0m\u001B[0;34m(\u001B[0m\u001B[0mgeyser_X\u001B[0m\u001B[0;34m,\u001B[0m \u001B[0mgeyser_y\u001B[0m\u001B[0;34m)\u001B[0m\u001B[0;34m\u001B[0m\u001B[0;34m\u001B[0m\u001B[0m\n\u001B[0m\u001B[1;32m      6\u001B[0m         \u001B[0mtmp_top\u001B[0m\u001B[0;34m.\u001B[0m\u001B[0mappend\u001B[0m\u001B[0;34m(\u001B[0m\u001B[0;34m[\u001B[0m\u001B[0mnp\u001B[0m\u001B[0;34m.\u001B[0m\u001B[0mabs\u001B[0m\u001B[0;34m(\u001B[0m\u001B[0msvm\u001B[0m\u001B[0;34m.\u001B[0m\u001B[0m__error__\u001B[0m\u001B[0;34m(\u001B[0m\u001B[0mgeyser_X\u001B[0m\u001B[0;34m,\u001B[0m \u001B[0mgeyser_y\u001B[0m\u001B[0;34m)\u001B[0m\u001B[0;34m)\u001B[0m\u001B[0;34m.\u001B[0m\u001B[0msum\u001B[0m\u001B[0;34m(\u001B[0m\u001B[0;34m)\u001B[0m\u001B[0;34m,\u001B[0m \u001B[0mC\u001B[0m\u001B[0;34m]\u001B[0m\u001B[0;34m)\u001B[0m\u001B[0;34m\u001B[0m\u001B[0;34m\u001B[0m\u001B[0m\n\u001B[1;32m      7\u001B[0m         \u001B[0;31m# svm.visualize()\u001B[0m\u001B[0;34m\u001B[0m\u001B[0;34m\u001B[0m\u001B[0;34m\u001B[0m\u001B[0m\n",
      "\u001B[0;32m<ipython-input-4-eeeef948fc82>\u001B[0m in \u001B[0;36mfit\u001B[0;34m(self, X, y)\u001B[0m\n\u001B[1;32m     53\u001B[0m                     )\n\u001B[1;32m     54\u001B[0m                 )[0]\n\u001B[0;32m---> 55\u001B[0;31m                 \u001B[0mis_changed\u001B[0m \u001B[0;34m=\u001B[0m \u001B[0mself\u001B[0m\u001B[0;34m.\u001B[0m\u001B[0m__train__\u001B[0m\u001B[0;34m(\u001B[0m\u001B[0mindexes_to_examine\u001B[0m\u001B[0;34m)\u001B[0m\u001B[0;34m\u001B[0m\u001B[0;34m\u001B[0m\u001B[0m\n\u001B[0m\u001B[1;32m     56\u001B[0m \u001B[0;34m\u001B[0m\u001B[0m\n\u001B[1;32m     57\u001B[0m             \u001B[0;32mif\u001B[0m \u001B[0mshould_examine_all\u001B[0m\u001B[0;34m:\u001B[0m\u001B[0;34m\u001B[0m\u001B[0;34m\u001B[0m\u001B[0m\n",
      "\u001B[0;32m<ipython-input-4-eeeef948fc82>\u001B[0m in \u001B[0;36m__train__\u001B[0;34m(self, indexes2)\u001B[0m\n\u001B[1;32m     98\u001B[0m             \u001B[0mrand_start\u001B[0m \u001B[0;34m=\u001B[0m \u001B[0mnp\u001B[0m\u001B[0;34m.\u001B[0m\u001B[0mrandom\u001B[0m\u001B[0;34m.\u001B[0m\u001B[0mrandint\u001B[0m\u001B[0;34m(\u001B[0m\u001B[0mi1_for_step\u001B[0m\u001B[0;34m.\u001B[0m\u001B[0mshape\u001B[0m\u001B[0;34m[\u001B[0m\u001B[0;36m0\u001B[0m\u001B[0;34m]\u001B[0m\u001B[0;34m)\u001B[0m\u001B[0;34m\u001B[0m\u001B[0;34m\u001B[0m\u001B[0m\n\u001B[1;32m     99\u001B[0m             \u001B[0;32mfor\u001B[0m \u001B[0mi1\u001B[0m \u001B[0;32min\u001B[0m \u001B[0mnp\u001B[0m\u001B[0;34m.\u001B[0m\u001B[0mconcatenate\u001B[0m\u001B[0;34m(\u001B[0m\u001B[0;34m(\u001B[0m\u001B[0mi1_for_step\u001B[0m\u001B[0;34m[\u001B[0m\u001B[0mrand_start\u001B[0m\u001B[0;34m:\u001B[0m\u001B[0;34m]\u001B[0m\u001B[0;34m,\u001B[0m \u001B[0mi1_for_step\u001B[0m\u001B[0;34m[\u001B[0m\u001B[0;34m:\u001B[0m\u001B[0mrand_start\u001B[0m\u001B[0;34m]\u001B[0m\u001B[0;34m)\u001B[0m\u001B[0;34m)\u001B[0m\u001B[0;34m:\u001B[0m\u001B[0;34m\u001B[0m\u001B[0;34m\u001B[0m\u001B[0m\n\u001B[0;32m--> 100\u001B[0;31m                 \u001B[0;32mif\u001B[0m \u001B[0mself\u001B[0m\u001B[0;34m.\u001B[0m\u001B[0mstep\u001B[0m\u001B[0;34m(\u001B[0m\u001B[0mi1\u001B[0m\u001B[0;34m=\u001B[0m\u001B[0mi1\u001B[0m\u001B[0;34m,\u001B[0m \u001B[0mi2\u001B[0m\u001B[0;34m=\u001B[0m\u001B[0mi2\u001B[0m\u001B[0;34m)\u001B[0m\u001B[0;34m:\u001B[0m \u001B[0;32mreturn\u001B[0m \u001B[0;32mTrue\u001B[0m\u001B[0;34m\u001B[0m\u001B[0;34m\u001B[0m\u001B[0m\n\u001B[0m\u001B[1;32m    101\u001B[0m         \u001B[0;32mreturn\u001B[0m \u001B[0;32mFalse\u001B[0m\u001B[0;34m\u001B[0m\u001B[0;34m\u001B[0m\u001B[0m\n\u001B[1;32m    102\u001B[0m \u001B[0;34m\u001B[0m\u001B[0m\n",
      "\u001B[0;32m<ipython-input-4-eeeef948fc82>\u001B[0m in \u001B[0;36mstep\u001B[0;34m(self, i1, i2)\u001B[0m\n\u001B[1;32m    141\u001B[0m             \u001B[0;32melse\u001B[0m\u001B[0;34m:\u001B[0m\u001B[0;34m\u001B[0m\u001B[0;34m\u001B[0m\u001B[0m\n\u001B[1;32m    142\u001B[0m                \u001B[0ma2\u001B[0m \u001B[0;34m=\u001B[0m \u001B[0malpha2\u001B[0m\u001B[0;34m\u001B[0m\u001B[0;34m\u001B[0m\u001B[0m\n\u001B[0;32m--> 143\u001B[0;31m         \u001B[0;32mif\u001B[0m \u001B[0mnp\u001B[0m\u001B[0;34m.\u001B[0m\u001B[0mallclose\u001B[0m\u001B[0;34m(\u001B[0m\u001B[0ma2\u001B[0m\u001B[0;34m,\u001B[0m \u001B[0malpha2\u001B[0m\u001B[0;34m)\u001B[0m\u001B[0;34m:\u001B[0m \u001B[0;32mreturn\u001B[0m \u001B[0;32mFalse\u001B[0m\u001B[0;34m\u001B[0m\u001B[0;34m\u001B[0m\u001B[0m\n\u001B[0m\u001B[1;32m    144\u001B[0m         \u001B[0;31m# if np.abs(a2-alpha2) < np.finfo(float).eps*(a2+alpha2+np.finfo(float).eps): return False\u001B[0m\u001B[0;34m\u001B[0m\u001B[0;34m\u001B[0m\u001B[0;34m\u001B[0m\u001B[0m\n\u001B[1;32m    145\u001B[0m \u001B[0;34m\u001B[0m\u001B[0m\n",
      "\u001B[0;32m<__array_function__ internals>\u001B[0m in \u001B[0;36mallclose\u001B[0;34m(*args, **kwargs)\u001B[0m\n",
      "\u001B[0;32m~/Projects/ml_labs/venv/lib/python3.8/site-packages/numpy/core/numeric.py\u001B[0m in \u001B[0;36mallclose\u001B[0;34m(a, b, rtol, atol, equal_nan)\u001B[0m\n\u001B[1;32m   2157\u001B[0m \u001B[0;34m\u001B[0m\u001B[0m\n\u001B[1;32m   2158\u001B[0m     \"\"\"\n\u001B[0;32m-> 2159\u001B[0;31m     \u001B[0mres\u001B[0m \u001B[0;34m=\u001B[0m \u001B[0mall\u001B[0m\u001B[0;34m(\u001B[0m\u001B[0misclose\u001B[0m\u001B[0;34m(\u001B[0m\u001B[0ma\u001B[0m\u001B[0;34m,\u001B[0m \u001B[0mb\u001B[0m\u001B[0;34m,\u001B[0m \u001B[0mrtol\u001B[0m\u001B[0;34m=\u001B[0m\u001B[0mrtol\u001B[0m\u001B[0;34m,\u001B[0m \u001B[0matol\u001B[0m\u001B[0;34m=\u001B[0m\u001B[0matol\u001B[0m\u001B[0;34m,\u001B[0m \u001B[0mequal_nan\u001B[0m\u001B[0;34m=\u001B[0m\u001B[0mequal_nan\u001B[0m\u001B[0;34m)\u001B[0m\u001B[0;34m)\u001B[0m\u001B[0;34m\u001B[0m\u001B[0;34m\u001B[0m\u001B[0m\n\u001B[0m\u001B[1;32m   2160\u001B[0m     \u001B[0;32mreturn\u001B[0m \u001B[0mbool\u001B[0m\u001B[0;34m(\u001B[0m\u001B[0mres\u001B[0m\u001B[0;34m)\u001B[0m\u001B[0;34m\u001B[0m\u001B[0;34m\u001B[0m\u001B[0m\n\u001B[1;32m   2161\u001B[0m \u001B[0;34m\u001B[0m\u001B[0m\n",
      "\u001B[0;32m<__array_function__ internals>\u001B[0m in \u001B[0;36mall\u001B[0;34m(*args, **kwargs)\u001B[0m\n",
      "\u001B[0;32m~/Projects/ml_labs/venv/lib/python3.8/site-packages/numpy/core/fromnumeric.py\u001B[0m in \u001B[0;36mall\u001B[0;34m(a, axis, out, keepdims)\u001B[0m\n\u001B[1;32m   2396\u001B[0m \u001B[0;34m\u001B[0m\u001B[0m\n\u001B[1;32m   2397\u001B[0m     \"\"\"\n\u001B[0;32m-> 2398\u001B[0;31m     \u001B[0;32mreturn\u001B[0m \u001B[0m_wrapreduction\u001B[0m\u001B[0;34m(\u001B[0m\u001B[0ma\u001B[0m\u001B[0;34m,\u001B[0m \u001B[0mnp\u001B[0m\u001B[0;34m.\u001B[0m\u001B[0mlogical_and\u001B[0m\u001B[0;34m,\u001B[0m \u001B[0;34m'all'\u001B[0m\u001B[0;34m,\u001B[0m \u001B[0maxis\u001B[0m\u001B[0;34m,\u001B[0m \u001B[0;32mNone\u001B[0m\u001B[0;34m,\u001B[0m \u001B[0mout\u001B[0m\u001B[0;34m,\u001B[0m \u001B[0mkeepdims\u001B[0m\u001B[0;34m=\u001B[0m\u001B[0mkeepdims\u001B[0m\u001B[0;34m)\u001B[0m\u001B[0;34m\u001B[0m\u001B[0;34m\u001B[0m\u001B[0m\n\u001B[0m\u001B[1;32m   2399\u001B[0m \u001B[0;34m\u001B[0m\u001B[0m\n\u001B[1;32m   2400\u001B[0m \u001B[0;34m\u001B[0m\u001B[0m\n",
      "\u001B[0;32m~/Projects/ml_labs/venv/lib/python3.8/site-packages/numpy/core/fromnumeric.py\u001B[0m in \u001B[0;36m_wrapreduction\u001B[0;34m(obj, ufunc, method, axis, dtype, out, **kwargs)\u001B[0m\n\u001B[1;32m     86\u001B[0m                 \u001B[0;32mreturn\u001B[0m \u001B[0mreduction\u001B[0m\u001B[0;34m(\u001B[0m\u001B[0maxis\u001B[0m\u001B[0;34m=\u001B[0m\u001B[0maxis\u001B[0m\u001B[0;34m,\u001B[0m \u001B[0mdtype\u001B[0m\u001B[0;34m=\u001B[0m\u001B[0mdtype\u001B[0m\u001B[0;34m,\u001B[0m \u001B[0mout\u001B[0m\u001B[0;34m=\u001B[0m\u001B[0mout\u001B[0m\u001B[0;34m,\u001B[0m \u001B[0;34m**\u001B[0m\u001B[0mpasskwargs\u001B[0m\u001B[0;34m)\u001B[0m\u001B[0;34m\u001B[0m\u001B[0;34m\u001B[0m\u001B[0m\n\u001B[1;32m     87\u001B[0m             \u001B[0;32melse\u001B[0m\u001B[0;34m:\u001B[0m\u001B[0;34m\u001B[0m\u001B[0;34m\u001B[0m\u001B[0m\n\u001B[0;32m---> 88\u001B[0;31m                 \u001B[0;32mreturn\u001B[0m \u001B[0mreduction\u001B[0m\u001B[0;34m(\u001B[0m\u001B[0maxis\u001B[0m\u001B[0;34m=\u001B[0m\u001B[0maxis\u001B[0m\u001B[0;34m,\u001B[0m \u001B[0mout\u001B[0m\u001B[0;34m=\u001B[0m\u001B[0mout\u001B[0m\u001B[0;34m,\u001B[0m \u001B[0;34m**\u001B[0m\u001B[0mpasskwargs\u001B[0m\u001B[0;34m)\u001B[0m\u001B[0;34m\u001B[0m\u001B[0;34m\u001B[0m\u001B[0m\n\u001B[0m\u001B[1;32m     89\u001B[0m \u001B[0;34m\u001B[0m\u001B[0m\n\u001B[1;32m     90\u001B[0m     \u001B[0;32mreturn\u001B[0m \u001B[0mufunc\u001B[0m\u001B[0;34m.\u001B[0m\u001B[0mreduce\u001B[0m\u001B[0;34m(\u001B[0m\u001B[0mobj\u001B[0m\u001B[0;34m,\u001B[0m \u001B[0maxis\u001B[0m\u001B[0;34m,\u001B[0m \u001B[0mdtype\u001B[0m\u001B[0;34m,\u001B[0m \u001B[0mout\u001B[0m\u001B[0;34m,\u001B[0m \u001B[0;34m**\u001B[0m\u001B[0mpasskwargs\u001B[0m\u001B[0;34m)\u001B[0m\u001B[0;34m\u001B[0m\u001B[0;34m\u001B[0m\u001B[0m\n",
      "\u001B[0;31mKeyboardInterrupt\u001B[0m: "
     ]
    }
   ],
   "source": [
    "with open('linear_geyser_top.txt', 'w') as top_file:\n",
    "    tmp_top = []\n",
    "    for C in [0.05, 0.1, 0.5, 1.0, 5.0, 10.0, 50.0, 100.0]:\n",
    "        svm = SVM(C=C)\n",
    "        svm.fit(geyser_X, geyser_y)\n",
    "        tmp_top.append([np.abs(svm.__error__(geyser_X, geyser_y)).sum(), C])\n",
    "        # svm.visualize()\n",
    "    tmp_top.sort(key=lambda a: a[0])\n",
    "    top_file.write(np.array2string(np.array(tmp_top)))"
   ],
   "metadata": {
    "collapsed": false,
    "pycharm": {
     "name": "#%%\n"
    }
   }
  },
  {
   "cell_type": "code",
   "execution_count": null,
   "outputs": [],
   "source": [
    "with open('polynomial_geyser_top.txt', 'w') as top_file:\n",
    "    tmp_top = []\n",
    "    for i in range(1, 7):\n",
    "        for C in [0.05, 0.1, 0.5, 1.0, 5.0, 10.0, 50.0, 100.0]:\n",
    "            svm = SVM(kernel_name='polynomial', degree=i, C=C)\n",
    "            svm.fit(geyser_X, geyser_y)\n",
    "            tmp_top.append([np.abs(svm.__error__(geyser_X, geyser_y)).sum(), C, i])\n",
    "            # svm.visualize()\n",
    "    tmp_top.sort(key=lambda a: a[0])\n",
    "    top_file.write(np.array2string(np.array(tmp_top)))"
   ],
   "metadata": {
    "collapsed": false,
    "pycharm": {
     "name": "#%%\n"
    }
   }
  },
  {
   "cell_type": "code",
   "execution_count": null,
   "outputs": [],
   "source": [
    "with open('gaussian_geyser_top.txt', 'w') as top_file:\n",
    "    tmp_top = []\n",
    "    for i in range(1, 7):\n",
    "        for C in [0.05, 0.1, 0.5, 1.0, 5.0, 10.0, 50.0, 100.0]:\n",
    "            svm = SVM(kernel_name='gaussian', ksi=i, C=C)\n",
    "            svm.fit(geyser_X, geyser_y)\n",
    "            tmp_top.append([np.abs(svm.__error__(geyser_X, geyser_y)).sum(), C, i])\n",
    "            # svm.visualize()\n",
    "    tmp_top.sort(key=lambda a: a[0])\n",
    "    top_file.write(np.array2string(np.array(tmp_top)))"
   ],
   "metadata": {
    "collapsed": false,
    "pycharm": {
     "name": "#%%\n"
    }
   }
  },
  {
   "cell_type": "code",
   "execution_count": null,
   "outputs": [],
   "source": [
    "with open('linear_chips_top.txt', 'w') as top_file:\n",
    "    tmp_top = []\n",
    "    for C in [0.05, 0.1, 0.5, 1.0, 5.0, 10.0, 50.0, 100.0]:\n",
    "        svm = SVM(C=C)\n",
    "        svm.fit(chips_X, chips_y)\n",
    "        tmp_top.append([np.abs(svm.__error__(chips_X, chips_y)).sum(), C])\n",
    "        # svm.visualize()\n",
    "    tmp_top.sort(key=lambda a: a[0])\n",
    "    top_file.write(np.array2string(np.array(tmp_top)))"
   ],
   "metadata": {
    "collapsed": false,
    "pycharm": {
     "name": "#%%\n"
    }
   }
  },
  {
   "cell_type": "code",
   "execution_count": null,
   "outputs": [],
   "source": [
    "with open('polynomial_chips_top.txt', 'w') as top_file:\n",
    "    tmp_top = []\n",
    "    for i in range(1, 7):\n",
    "        for C in [0.05, 0.1, 0.5, 1.0, 5.0, 10.0, 50.0, 100.0]:\n",
    "            svm = SVM(kernel_name='polynomial', degree=i, C=C)\n",
    "            svm.fit(chips_X, chips_y)\n",
    "            tmp_top.append([np.abs(svm.__error__(chips_X, chips_y)).sum(), C, i])\n",
    "            # svm.visualize()\n",
    "    tmp_top.sort(key=lambda a: a[0])\n",
    "    top_file.write(np.array2string(np.array(tmp_top)))"
   ],
   "metadata": {
    "collapsed": false,
    "pycharm": {
     "name": "#%%\n"
    }
   }
  },
  {
   "cell_type": "code",
   "execution_count": null,
   "outputs": [],
   "source": [
    "with open('gaussian_chips_top.txt', 'w') as top_file:\n",
    "    tmp_top = []\n",
    "    for i in np.arange(1, 7):\n",
    "        for C in [0.05, 0.1, 0.5, 1.0, 5.0, 10.0, 50.0, 100.0]:\n",
    "            svm = SVM(kernel_name='gaussian', ksi=i, C=C)\n",
    "            svm.fit(chips_X, chips_y)\n",
    "            tmp_top.append([np.abs(svm.__error__(chips_X, chips_y)).sum(), C, i])\n",
    "            # svm.visualize()\n",
    "    tmp_top.sort(key=lambda a: a[0])\n",
    "    top_file.write(np.array2string(np.array(tmp_top)))\n"
   ],
   "metadata": {
    "collapsed": false,
    "pycharm": {
     "name": "#%%\n"
    }
   }
  },
  {
   "cell_type": "code",
   "execution_count": 6,
   "outputs": [
    {
     "name": "stderr",
     "output_type": "stream",
     "text": [
      "<ipython-input-4-eeeef948fc82>:174: MatplotlibDeprecationWarning: shading='flat' when X and Y have the same dimensions as C is deprecated since 3.3.  Either specify the corners of the quadrilaterals with X and Y, or pass shading='auto', 'nearest' or 'gouraud', or set rcParams['pcolor.shading'].  This will become an error two minor releases later.\n",
      "  plt.pcolormesh(xx, yy, pred, cmap=ListedColormap(['#AAAAFF','#FFAFAF']))\n"
     ]
    },
    {
     "data": {
      "text/plain": "<Figure size 432x288 with 1 Axes>",
      "image/png": "[encoded data removed]"
     },
     "metadata": {
      "needs_background": "light"
     },
     "output_type": "display_data"
    },
    {
     "name": "stdout",
     "output_type": "stream",
     "text": [
      "Accuracy: 0.90\n"
     ]
    }
   ],
   "source": [
    "svm = SVM(C=0.1)\n",
    "svm.fit(geyser_X, geyser_y)\n",
    "svm.visualize()\n",
    "print('Accuracy: %0.2f' % (1 - .5 * np.abs(svm.__error__(geyser_X, geyser_y)).sum()/svm.N_train))"
   ],
   "metadata": {
    "collapsed": false,
    "pycharm": {
     "name": "#%%\n"
    }
   }
  },
  {
   "cell_type": "code",
   "execution_count": 7,
   "outputs": [
    {
     "ename": "KeyboardInterrupt",
     "evalue": "",
     "output_type": "error",
     "traceback": [
      "\u001B[0;31m---------------------------------------------------------------------------\u001B[0m",
      "\u001B[0;31mKeyboardInterrupt\u001B[0m                         Traceback (most recent call last)",
      "\u001B[0;32m<ipython-input-7-18adbe9194f3>\u001B[0m in \u001B[0;36m<module>\u001B[0;34m\u001B[0m\n\u001B[1;32m      1\u001B[0m \u001B[0msvm\u001B[0m \u001B[0;34m=\u001B[0m \u001B[0mSVM\u001B[0m\u001B[0;34m(\u001B[0m\u001B[0mkernel_name\u001B[0m\u001B[0;34m=\u001B[0m\u001B[0;34m'polynomial'\u001B[0m\u001B[0;34m,\u001B[0m \u001B[0mC\u001B[0m\u001B[0;34m=\u001B[0m\u001B[0;36m0.1\u001B[0m\u001B[0;34m,\u001B[0m \u001B[0mdegree\u001B[0m\u001B[0;34m=\u001B[0m\u001B[0;36m1\u001B[0m\u001B[0;34m)\u001B[0m\u001B[0;34m\u001B[0m\u001B[0;34m\u001B[0m\u001B[0m\n\u001B[0;32m----> 2\u001B[0;31m \u001B[0msvm\u001B[0m\u001B[0;34m.\u001B[0m\u001B[0mfit\u001B[0m\u001B[0;34m(\u001B[0m\u001B[0mgeyser_X\u001B[0m\u001B[0;34m,\u001B[0m \u001B[0mgeyser_y\u001B[0m\u001B[0;34m)\u001B[0m\u001B[0;34m\u001B[0m\u001B[0;34m\u001B[0m\u001B[0m\n\u001B[0m\u001B[1;32m      3\u001B[0m \u001B[0msvm\u001B[0m\u001B[0;34m.\u001B[0m\u001B[0mvisualize\u001B[0m\u001B[0;34m(\u001B[0m\u001B[0;34m)\u001B[0m\u001B[0;34m\u001B[0m\u001B[0;34m\u001B[0m\u001B[0m\n\u001B[1;32m      4\u001B[0m \u001B[0mprint\u001B[0m\u001B[0;34m(\u001B[0m\u001B[0;34m'Accuracy: %0.2f'\u001B[0m \u001B[0;34m%\u001B[0m \u001B[0;34m(\u001B[0m\u001B[0;36m1\u001B[0m \u001B[0;34m-\u001B[0m \u001B[0;36m.5\u001B[0m \u001B[0;34m*\u001B[0m \u001B[0mnp\u001B[0m\u001B[0;34m.\u001B[0m\u001B[0mabs\u001B[0m\u001B[0;34m(\u001B[0m\u001B[0msvm\u001B[0m\u001B[0;34m.\u001B[0m\u001B[0m__error__\u001B[0m\u001B[0;34m(\u001B[0m\u001B[0mgeyser_X\u001B[0m\u001B[0;34m,\u001B[0m \u001B[0mgeyser_y\u001B[0m\u001B[0;34m)\u001B[0m\u001B[0;34m)\u001B[0m\u001B[0;34m.\u001B[0m\u001B[0msum\u001B[0m\u001B[0;34m(\u001B[0m\u001B[0;34m)\u001B[0m\u001B[0;34m/\u001B[0m\u001B[0msvm\u001B[0m\u001B[0;34m.\u001B[0m\u001B[0mN_train\u001B[0m\u001B[0;34m)\u001B[0m\u001B[0;34m)\u001B[0m\u001B[0;34m\u001B[0m\u001B[0;34m\u001B[0m\u001B[0m\n\u001B[1;32m      5\u001B[0m \u001B[0;34m\u001B[0m\u001B[0m\n",
      "\u001B[0;32m<ipython-input-4-eeeef948fc82>\u001B[0m in \u001B[0;36mfit\u001B[0;34m(self, X, y)\u001B[0m\n\u001B[1;32m     53\u001B[0m                     )\n\u001B[1;32m     54\u001B[0m                 )[0]\n\u001B[0;32m---> 55\u001B[0;31m                 \u001B[0mis_changed\u001B[0m \u001B[0;34m=\u001B[0m \u001B[0mself\u001B[0m\u001B[0;34m.\u001B[0m\u001B[0m__train__\u001B[0m\u001B[0;34m(\u001B[0m\u001B[0mindexes_to_examine\u001B[0m\u001B[0;34m)\u001B[0m\u001B[0;34m\u001B[0m\u001B[0;34m\u001B[0m\u001B[0m\n\u001B[0m\u001B[1;32m     56\u001B[0m \u001B[0;34m\u001B[0m\u001B[0m\n\u001B[1;32m     57\u001B[0m             \u001B[0;32mif\u001B[0m \u001B[0mshould_examine_all\u001B[0m\u001B[0;34m:\u001B[0m\u001B[0;34m\u001B[0m\u001B[0;34m\u001B[0m\u001B[0m\n",
      "\u001B[0;32m<ipython-input-4-eeeef948fc82>\u001B[0m in \u001B[0;36m__train__\u001B[0;34m(self, indexes2)\u001B[0m\n\u001B[1;32m     98\u001B[0m             \u001B[0mrand_start\u001B[0m \u001B[0;34m=\u001B[0m \u001B[0mnp\u001B[0m\u001B[0;34m.\u001B[0m\u001B[0mrandom\u001B[0m\u001B[0;34m.\u001B[0m\u001B[0mrandint\u001B[0m\u001B[0;34m(\u001B[0m\u001B[0mi1_for_step\u001B[0m\u001B[0;34m.\u001B[0m\u001B[0mshape\u001B[0m\u001B[0;34m[\u001B[0m\u001B[0;36m0\u001B[0m\u001B[0;34m]\u001B[0m\u001B[0;34m)\u001B[0m\u001B[0;34m\u001B[0m\u001B[0;34m\u001B[0m\u001B[0m\n\u001B[1;32m     99\u001B[0m             \u001B[0;32mfor\u001B[0m \u001B[0mi1\u001B[0m \u001B[0;32min\u001B[0m \u001B[0mnp\u001B[0m\u001B[0;34m.\u001B[0m\u001B[0mconcatenate\u001B[0m\u001B[0;34m(\u001B[0m\u001B[0;34m(\u001B[0m\u001B[0mi1_for_step\u001B[0m\u001B[0;34m[\u001B[0m\u001B[0mrand_start\u001B[0m\u001B[0;34m:\u001B[0m\u001B[0;34m]\u001B[0m\u001B[0;34m,\u001B[0m \u001B[0mi1_for_step\u001B[0m\u001B[0;34m[\u001B[0m\u001B[0;34m:\u001B[0m\u001B[0mrand_start\u001B[0m\u001B[0;34m]\u001B[0m\u001B[0;34m)\u001B[0m\u001B[0;34m)\u001B[0m\u001B[0;34m:\u001B[0m\u001B[0;34m\u001B[0m\u001B[0;34m\u001B[0m\u001B[0m\n\u001B[0;32m--> 100\u001B[0;31m                 \u001B[0;32mif\u001B[0m \u001B[0mself\u001B[0m\u001B[0;34m.\u001B[0m\u001B[0mstep\u001B[0m\u001B[0;34m(\u001B[0m\u001B[0mi1\u001B[0m\u001B[0;34m=\u001B[0m\u001B[0mi1\u001B[0m\u001B[0;34m,\u001B[0m \u001B[0mi2\u001B[0m\u001B[0;34m=\u001B[0m\u001B[0mi2\u001B[0m\u001B[0;34m)\u001B[0m\u001B[0;34m:\u001B[0m \u001B[0;32mreturn\u001B[0m \u001B[0;32mTrue\u001B[0m\u001B[0;34m\u001B[0m\u001B[0;34m\u001B[0m\u001B[0m\n\u001B[0m\u001B[1;32m    101\u001B[0m         \u001B[0;32mreturn\u001B[0m \u001B[0;32mFalse\u001B[0m\u001B[0;34m\u001B[0m\u001B[0;34m\u001B[0m\u001B[0m\n\u001B[1;32m    102\u001B[0m \u001B[0;34m\u001B[0m\u001B[0m\n",
      "\u001B[0;31mKeyboardInterrupt\u001B[0m: "
     ]
    }
   ],
   "source": [
    "svm = SVM(kernel_name='polynomial', C=0.1, degree=1)\n",
    "svm.fit(geyser_X, geyser_y)\n",
    "svm.visualize()\n",
    "print('Accuracy: %0.2f' % (1 - .5 * np.abs(svm.__error__(geyser_X, geyser_y)).sum()/svm.N_train))"
   ],
   "metadata": {
    "collapsed": false,
    "pycharm": {
     "name": "#%%\n"
    }
   }
  },
  {
   "cell_type": "code",
   "execution_count": null,
   "outputs": [],
   "source": [
    "svm = SVM(kernel_name='gaussian', C=10, ksi=1)\n",
    "svm.fit(geyser_X, geyser_y)\n",
    "svm.visualize()\n",
    "print('Accuracy: %0.2f' % (1 - .5 * np.abs(svm.__error__(geyser_X, geyser_y)).sum()/svm.N_train))"
   ],
   "metadata": {
    "collapsed": false,
    "pycharm": {
     "name": "#%%\n"
    }
   }
  },
  {
   "cell_type": "code",
   "execution_count": null,
   "outputs": [],
   "source": [
    "svm = SVM(C=10)\n",
    "svm.fit(chips_X, chips_y)\n",
    "svm.visualize()\n",
    "print('Accuracy: %0.2f' % (1 - .5 * np.abs(svm.__error__(chips_X, chips_y)).sum()/svm.N_train))"
   ],
   "metadata": {
    "collapsed": false,
    "pycharm": {
     "name": "#%%\n"
    }
   }
  },
  {
   "cell_type": "code",
   "execution_count": null,
   "outputs": [],
   "source": [
    "svm = SVM(kernel_name='polynomial', C=100, degree=2)\n",
    "svm.fit(chips_X, chips_y)\n",
    "svm.visualize()\n",
    "print('Accuracy: %0.2f' % (1 - .5 * np.abs(svm.__error__(chips_X, chips_y)).sum()/svm.N_train))"
   ],
   "metadata": {
    "collapsed": false,
    "pycharm": {
     "name": "#%%\n"
    }
   }
  },
  {
   "cell_type": "code",
   "execution_count": null,
   "outputs": [],
   "source": [
    "svm = SVM(kernel_name='gaussian', C=50, ksi=6)\n",
    "svm.fit(chips_X, chips_y)\n",
    "svm.visualize()\n",
    "print('Accuracy: %0.2f' % (1 - .5 *np.abs(svm.__error__(chips_X, chips_y)).sum()/svm.N_train))\n"
   ],
   "metadata": {
    "collapsed": false,
    "pycharm": {
     "name": "#%%\n"
    }
   }
  }
 ],
 "metadata": {
  "kernelspec": {
   "display_name": "Python 3",
   "language": "python",
   "name": "python3"
  },
  "language_info": {
   "codemirror_mode": {
    "name": "ipython",
    "version": 2
   },
   "file_extension": ".py",
   "mimetype": "text/x-python",
   "name": "python",
   "nbconvert_exporter": "python",
   "pygments_lexer": "ipython2",
   "version": "2.7.6"
  }
 },
 "nbformat": 4,
 "nbformat_minor": 0
}