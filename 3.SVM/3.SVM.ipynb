{
 "cells": [
  {
   "cell_type": "code",
   "execution_count": 465,
   "metadata": {
    "collapsed": true
   },
   "outputs": [],
   "source": [
    "import pandas as pd\n",
    "import numpy as np\n",
    "import matplotlib.pyplot as plt\n",
    "from matplotlib.colors import ListedColormap\n",
    "from pyswarm import pso\n",
    "from scipy.optimize import minimize\n"
   ]
  },
  {
   "cell_type": "code",
   "execution_count": 466,
   "outputs": [],
   "source": [
    "chips_data = pd.read_csv(\"chips.csv\", header=None)[1:]\n",
    "chips_X = chips_data.loc[:, 0:1]\n",
    "chips_y = np.where(chips_data.loc[:, 2] == 'P', 1, -1).astype(np.int8)"
   ],
   "metadata": {
    "collapsed": false,
    "pycharm": {
     "name": "#%%\n"
    }
   }
  },
  {
   "cell_type": "code",
   "execution_count": 467,
   "outputs": [],
   "source": [
    "geyser_data = pd.read_csv(\"geyser.csv\", header=None)[1:]\n",
    "geyser_X = geyser_data.loc[:, 0:1]\n",
    "geyser_y = np.where(geyser_data.loc[:, 2] == 'P', 1, -1).astype(np.int8)"
   ],
   "metadata": {
    "collapsed": false,
    "pycharm": {
     "name": "#%%\n"
    }
   }
  },
  {
   "cell_type": "code",
   "execution_count": 468,
   "outputs": [],
   "source": [
    "class SVM:\n",
    "    X_train = None\n",
    "    y_train = None\n",
    "    X_test = None\n",
    "    y_test = None\n",
    "\n",
    "    def fit(self, X, y, kernel_name='linear', C=10):\n",
    "        self.X_train = np.array(X, dtype=np.float)\n",
    "        self.y_train = np.array(y)\n",
    "        self.N_train = self.X_train.shape[0]\n",
    "        self.k_train = self.X_train.shape[1]\n",
    "        self.C = C\n",
    "        self.w = np.random.sample(self.k_train)\n",
    "        self.w0 = np.random.random()\n",
    "        self.__train__()\n",
    "\n",
    "\n",
    "    def predict(self, X):\n",
    "        return np.sign(self.K(X))\n",
    "\n",
    "    def M(self, X):\n",
    "        return self.w @ X.T - self.w0\n",
    "\n",
    "    def __possitive_cut__(self, x):\n",
    "        return (x + np.abs(x))/2\n",
    "\n",
    "    def K(self, X=None, w=None, w0=None):\n",
    "        X = X if X is not None else self.X_train\n",
    "        w = w if w is not None else self.w\n",
    "        w0 = w0 if w0 is not None else self.w0\n",
    "        return w @ X.T - w0\n",
    "        # return np.exp(-(w - X)**2).sum(axis=1) - w0\n",
    "\n",
    "\n",
    "    def __opt_func__(self, lamd):\n",
    "        a = lamd.reshape((-1,1))\n",
    "        b = self.y_train.reshape((-1,1))\n",
    "        # M = self.y_train * (lamd[0:2] @ self.X_train.T - lamd[2])\n",
    "        M = self.y_train * self.K(w=lamd[0:2], w0=lamd[2])\n",
    "        return self.__possitive_cut__(1 - M).sum() + .5/self.C * np.linalg.norm(lamd[0:2], 2)\n",
    "        # return .5 * (a*a.T * b*b.T * (self.X_train @ self.X_train.T)).sum() - a.sum()\n",
    "\n",
    "    def __constraints__(self, lamd):\n",
    "        return lamd - (lamd*self.y_train).sum()\n",
    "\n",
    "    def __train__(self):\n",
    "        ub = np.full(self.N_train, self.C)\n",
    "        lb = np.full(self.N_train, 0)\n",
    "        lamd_init = np.random.sample(self.N_train) * self.C\n",
    "        bounds = np.full((self.N_train, 2), (0, self.C))\n",
    "        constraints = (\n",
    "            {\n",
    "                'type': 'eq', 'fun': self.__constraints__\n",
    "            }\n",
    "        )\n",
    "        # lamd, fopt = pso(self.__opt_func__, lb=lb, ub=ub, f_ieqcons=self.__constraints__, swarmsize=100, maxiter=100)\n",
    "        print(np.hstack((self.w, self.w0)))\n",
    "        res = minimize(self.__opt_func__, np.hstack((self.w, self.w0)))\n",
    "        print(res)\n",
    "        self.w = res.x[0:2]\n",
    "        self.w0 = res.x[2]\n",
    "        print(self.w)\n",
    "        print(self.w0)\n",
    "        # lamd = res.x\n",
    "        # self.w = np.array([(lamd * self.y_train * self.X_train[:, 0]).sum(axis=0), (lamd * self.y_train * self.X_train[:, 1]).sum(axis=0)])\n",
    "        # print((lamd*self.y_train).sum())\n",
    "        # print(self.w.shape, self.w)\n",
    "        # print(self.w @ self.X_train.T)\n",
    "        # print(self.w0)\n",
    "        # print(self.w @ self.X_train.T - self.w0)\n",
    "        # print(self.M(self.X_train))\n",
    "        # iter = np.squeeze(np.where(np.all([( self.M(self.X_train) * self.y_train) == 1, lamd>0], axis=0)))[0]\n",
    "        # self.w0 = self.w @ self.X_train[iter].T - self.y_train[iter]\n",
    "\n",
    "    def visualize(self, X=None, y=None):\n",
    "        X = X or self.X_test or self.X_train\n",
    "        y = y or self.y_test or self.y_train\n",
    "        xx, yy = np.meshgrid(np.linspace(X[:,0].min() - 1, X[:,0].max() + 1, 1000), np.linspace(X[:,1].min() - 1, X[:,1].max() + 1, 1000))\n",
    "        pred = self.predict(np.c_[xx.ravel(), yy.ravel()])\n",
    "        pred = pred.reshape(xx.shape)\n",
    "        pred[pred == -1] = 0.\n",
    "        pred = pred.astype(np.int8)\n",
    "\n",
    "        plt.pcolormesh(xx, yy, pred, cmap=ListedColormap(['#AAAAFF','#FFAFAF']))\n",
    "\n",
    "        plt.scatter(X[:,0], X[:,1], c=y)\n",
    "        plt.xlabel('$x_1$')\n",
    "        plt.ylabel('$x_2$')\n",
    "        plt.show()\n"
   ],
   "metadata": {
    "collapsed": false,
    "pycharm": {
     "name": "#%%\n"
    }
   }
  },
  {
   "cell_type": "code",
   "execution_count": 469,
   "outputs": [
    {
     "name": "stdout",
     "output_type": "stream",
     "text": [
      "[0.40810433 0.96272262 0.71965335]\n",
      "      fun: 55.13541949211335\n",
      " hess_inv: array([[ 5.52923517e-04, -8.93440823e-03, -2.61486885e-02],\n",
      "       [-8.93440823e-03,  1.82055145e-01,  5.44784002e-01],\n",
      "       [-2.61486885e-02,  5.44784002e-01,  1.63806244e+00]])\n",
      "      jac: array([ 7.00122786,  3.05001545, -0.76840878])\n",
      "  message: 'Desired error not necessarily achieved due to precision loss.'\n",
      "     nfev: 320\n",
      "      nit: 15\n",
      "     njev: 77\n",
      "   status: 2\n",
      "  success: False\n",
      "        x: array([ 0.03525385, -1.43483369, -4.26486366])\n",
      "[ 0.03525385 -1.43483369]\n",
      "-4.26486365690788\n"
     ]
    },
    {
     "name": "stderr",
     "output_type": "stream",
     "text": [
      "<ipython-input-468-887e62eaa699>:84: MatplotlibDeprecationWarning: shading='flat' when X and Y have the same dimensions as C is deprecated since 3.3.  Either specify the corners of the quadrilaterals with X and Y, or pass shading='auto', 'nearest' or 'gouraud', or set rcParams['pcolor.shading'].  This will become an error two minor releases later.\n",
      "  plt.pcolormesh(xx, yy, pred, cmap=ListedColormap(['#AAAAFF','#FFAFAF']))\n"
     ]
    },
    {
     "data": {
      "text/plain": "<Figure size 432x288 with 1 Axes>",
      "image/png": "[encoded data removed]"
     },
     "metadata": {
      "needs_background": "light"
     },
     "output_type": "display_data"
    }
   ],
   "source": [
    "svm = SVM()\n",
    "svm.fit(geyser_X, geyser_y)\n",
    "svm.visualize()\n",
    "# print(svm.predict(np.array(geyser_X, dtype=np.float)))\n",
    "# print(geyser_y)"
   ],
   "metadata": {
    "collapsed": false,
    "pycharm": {
     "name": "#%%\n"
    }
   }
  }
 ],
 "metadata": {
  "kernelspec": {
   "display_name": "Python 3",
   "language": "python",
   "name": "python3"
  },
  "language_info": {
   "codemirror_mode": {
    "name": "ipython",
    "version": 2
   },
   "file_extension": ".py",
   "mimetype": "text/x-python",
   "name": "python",
   "nbconvert_exporter": "python",
   "pygments_lexer": "ipython2",
   "version": "2.7.6"
  }
 },
 "nbformat": 4,
 "nbformat_minor": 0
}